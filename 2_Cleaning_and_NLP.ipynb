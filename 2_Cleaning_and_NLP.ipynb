{
 "cells": [
  {
   "cell_type": "markdown",
   "metadata": {},
   "source": [
    "## Project Name: CSML1010 NLP Course Project - Part 1 - Proposal): Problem, Dataset,  and Exploratory Data Analysis\n",
    "#### Authors (Group3): Paul Doucet, Jerry Khidaroo"
   ]
  },
  {
   "cell_type": "markdown",
   "metadata": {},
   "source": [
    "#### 2. Data Clean-up and NLP Notebook\n",
    "\n",
    "This notebook will review the Data Cleaning tasks performed as part of our project proposal:\n",
    "- <a href='#Categorize_Groups'>__Categorize Groups__</a>\n",
    "- <a href='#Connect_to_Database'>__Connect to Database__</a>\n",
    "- <a href='#Cleaning_the_Dataset_for_NLP'>__Cleaning the Dataset for NLP__</a>\n",
    "- <a href='#NLP'>__NLP__</a>\n",
    "- <a href='#Store_to_Database'>__Store to Database__</a>\n"
   ]
  },
  {
   "cell_type": "markdown",
   "metadata": {},
   "source": [
    "---"
   ]
  },
  {
   "cell_type": "markdown",
   "metadata": {},
   "source": [
    "<a id='Categorize_Groups'></a>\n",
    "## Categorize Groups"
   ]
  },
  {
   "cell_type": "code",
   "execution_count": 1,
   "metadata": {},
   "outputs": [],
   "source": [
    "import pandas as pd"
   ]
  },
  {
   "cell_type": "code",
   "execution_count": 2,
   "metadata": {},
   "outputs": [],
   "source": [
    "# Import CSV\n",
    "df = pd.read_csv(\"./data/DF_selfDialogs.csv\")"
   ]
  },
  {
   "cell_type": "code",
   "execution_count": 3,
   "metadata": {},
   "outputs": [
    {
     "output_type": "stream",
     "name": "stdout",
     "text": "Instruction_id\nauto-repair-appt-1    1161\ncoffee-ordering-1      735\ncoffee-ordering-2      641\nmovie-finder            54\nmovie-ticket-1          37\nmovie-tickets-1        642\nmovie-tickets-2        377\nmovie-tickets-3        195\npizza-ordering-1       257\npizza-ordering-2      1211\nrestaurant-table-1     704\nrestaurant-table-2     494\nrestaurant-table-3     102\nuber-lyft-1            646\nuber-lyft-2            452\ndtype: int64\n"
    }
   ],
   "source": [
    "print (df.groupby('Instruction_id').size())"
   ]
  },
  {
   "cell_type": "markdown",
   "metadata": {},
   "source": [
    "We need to fix the 37 movie-ticket-1 instruction_ids"
   ]
  },
  {
   "cell_type": "code",
   "execution_count": 4,
   "metadata": {},
   "outputs": [],
   "source": [
    "df = df.replace(['movie-ticket-1'], 'movie-tickets-1')"
   ]
  },
  {
   "cell_type": "code",
   "execution_count": 5,
   "metadata": {},
   "outputs": [
    {
     "output_type": "stream",
     "name": "stdout",
     "text": "Instruction_id\nauto-repair-appt-1    1161\ncoffee-ordering-1      735\ncoffee-ordering-2      641\nmovie-finder            54\nmovie-tickets-1        679\nmovie-tickets-2        377\nmovie-tickets-3        195\npizza-ordering-1       257\npizza-ordering-2      1211\nrestaurant-table-1     704\nrestaurant-table-2     494\nrestaurant-table-3     102\nuber-lyft-1            646\nuber-lyft-2            452\ndtype: int64\n"
    }
   ],
   "source": [
    "print (df.groupby('Instruction_id').size())"
   ]
  },
  {
   "cell_type": "markdown",
   "metadata": {},
   "source": [
    "Add the Service Type as a column (i.e. auto, coffee, movie, etc.)"
   ]
  },
  {
   "cell_type": "code",
   "execution_count": 6,
   "metadata": {},
   "outputs": [
    {
     "output_type": "stream",
     "name": "stdout",
     "text": "service_type\nauto          1161\ncoffee        1376\nmovie         1305\npizza         1468\nrestaurant    1300\nuber          1098\ndtype: int64\n"
    }
   ],
   "source": [
    "df['service_type'] = df['Instruction_id'].str.split('-',expand=True)[0]\n",
    "print (df.groupby('service_type').size())"
   ]
  },
  {
   "cell_type": "code",
   "execution_count": 7,
   "metadata": {},
   "outputs": [
    {
     "output_type": "execute_result",
     "data": {
      "text/plain": "                                            id  \\\n0     dlg-00055f4e-4a46-48bf-8d99-4e477663eb23   \n1     dlg-0009352b-de51-474b-9f13-a2b0b2481546   \n2     dlg-00123c7b-15a0-4f21-9002-a2509149ee2d   \n3     dlg-0013673c-31c6-4565-8fac-810e173a5c53   \n4     dlg-001d8bb1-6f25-4ecd-986a-b7eeb5fa4e19   \n...                                        ...   \n7703  dlg-ffc0c5fb-573f-40e0-b739-0e55d84100e8   \n7704  dlg-ffc87550-389a-432e-927e-9a9438fc4f1f   \n7705  dlg-ffcd1d53-c080-4acf-897d-48236513bc58   \n7706  dlg-ffd9db94-36e3-4534-b99d-89f7560db17c   \n7707  dlg-fffa6565-32bb-4592-8d30-fff66df29633   \n\n                                           Conversation      Instruction_id  \\\n0     Hi, I'm looking to book a table for Korean fod...  restaurant-table-2   \n1     Hi I would like to see if the Movie What Men W...     movie-tickets-1   \n2     I want to watch avengers endgame where do you ...     movie-tickets-3   \n3     I want to order a pizza from Bertuccis in Chel...    pizza-ordering-2   \n4     Hi I'd like to order two large pizzas. Sure, w...    pizza-ordering-2   \n...                                                 ...                 ...   \n7703  I feel like eating at a nice restaurant tonigh...  restaurant-table-1   \n7704  Hi Sally, I need a Grande iced Americano with ...   coffee-ordering-2   \n7705  Good afternoon. I would like to order a pizza ...    pizza-ordering-2   \n7706  Hey. I'm thinking of seeing What Men Want toni...     movie-tickets-1   \n7707  Hello. Can you help me purchase a couple of mo...     movie-tickets-3   \n\n     service_type  \n0      restaurant  \n1           movie  \n2           movie  \n3           pizza  \n4           pizza  \n...           ...  \n7703   restaurant  \n7704       coffee  \n7705        pizza  \n7706        movie  \n7707        movie  \n\n[7708 rows x 4 columns]",
      "text/html": "<div>\n<style scoped>\n    .dataframe tbody tr th:only-of-type {\n        vertical-align: middle;\n    }\n\n    .dataframe tbody tr th {\n        vertical-align: top;\n    }\n\n    .dataframe thead th {\n        text-align: right;\n    }\n</style>\n<table border=\"1\" class=\"dataframe\">\n  <thead>\n    <tr style=\"text-align: right;\">\n      <th></th>\n      <th>id</th>\n      <th>Conversation</th>\n      <th>Instruction_id</th>\n      <th>service_type</th>\n    </tr>\n  </thead>\n  <tbody>\n    <tr>\n      <th>0</th>\n      <td>dlg-00055f4e-4a46-48bf-8d99-4e477663eb23</td>\n      <td>Hi, I'm looking to book a table for Korean fod...</td>\n      <td>restaurant-table-2</td>\n      <td>restaurant</td>\n    </tr>\n    <tr>\n      <th>1</th>\n      <td>dlg-0009352b-de51-474b-9f13-a2b0b2481546</td>\n      <td>Hi I would like to see if the Movie What Men W...</td>\n      <td>movie-tickets-1</td>\n      <td>movie</td>\n    </tr>\n    <tr>\n      <th>2</th>\n      <td>dlg-00123c7b-15a0-4f21-9002-a2509149ee2d</td>\n      <td>I want to watch avengers endgame where do you ...</td>\n      <td>movie-tickets-3</td>\n      <td>movie</td>\n    </tr>\n    <tr>\n      <th>3</th>\n      <td>dlg-0013673c-31c6-4565-8fac-810e173a5c53</td>\n      <td>I want to order a pizza from Bertuccis in Chel...</td>\n      <td>pizza-ordering-2</td>\n      <td>pizza</td>\n    </tr>\n    <tr>\n      <th>4</th>\n      <td>dlg-001d8bb1-6f25-4ecd-986a-b7eeb5fa4e19</td>\n      <td>Hi I'd like to order two large pizzas. Sure, w...</td>\n      <td>pizza-ordering-2</td>\n      <td>pizza</td>\n    </tr>\n    <tr>\n      <th>...</th>\n      <td>...</td>\n      <td>...</td>\n      <td>...</td>\n      <td>...</td>\n    </tr>\n    <tr>\n      <th>7703</th>\n      <td>dlg-ffc0c5fb-573f-40e0-b739-0e55d84100e8</td>\n      <td>I feel like eating at a nice restaurant tonigh...</td>\n      <td>restaurant-table-1</td>\n      <td>restaurant</td>\n    </tr>\n    <tr>\n      <th>7704</th>\n      <td>dlg-ffc87550-389a-432e-927e-9a9438fc4f1f</td>\n      <td>Hi Sally, I need a Grande iced Americano with ...</td>\n      <td>coffee-ordering-2</td>\n      <td>coffee</td>\n    </tr>\n    <tr>\n      <th>7705</th>\n      <td>dlg-ffcd1d53-c080-4acf-897d-48236513bc58</td>\n      <td>Good afternoon. I would like to order a pizza ...</td>\n      <td>pizza-ordering-2</td>\n      <td>pizza</td>\n    </tr>\n    <tr>\n      <th>7706</th>\n      <td>dlg-ffd9db94-36e3-4534-b99d-89f7560db17c</td>\n      <td>Hey. I'm thinking of seeing What Men Want toni...</td>\n      <td>movie-tickets-1</td>\n      <td>movie</td>\n    </tr>\n    <tr>\n      <th>7707</th>\n      <td>dlg-fffa6565-32bb-4592-8d30-fff66df29633</td>\n      <td>Hello. Can you help me purchase a couple of mo...</td>\n      <td>movie-tickets-3</td>\n      <td>movie</td>\n    </tr>\n  </tbody>\n</table>\n<p>7708 rows × 4 columns</p>\n</div>"
     },
     "metadata": {},
     "execution_count": 7
    }
   ],
   "source": [
    "df"
   ]
  },
  {
   "cell_type": "markdown",
   "metadata": {},
   "source": [
    "<a id='Connect_to_Database'></a>\n",
    "## Connect to Database"
   ]
  },
  {
   "cell_type": "code",
   "execution_count": 8,
   "metadata": {},
   "outputs": [],
   "source": [
    "import sqlite3\n",
    "con = sqlite3.connect('selfdialogs.db')"
   ]
  },
  {
   "cell_type": "markdown",
   "metadata": {},
   "source": [
    "<a id='Cleaning_the_Dataset_for_NLP'></a>\n",
    "## Cleaning the Dataset for NLP"
   ]
  },
  {
   "cell_type": "markdown",
   "metadata": {},
   "source": [
    "Cleaning Function"
   ]
  },
  {
   "cell_type": "code",
   "execution_count": 9,
   "metadata": {},
   "outputs": [],
   "source": [
    "import re\n",
    "def clean(s):\n",
    "    s = s.replace(r'<lb>', \"\\n\")\n",
    "    s = s.replace(r'<tab>', \"\\i\")\n",
    "    s = re.sub(r'<br */*>', \"\\n\", s)\n",
    "    s = s.replace(\"&lt;\", \"<\").replace(\"&gt;\", \">\").replace(\"&amp;\", \"&\")\n",
    "    s = s.replace(\"&amp;\", \"&\")\n",
    "    # markdown urls\n",
    "    s = re.sub(r'\\(https*://[^\\)]*\\)', \"\", s)\n",
    "    # normal urls\n",
    "    s = re.sub(r'https*://[^\\s]*', \"\", s)\n",
    "    s = re.sub(r'_+', ' ', s)\n",
    "    s = re.sub(r'\"+', '\"', s)\n",
    "    return str(s)"
   ]
  },
  {
   "cell_type": "code",
   "execution_count": 10,
   "metadata": {},
   "outputs": [],
   "source": [
    "df[\"selfdialog_clean\"] = ''"
   ]
  },
  {
   "cell_type": "markdown",
   "metadata": {},
   "source": [
    "Iterate and Clean"
   ]
  },
  {
   "cell_type": "code",
   "execution_count": 11,
   "metadata": {},
   "outputs": [],
   "source": [
    "for i, row in df.iterrows():\n",
    "    df.at[i, \"selfdialog_clean\"] = clean(row.Conversation)"
   ]
  },
  {
   "cell_type": "code",
   "execution_count": 12,
   "metadata": {},
   "outputs": [
    {
     "output_type": "execute_result",
     "data": {
      "text/plain": "                                         id  \\\n0  dlg-00055f4e-4a46-48bf-8d99-4e477663eb23   \n1  dlg-0009352b-de51-474b-9f13-a2b0b2481546   \n2  dlg-00123c7b-15a0-4f21-9002-a2509149ee2d   \n3  dlg-0013673c-31c6-4565-8fac-810e173a5c53   \n4  dlg-001d8bb1-6f25-4ecd-986a-b7eeb5fa4e19   \n\n                                        Conversation      Instruction_id  \\\n0  Hi, I'm looking to book a table for Korean fod...  restaurant-table-2   \n1  Hi I would like to see if the Movie What Men W...     movie-tickets-1   \n2  I want to watch avengers endgame where do you ...     movie-tickets-3   \n3  I want to order a pizza from Bertuccis in Chel...    pizza-ordering-2   \n4  Hi I'd like to order two large pizzas. Sure, w...    pizza-ordering-2   \n\n  service_type                                   selfdialog_clean  \n0   restaurant  Hi, I'm looking to book a table for Korean fod...  \n1        movie  Hi I would like to see if the Movie What Men W...  \n2        movie  I want to watch avengers endgame where do you ...  \n3        pizza  I want to order a pizza from Bertuccis in Chel...  \n4        pizza  Hi I'd like to order two large pizzas. Sure, w...  ",
      "text/html": "<div>\n<style scoped>\n    .dataframe tbody tr th:only-of-type {\n        vertical-align: middle;\n    }\n\n    .dataframe tbody tr th {\n        vertical-align: top;\n    }\n\n    .dataframe thead th {\n        text-align: right;\n    }\n</style>\n<table border=\"1\" class=\"dataframe\">\n  <thead>\n    <tr style=\"text-align: right;\">\n      <th></th>\n      <th>id</th>\n      <th>Conversation</th>\n      <th>Instruction_id</th>\n      <th>service_type</th>\n      <th>selfdialog_clean</th>\n    </tr>\n  </thead>\n  <tbody>\n    <tr>\n      <th>0</th>\n      <td>dlg-00055f4e-4a46-48bf-8d99-4e477663eb23</td>\n      <td>Hi, I'm looking to book a table for Korean fod...</td>\n      <td>restaurant-table-2</td>\n      <td>restaurant</td>\n      <td>Hi, I'm looking to book a table for Korean fod...</td>\n    </tr>\n    <tr>\n      <th>1</th>\n      <td>dlg-0009352b-de51-474b-9f13-a2b0b2481546</td>\n      <td>Hi I would like to see if the Movie What Men W...</td>\n      <td>movie-tickets-1</td>\n      <td>movie</td>\n      <td>Hi I would like to see if the Movie What Men W...</td>\n    </tr>\n    <tr>\n      <th>2</th>\n      <td>dlg-00123c7b-15a0-4f21-9002-a2509149ee2d</td>\n      <td>I want to watch avengers endgame where do you ...</td>\n      <td>movie-tickets-3</td>\n      <td>movie</td>\n      <td>I want to watch avengers endgame where do you ...</td>\n    </tr>\n    <tr>\n      <th>3</th>\n      <td>dlg-0013673c-31c6-4565-8fac-810e173a5c53</td>\n      <td>I want to order a pizza from Bertuccis in Chel...</td>\n      <td>pizza-ordering-2</td>\n      <td>pizza</td>\n      <td>I want to order a pizza from Bertuccis in Chel...</td>\n    </tr>\n    <tr>\n      <th>4</th>\n      <td>dlg-001d8bb1-6f25-4ecd-986a-b7eeb5fa4e19</td>\n      <td>Hi I'd like to order two large pizzas. Sure, w...</td>\n      <td>pizza-ordering-2</td>\n      <td>pizza</td>\n      <td>Hi I'd like to order two large pizzas. Sure, w...</td>\n    </tr>\n  </tbody>\n</table>\n</div>"
     },
     "metadata": {},
     "execution_count": 12
    }
   ],
   "source": [
    "df.head()"
   ]
  },
  {
   "cell_type": "markdown",
   "metadata": {},
   "source": [
    "<a id='NLP'></a>\n",
    "## NLP"
   ]
  },
  {
   "cell_type": "code",
   "execution_count": 13,
   "metadata": {},
   "outputs": [],
   "source": [
    "import spacy\n",
    "nlp = spacy.load('en_vectors_web_lg')"
   ]
  },
  {
   "cell_type": "markdown",
   "metadata": {},
   "source": [
    "Iterate and Perform NLP"
   ]
  },
  {
   "cell_type": "code",
   "execution_count": 14,
   "metadata": {},
   "outputs": [
    {
     "output_type": "stream",
     "name": "stdout",
     "text": "0\n1000\n2000\n3000\n4000\n5000\n6000\n7000\n"
    }
   ],
   "source": [
    "for i, row in df.iterrows():\n",
    "    if i % 1000 == 0:\n",
    "        print(i)\n",
    "    if(row[\"selfdialog_clean\"] and len(str(row[\"selfdialog_clean\"])) < 1000000):\n",
    "        doc = nlp(str(row[\"selfdialog_clean\"]))\n",
    "        adjectives = []\n",
    "        nouns = []\n",
    "        verbs = []\n",
    "        lemmas = []\n",
    "\n",
    "        for token in doc:\n",
    "            lemmas.append(token.lemma_)\n",
    "            if token.pos_ == \"ADJ\":\n",
    "                adjectives.append(token.lemma_)\n",
    "            if token.pos_ == \"NOUN\" or token.pos_ == \"PROPN\":\n",
    "                nouns.append(token.lemma_)\n",
    "            if token.pos_ == \"VERB\":\n",
    "                verbs.append(token.lemma_)\n",
    "                \n",
    "        df.at[i, \"selfdialog_lemma\"] = \" \".join(lemmas)                \n",
    "        df.at[i, \"selfdialog_nouns\"] = \" \".join(nouns)\n",
    "        df.at[i, \"selfdialog_adjectives\"] = \" \".join(adjectives)\n",
    "        df.at[i, \"selfdialog_verbs\"] = \" \".join(verbs)\n",
    "        df.at[i, \"selfdialog_nav\"] = \" \".join(nouns+adjectives+verbs)\n",
    "        df.at[i, \"no_tokens\"] = len(lemmas)"
   ]
  },
  {
   "cell_type": "code",
   "execution_count": 15,
   "metadata": {},
   "outputs": [
    {
     "output_type": "execute_result",
     "data": {
      "text/plain": "                                         id  \\\n0  dlg-00055f4e-4a46-48bf-8d99-4e477663eb23   \n1  dlg-0009352b-de51-474b-9f13-a2b0b2481546   \n2  dlg-00123c7b-15a0-4f21-9002-a2509149ee2d   \n3  dlg-0013673c-31c6-4565-8fac-810e173a5c53   \n4  dlg-001d8bb1-6f25-4ecd-986a-b7eeb5fa4e19   \n\n                                        Conversation      Instruction_id  \\\n0  Hi, I'm looking to book a table for Korean fod...  restaurant-table-2   \n1  Hi I would like to see if the Movie What Men W...     movie-tickets-1   \n2  I want to watch avengers endgame where do you ...     movie-tickets-3   \n3  I want to order a pizza from Bertuccis in Chel...    pizza-ordering-2   \n4  Hi I'd like to order two large pizzas. Sure, w...    pizza-ordering-2   \n\n  service_type                                   selfdialog_clean  \\\n0   restaurant  Hi, I'm looking to book a table for Korean fod...   \n1        movie  Hi I would like to see if the Movie What Men W...   \n2        movie  I want to watch avengers endgame where do you ...   \n3        pizza  I want to order a pizza from Bertuccis in Chel...   \n4        pizza  Hi I'd like to order two large pizzas. Sure, w...   \n\n                                    selfdialog_lemma selfdialog_nouns  \\\n0  Hi , -PRON- be looking to book a table for Kor...                    \n1  Hi I would like to see if the Movie What Men W...                    \n2  I want to watch avengers endgame where do you ...                    \n3  I want to order a pizza from Bertuccis in Chel...                    \n4  Hi -PRON- would like to order two large pizzas...                    \n\n  selfdialog_adjectives              selfdialog_verbs  \\\n0                                                 can   \n1                                                       \n2                                                       \n3                                                       \n4                        would will would would would   \n\n                 selfdialog_nav  no_tokens  \n0                           can      192.0  \n1                                    236.0  \n2                                    150.0  \n3                                    155.0  \n4  would will would would would      257.0  ",
      "text/html": "<div>\n<style scoped>\n    .dataframe tbody tr th:only-of-type {\n        vertical-align: middle;\n    }\n\n    .dataframe tbody tr th {\n        vertical-align: top;\n    }\n\n    .dataframe thead th {\n        text-align: right;\n    }\n</style>\n<table border=\"1\" class=\"dataframe\">\n  <thead>\n    <tr style=\"text-align: right;\">\n      <th></th>\n      <th>id</th>\n      <th>Conversation</th>\n      <th>Instruction_id</th>\n      <th>service_type</th>\n      <th>selfdialog_clean</th>\n      <th>selfdialog_lemma</th>\n      <th>selfdialog_nouns</th>\n      <th>selfdialog_adjectives</th>\n      <th>selfdialog_verbs</th>\n      <th>selfdialog_nav</th>\n      <th>no_tokens</th>\n    </tr>\n  </thead>\n  <tbody>\n    <tr>\n      <th>0</th>\n      <td>dlg-00055f4e-4a46-48bf-8d99-4e477663eb23</td>\n      <td>Hi, I'm looking to book a table for Korean fod...</td>\n      <td>restaurant-table-2</td>\n      <td>restaurant</td>\n      <td>Hi, I'm looking to book a table for Korean fod...</td>\n      <td>Hi , -PRON- be looking to book a table for Kor...</td>\n      <td></td>\n      <td></td>\n      <td>can</td>\n      <td>can</td>\n      <td>192.0</td>\n    </tr>\n    <tr>\n      <th>1</th>\n      <td>dlg-0009352b-de51-474b-9f13-a2b0b2481546</td>\n      <td>Hi I would like to see if the Movie What Men W...</td>\n      <td>movie-tickets-1</td>\n      <td>movie</td>\n      <td>Hi I would like to see if the Movie What Men W...</td>\n      <td>Hi I would like to see if the Movie What Men W...</td>\n      <td></td>\n      <td></td>\n      <td></td>\n      <td></td>\n      <td>236.0</td>\n    </tr>\n    <tr>\n      <th>2</th>\n      <td>dlg-00123c7b-15a0-4f21-9002-a2509149ee2d</td>\n      <td>I want to watch avengers endgame where do you ...</td>\n      <td>movie-tickets-3</td>\n      <td>movie</td>\n      <td>I want to watch avengers endgame where do you ...</td>\n      <td>I want to watch avengers endgame where do you ...</td>\n      <td></td>\n      <td></td>\n      <td></td>\n      <td></td>\n      <td>150.0</td>\n    </tr>\n    <tr>\n      <th>3</th>\n      <td>dlg-0013673c-31c6-4565-8fac-810e173a5c53</td>\n      <td>I want to order a pizza from Bertuccis in Chel...</td>\n      <td>pizza-ordering-2</td>\n      <td>pizza</td>\n      <td>I want to order a pizza from Bertuccis in Chel...</td>\n      <td>I want to order a pizza from Bertuccis in Chel...</td>\n      <td></td>\n      <td></td>\n      <td></td>\n      <td></td>\n      <td>155.0</td>\n    </tr>\n    <tr>\n      <th>4</th>\n      <td>dlg-001d8bb1-6f25-4ecd-986a-b7eeb5fa4e19</td>\n      <td>Hi I'd like to order two large pizzas. Sure, w...</td>\n      <td>pizza-ordering-2</td>\n      <td>pizza</td>\n      <td>Hi I'd like to order two large pizzas. Sure, w...</td>\n      <td>Hi -PRON- would like to order two large pizzas...</td>\n      <td></td>\n      <td></td>\n      <td>would will would would would</td>\n      <td>would will would would would</td>\n      <td>257.0</td>\n    </tr>\n  </tbody>\n</table>\n</div>"
     },
     "metadata": {},
     "execution_count": 15
    }
   ],
   "source": [
    "df.head()"
   ]
  },
  {
   "cell_type": "markdown",
   "metadata": {},
   "source": [
    "<a id='Store_to_Database'></a>\n",
    "## Store to Database"
   ]
  },
  {
   "cell_type": "code",
   "execution_count": 16,
   "metadata": {},
   "outputs": [],
   "source": [
    "df.to_sql('posts_nlp', con, if_exists='replace')"
   ]
  },
  {
   "cell_type": "code",
   "execution_count": null,
   "metadata": {},
   "outputs": [],
   "source": []
  }
 ],
 "metadata": {
  "kernelspec": {
   "display_name": "Python 3",
   "language": "python",
   "name": "python3"
  },
  "language_info": {
   "codemirror_mode": {
    "name": "ipython",
    "version": 3
   },
   "file_extension": ".py",
   "mimetype": "text/x-python",
   "name": "python",
   "nbconvert_exporter": "python",
   "pygments_lexer": "ipython3",
   "version": "3.7.7-final"
  }
 },
 "nbformat": 4,
 "nbformat_minor": 4
}