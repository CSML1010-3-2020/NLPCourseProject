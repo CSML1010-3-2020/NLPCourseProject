{
 "cells": [
  {
   "cell_type": "code",
   "execution_count": 1,
   "metadata": {},
   "outputs": [],
   "source": [
    "import xml.etree.ElementTree as ET\n",
    "tree = ET.parse('704.sph')\n",
    "root = tree.getroot()"
   ]
  },
  {
   "cell_type": "code",
   "execution_count": 2,
   "metadata": {},
   "outputs": [
    {
     "output_type": "execute_result",
     "data": {
      "text/plain": "<xml.etree.ElementTree.ElementTree at 0x23184b13c48>"
     },
     "metadata": {},
     "execution_count": 2
    }
   ],
   "source": [
    "tree"
   ]
  },
  {
   "cell_type": "code",
   "execution_count": 4,
   "metadata": {},
   "outputs": [
    {
     "output_type": "stream",
     "name": "stdout",
     "text": "{http://www.sciemetric.com/namespace}single_part {}\n{http://www.sciemetric.com/namespace}binary_catalog {}\n"
    }
   ],
   "source": [
    "for child in root:\n",
    "    print(child.tag, child.attrib)"
   ]
  },
  {
   "cell_type": "code",
   "execution_count": 16,
   "metadata": {},
   "outputs": [],
   "source": [
    "File_object = open(\"704.sph\",\"rb\")"
   ]
  },
  {
   "cell_type": "code",
   "execution_count": 17,
   "metadata": {},
   "outputs": [],
   "source": [
    "BD = File_object.readlines()"
   ]
  },
  {
   "cell_type": "code",
   "execution_count": 18,
   "metadata": {},
   "outputs": [
    {
     "output_type": "execute_result",
     "data": {
      "text/plain": "AMFqPIABJDyAASQ8QIQ6PCC2kDzAC6w8gLG1\\r\\n',\n b'PICxtTxAwJg8YO2TPEDjizxA44s84DinPOA4pzwg2YM8gFJkPIAvcTxAG2E8gC9xPOChgDyA1Kg8\\r\\n',\n b'YKetPGCnrTygAaQ84H6NPADBajxAG2E8QBthPMBmdDwgtpA8ILaQPKAklzwgtpA84KGAPOChgDzg\\r\\n',\n b'oYA8gBqPPKBHijxgyqA8oEeKPOChgDzgoYA8gJhKPICYSjyAmEo8ILaQPGDKoDwAQ688AEOvPIDU\\r\\n',\n b'qDyAdVc8AAdRPAAHUTwAKkQ8QD5UPGAQhzwgtpA8ILaQPCC2kDyAGo88wHSFPADBajzArFo8wKxa\\r\\n',\n b'PEDVejxA1Xo8QNV6PED4bTwAwWo8AMFqPGAQhzyAGo88gBqPPIAajzzAz008gN4wPMAVNDzAFTQ8\\r\\n',\n b'4KGAPMB0hTxgEIc8wHSFPKBHijyAdVc8wM9NPMDPTTwAwWo8AMFqPEDVejwg2YM8INmDPADkXTwA\\r\\n',\n b'B1E8QGFHPABNNzxAYUc8QNV6PCDZgzwArIg8AKyIPMB0hTyAdVc8gJhKPIB1VzwAthA8gFJkPMB0\\r\\n',\n b'hTzAUZI8wHSFPACedzwA5F08AORdPEA+VDzAdIU8gFJkPIBSZDzAOCc8wH4NPMA4JzyAmEo8QBth\\r\\n',\n b'PIAajzxAwJg8QMCYPOB+jTyA3jA8AHAqPACt2jsArdo7wH4NPIABJDxgEIc8YBCHPGAQhzzgoYA8\\r\\n',\n b'AAdRPAAqRDwAKkQ8gAEkPIBHCjyARwo8wFsaPIDeMDzAz008INmDPOB+jTzgfo08QOOLPICYSjzA\\r\\n',\n b'8kA8gBvhOwDzwDuAG+E7gPjtO8A4JzxA1Xo8gBqPPOB+jTzgfo08wM9NPACTHTwAkx08gCQXPACT\\r\\n',\n b'HTyAJBc8wM9NPMDyQDzAz008wPJAPMDPTTzAFTQ8QBthPECnLTxApy08QNkDPACt2jtA2QM8gCQX\\r\\n',\n b'PABNNzyAL3E8AKyIPACsiDwAwWo8ALYQPABn9DsAiuc7AIrnO8B+DTxAyiA8gHVXPAAqRDwAKkQ8\\r\\n',\n b'QIQ6PMAVNDwAthA8wBU0PIC7PTyAuz08wDgnPACTHTwAthA8wH4NPMB+DTyAJBc8wPJAPMDyQDzA\\r\\n',\n b'iWc8QD5UPEA+VDyA1fo7ADmnOwAWtDsAFrQ7gEcKPMB+DTzAOCc8AMFqPECnLTxApy08gAEkPIAB\\r\\n',\n b'JDxA2QM8QNkDPIAkFzyAJBc8gCQXPIDV+jsAOac7ADmnO8B+DTwATTc8AMFqPADBajzAiWc8ALYQ\\r\\n',\n b'PIBHCjyAyqA7gMqgO0AQBzxAEAc8wFsaPIBHCjyARwo8gEcKPIBHCjxApy08QKctPECnLTzAOCc8\\r\\n',\n b'AIrnOwB/jTsAf407ANBNOwBcmjsAcCo8gLs9PACedzwAnnc8QPhtPEDKIDwAZ/Q7APPAOwBcGjsA\\r\\n',\n b'XBo7ABa0O0CnLTyAuz08wGZ0PMBmdDyAL3E8wIlnPAAHUTzAOCc8QO0TPEDZAzxA2QM8gKetO4Cn\\r\\n',\n b'rTtA+G08AJ53PID3mzyA95s8gPebPCDZgzyAUmQ8gJhKPABwKjyAmEo8gFJkPKBHijwgTbc8IE23\\r\\n',\n b'PCBwqjygJJc8YBCHPGAQhzwArIg8AImVPMAunzzgOKc84DinPOA4pzyA95s8IFe/PMDywDxAG+E8\\r\\n',\n b'QBvhPADk3TxAYcc8YI7CPEB6sjzAC6w8QHqyPGCOwjwAKsQ8YBAHPWAQBz3AdAU9AJ73PIAv8TwA\\r\\n',\n b'5N08AOTdPGBI3DwA5N08YCXpPIAv8TywTA498IMRPfCDET3wgxE9YO0TPWDtEz0w3gc9UAsDPVAL\\r\\n',\n b'Az1QCwM9IKj/PDDeBz0gthA9AIkVPWCJPj1giT490BU0PTCdJT2gKRs9UAsDPZAkFz1gEAc9kCQX\\r\\n',\n b'PeAaOD3gGjg94Bo4PWCsMT3QFTQ9YKwxPdAVND2g4zQ9oOM0PQBIMz0ASDM90BU0PfAfPD0AJUA9\\r\\n',\n b'MDRMPdDUUT3Q1FE9oJ1OPbDFRT2gwEE9MFc/PTBXPz1wjkI9UCBlPVAgZT2QV2g9EAdRPYB1Vz0Q\\r\\n',\n b'B1E9EAxVPRAMVT2wp1Y90I5rPbBhcD2wYXA9EMZuPXAqbT2gnU49oJ1OPcCsWj1A+G092A2FPdgN\\r\\n',\n b'hT04coM9UAuDPaBcbD0AwWo9IO5lPQDBaj3gcHw9yAiBPQAdkT0AHZE9AB2RPYA9gj3AdIU9oDl5\\r\\n',\n b'PZjWgT2Y1oE9mNaBPfCmhD3YDYU9CLGMPQAdkT1whpM9cIaTPWjylz2guJI9UHyLPXCphj2wb4E9\\r\\n',\n b'sG+BPeASiT3g75U9kJCbPZABpD2QAaQ9uC6fPTjAmD1o8pc9AB2RPRi2kD0AHZE9CI6ZPehgnj1A\\r\\n',\n b'oqk9SDalPUg2pT1gz6Q9cGOgPaCVnz1wY6A9oJWfPaCVnz2glZ89eGikPejRpj14aKQ9kN6wPXho\\r\\n',\n b'pD0QcKo90DinPdA4pz3QOKc9uJ+nPbALrD0QTbc9aB26Pfiztz34s7c94D2rPbifpz34ZaI9uJ+n\\r\\n',\n b'PZDesD1grLE9eJPGPXD/yj1w/8o98JDEPeiusz2A2aw9gNmsPfBCrz2Atrk9SGHHPbjKyT24ysk9\\r\\n',\n b'gCfCPYAnwj0467o9aB26PWgduj3wH7w9gCfCPWD6xj3QY8k9WGbLPXD/yj1w/8o9AJbIPZAsxj2Q\\r\\n',\n b'LMY9cP/KPXD/yj1YZss96IvAPVhmyz1oa889kAnTPWDX0z1g19M9qKLSPTg50D0Alsg9AJbIPdBj\\r\\n',\n b'yT2wNs49+N7ZPbAT2z0gfd09IH3dPVhD2D2Ync49mJ3OPcA70j0YDNU94EXaPeBF2j1wTeA9KBHZ\\r\\n',\n b'PQjk3T0I5N09iObfPYjm3z2I5t89oH/fPQjk3T0gfd09IH3dPQjk3T24GN89IO7lPcCJ5z2QV+g9\\r\\n',\n b'kFfoPZBX6D2o8Oc9mOvjPajw5z2QV+g9oFzsPViR7T2gXOw9gC/xPTDz6T249es92CLnPbj16z1Y\\r\\n',\n b'ke09+CzvPQgy8z0YN/c9CDLzPThk8j1A+O09QPjtPUD47T2wYfA9CDLzPaA5+T0wQf89MEH/Pdhw\\r\\n',\n b'/D2gOfk90Gv4Pdj/8z3Qa/g98An8PfAJ/D0Qo/s9KDz7PSg8+z0YqP89GKj/PVDVAD5Q1QA+UNUA\\r\\n',\n b'Phio/z3A1/w9KDz7PSg8+z3coQA+HNkDPujcBj6IeAg+iHgIPjg8AT6Qpf09qD79Pag+/T3wcAI+\\r\\n',\n b'eHMEPtBDBz4s3gc+0EMHPnSpBj54cwQ+eHMEPgB2Bj4AdgY+AHYGPtBDBz7QQwc+6NwGPujcBj7Q\\r\\n',\n b'Qwc+oBEIPuQSCT7kEgk+WEYJPgixDD4IsQw+CLEMPoSuCj7gSAs+iHgIPuBICz6IeAg+POMLPth+\\r\\n',\n b'DT7Yfg0+2H4NPngaDz68GxA+7E0PPuxNDz7A5Q0+nEcKPqARCD50qQY+oBEIPhi2ED6EVRU+ZCga\\r\\n',\n b'PmQoGj5o8hc+ME8QPmRLDT6IeAg+iHgIPnDfCD4E5w4+FOwSPiAnGT4YXRs+ICcZPuDvFT60hxQ+\\r\\n',\n b'XLcRPqSCED6kghA+GLYQPqC4Ej4ouxQ+QFQUPlxeHD70vhc+ICcZPlBZGD5QWRg+ECIVPhTsEj78\\r\\n',\n b'UhM+/FITPrC9Fj58wRk+dPcbPnAtHj5wLR4+GF0bPlBZGD68GxA+vBsQPhAiFT58wRk+FJMdPtzM\\r\\n',\n b'Ij7czCI+aJkiPmQoGj48ihY+oLgSPqC4Ej6YJBc+LCwdPjhnIz54niY+eJ4mPsj9ID5A+x4+NPYa\\r\\n',\n b'PvD0GT7w9Bk+2FsaPojGHT7gliA+xDMjPjSdJT4INSQ+CDUkPgz/IT6gXx0+wMIaPqBfHT6MkBs+\\r\\n',\n b'EMkfPoxtKD5cOyk+EHAqPhBwKj5kzyQ+CDUkPhhdGz4YXRs+AMQbPlxeHD4cBCY+bAorPgjcLj4I\\r\\n',\n b'3C4+JD8sPtzMIj4QyR8+QPsePkD7Hj6wZCE+1DgnPmwKKz5UcSs+bAorPkSiKT6kBig+1DgnPtgC\\r\\n',\n b'JT7YAiU+qNAlPnieJj641Sk+4D0rPrjVKT7gPSs+uNUpPpSoLj4kPyw+JD8sPjDTJz7s0SY+7NEm\\r\\n',\n b'PhBwKj6sQS4+2KkvPtipLz482Cs+uNUpPgChKD4AoSg+PNgrPrALLD4ssDQ+5OQ1PuTkNT6MFDM+\\r\\n',\n b'CNwuPmwKKz5sCis+uNUpPmwKKz7YqS8+XOIzPvizNz4gHDk++LM3PqStMj7AEDA+sAssPsikKz7I\\r\\n',\n b'pCs+UKctPpDeMD5UTjg+yIE4PsiBOD7IgTg+iEo1PiywND4cqzA+CNwuPgjcLj4I3C4+7HgxPqSt\\r\\n',\n b'Mj6EgDc+fLY5Pny2OT6s6Dg+bOc3PrxGMj7U3zE+vEYyPrxGMj5ESTQ+4Bo4PuAaOD6QhTs+SLo8\\r\\n',\n b'PpCFOz6s6Dg+6K4zPqStMj7orjM+FBc1PijmNj74szc+fLY5PtSGPD6Muz0+jLs9PgS5Oz5kHTo+\\r\\n',\n b'QH82PkB/Nj5AfzY+zEs2PsxLNj5MhDo+LFc/PqCKPz6gij8+nMBBPki6PD5s5zc+EE03PmznNz7w\\r\\n',\n b'6Tk+qB47PgDvPT7QvD4+oIo/PuSLQD7ki0A+YFM8PmBTPD4A7z0+AO89PjAhPT5gUzw+HFI7PjTr\\r\\n',\n b'Oj406zo+1IY8PjxcQz4IYEY+CGBGPiD5RT4Q9EE+0Lw+Pki6PD6oHjs+SLo8PhD0QT4g+UU+ZPpG\\r\\n',\n b'PmT6Rj48XEM+QCZBPkTwPj7Uhjw+RPA+PlT1Qj4IYEY+CGBGPiD5RT5QK0U+DCpEPgwqRD60WUE+\\r\\n',\n b'tFlBPrRZQT6cwEE+nMBBPlArRT6ULEY+LP5JPiz+ST4YL0g+VPVCPlT1Qj5AJkE+PFxDPjxcQz6w\\r\\n',\n b'j0M+MMhHPlwwST5w/0o+cP9KPqAxSj4wyEc+yChDPhD0QT4Q9EE+JMNDPghgRj6ImEo+cP9KPhCb\\r\\n',\n b'TD4Qm0w+iJhKPhgvSD4g+UU+aMREPiD5RT6ULEY+2C1HPrQATD48A04+PANOPvQ3Tz60AEw+tABM\\r\\n',\n b'PkxhRz6Y9kM+nMBBPpzAQT4s/kk+EJtMPpwOVz6cDlc+MKVUPiCgUD64ykk+lCxGPvwkQD78JEA+\\r\\n',\n b'rMVFPpxnTD7so1M+DHhZPgx4WT6k2FQ+UNJPPghgRj4g+UU+IPlFPuj8SD5oa08+aGtPPgQ9Uz4E\\r\\n',\n b'PVM+BD1TPmDXUz4M0U4+3J5PPjwDTj74AU0++AFNPvgBTT74AU0++AFNPjwDTj5g11M+jD9VPrSn\\r\\n',\n b'Vj6MP1U+7KNTPsjPTT74AU0++AFNPgzRTj44OVA+vHFUPhgMVT68cVQ+vHFUPkwIUj5MCFI+xAVQ\\r\\n',\n b'PhzWUj6QCVM+kAlTPhgMVT7Y1FE+MKVUPpTTUD4wpVQ+MKVUPjClVD6k2FQ+SD5UPqTYVD6oolI+\\r\\n',\n b'HNZSPhzWUj5g11M+1ApUPmDXUz5AdFY+YNdTPrSnVj48qlg+PKpYPmzcVz5cDVY+XA1WPrxxVD4E\\r\\n',\n b'PVM+BD1TPpAJUz68cVQ+vHFUPhBCVz7ErFo+eBdePsSsWj6w3Vg+XA1WPnhwUz6oolI+eHBTPmzc\\r\\n',\n b'Vz7cRVo+lHpbPpR6Wz6Aq1k+gKtZPsxAVj68cVQ+vHFUPmzcVz5s3Fc+VENYPkB0Vj4gR1s+gKtZ\\r\\n',\n b'PiBHWz68GF8+vBhfPmRIXD4kEVk+4A9YPmzcVz6cDlc+nA5XPoCrWT7wFFw+YH5ePmB+Xj4E5F0+\\r\\n',\n b'aBJaPgx4WT6YRFk+DHhZPkyvXD4cfV0+jOZfPozmXz6kf18+aBJaPjyqWD5cDVY+XA1WPhx9XT7o\\r\\n',\n b'gGA+EB9kPhAfZD4ouGM+jOZfPgBzVT4Ac1U+XA1WPtxFWj54F14+FOlhPii4Yz4ouGM+/E9iPgAa\\r\\n',\n b'YD4wTF8+lHpbPlB5Wj5QeVo+9N5ZPvTeWT5ctGA+iBxiPogcYj7AiWc+wIlnPtgiZz7ogGA+TK9c\\r\\n',\n b'PiQRWT4kEVk+aBJaPqC1YT6UIWY+8LtmPpQhZj6M5l8+jOZfPjBMXz7Ye1w+2HtcPuxKXj4wTF8+\\r\\n',\n b'RBthPkQbYT6EUmQ+hFJkPoRSZD40vWc+KLhjPqR/Xz7sSl4+7EpePngXXj54F14+zB1jPsCJZz68\\r\\n',\n b'v2k+vL9pPuzxaD5k72Y+dE1gPmB+Xj5gfl4+MExfPhizXz4IVWY+kFdoPuzxaD4AwWo+AMFqPhAf\\r\\n',\n b'ZD5Y6mI+FOlhPhTpYT5wg2I+rLplPqy6ZT6sumU+EB9kPjS9Zz7wu2Y+8LtmPvC7Zj7s8Wg+7PFo\\r\\n',\n b'PkxWZz5QIGU++IVkPviFZD74hWQ+ZO9mPjS9Zz6o8Gc+GFpqPhhaaj4YWmo+NL1nPiDuZT4g7mU+\\r\\n',\n b'IO5lPqjwZz5IjGk+XFtrPlxbaz4w82k+7PFoPghVZj5QIGU+UCBlPry/aT5cW2s+XFtrPrj1az6M\\r\\n',\n b'jWo+vL9pPmAlaT58iGY+wIlnPsCJZz5gJWk+6CdrPugnaz7Qjms+uPVrPrj1az649Ws+vL9pPghV\\r\\n',\n b'Zj6EUmQ+CFVmPkxWZz6Iw2w+VMdvPiSVcD6YyHA+mMhwPugnaz40vWc+NL1nPmTvZj4Ei2g+dPRq\\r\\n',\n b'PoT5bj48LnA+sGFwPrBhcD4Qxm4+dPRqPqQmaj7s8Wg+pCZqPsCJZz6kJmo+WJFtPszEbT4M/HA+\\r\\n',\n b'aJZxPgz8cD6wYXA+RMJrPgDBaj54vmg+TFZnPni+aD4Qxm4+hPluPkgzdD5IM3Q+rJdyPpjIcD6g\\r\\n',\n b'XGw+vL9pPry/aT4UkGw+/PZsPgz8cD4M/HA+UP1xPoAvcT6AL3E+WJFtPhSQbD5YkW0+bGBvPtzJ\\r\\n',\n b'cT7cyXE+PC5wPkTCaz6QV2g+kFdoPojDbD5A+G0+GAF1PizQdj4YAXU+7JhzPvgsbz74LG8+QPht\\r\\n',\n b'Pvz2bD789mw+cCptPmxgbz5Ux28+rJdyPjCadD4wmnQ+MJp0PmDMcz5Q/XE+VMdvPnAqbT6Iw2w+\\r\\n',\n b'iMNsPnAqbT7QNXY+0DV2Ppw5eT6MNHU+jDR1Pjhkcj74LG8+/PZsPvz2bD4oX24+DPxwPtA1dj4s\\r\\n',\n b'0HY+LNB2Pohqdz5IM3Q+UP1xPoT5bj6E+W4+hPluPsQwcj7EMHI+xDByPiDLcj7smHM+YMxzPnSb\\r\\n',\n b'dT5EaXY+dJt1PiDLcj44ZHI+OGRyPoT5bj4AaHU+GAF1PnSbdT5EaXY+FDd3PkRpdj4gy3I+xDBy\\r\\n',\n b'PvRicT70YnE+dJt1PnSbdT5EaXY+AGh1PgBodT4AaHU+AGh1PhQ3dz5w0Xc+cNF3PnDRdz7QNXY+\\r\\n',\n b'SDN0PsQwcj58ZXM+fGVzPnSbdT7Ma3g++NN5PvjTeT5cAnY+MJp0PlwCdj7QNXY+uJx2Pricdj64\\r\\n',\n b'nHY+uJx2PjCadD4UN3c+pM10PhQ3dz600ng+EG15PuA6ej7gOno+4Dp6PizQdj5IM3Q+3MlxPtzJ\\r\\n',\n b'cT4UN3c+nDl5Pmg9fD4I2X0+CNl9Pmg9fD5w0Xc+fGVzPnxlcz7U/3M+MJp0Plg4eD4QbXk+4Dp6\\r\\n',\n b'PjzVej6wCHs+gNZ7PrAIez7403k+iGp3PizQdj4AaHU+AGh1PmwHej7IoXo+IHJ9PvA/fj4gcn0+\\r\\n',\n b'mG97PujOdT4AaHU+AGh1Pvyddz78nXc+UKR8PmRzfj4gcn0+IHJ9PlCkfD6Yb3s+uJx2PhQ3dz4U\\r\\n',\n b'N3c+yKF6PpSlfT6odH8+qHR/Psihej4QbXk+5AR4PuQEeD4kPHs+DKN7PjwhgD48IYA+OAt9PjzV\\r\\n',\n b'ej4QbXk+EG15PhBteT7gOno+2KZ+Ptimfj4gcn0+9Al8Pgyjez4kPHs+DKN7PiQ8ez44C30+5AR4\\r\\n',\n b'PiQ8ez4kPHs+lKV9PnwMfj6odH8+ggeAPoIHgD4I2X0+aD18PoSgeT4s0HY+LNB2Ppw5eT6UpX0+\\r\\n',\n b'am6APlLVgD5S1YA+PCGAPjgLfT6wCHs+EG15PhBteT5QpHw+8D9+PiSIgD4kiIA+HKh/Pqh0fz4g\\r\\n',\n b'cn0+3HB8PiByfT58DH4+kNt/Ptimfj7Ypn4+2KZ+PiByfT5kc34+ZHN+Ptimfj44PIE+2KZ+PgjZ\\r\\n',\n b'fT7E13w+xNd8PgjZfT6Q238+fiKBPn4igT7yVYE+ZHN+PvQJfD70CXw+aD18PlCkfD5S1YA+IKOB\\r\\n',\n b'PiCjgT6U1oE+mLuAPpSlfT7ccHw+lKV9PmpugD7eoYA+3qGAPt6hgD6U1oE+ggeAPkzafj5M2n4+\\r\\n',\n b'TNp+Pkzafj5M2n4+mLuAPvJVgT7yVYE+IKOBPiCjgT4go4E+UtWAPtimfj7ADX8+wA1/PvY6gD5q\\r\\n',\n b'boA+mLuAPpi7gD5+IoE+fiKBPk7wgT4c2YM+TvCBPqh0fz5M2n4+DKN7Pgyjez4gcn0+lNaBPmK/\\r\\n',\n b'gz4a9IQ+GvSEPmK/gz7eoYA+rD59Pqw+fT44C30+fAx+Phyofz7GCIE+8lWBPkwLgz7ui4M+eliD\\r\\n',\n b'PnpYgz7CI4I+rG+BPkzafj5kc34+ZHN+PiSIgD7GCIE+NHKDPmK/gz5iv4M+kvGCPh6+gj72OoA+\\r\\n',\n b'8D9+PvA/fj6sb4E+ZKSCPgYlgz4GJYM+BiWDPvBwgj7avIE+DO+APtq8gT6S8YI+kvGCPpLxgj4G\\r\\n',\n b'JYM+BiWDPt6hgD7eoYA+UtWAPu6Lgz7ui4M+7KaEPgYlgz7ui4M+ODyBPvBwgj58PYI+8HCCPsA+\\r\\n',\n b'gz56WIM+eliDPvJVgT7GCIE+UtWAPlLVgD6U1oE+eliDPpAMhD6QDIQ+kAyEPnpYgz4ICoI+rG+B\\r\\n',\n b'PggKgj6U1oE+7ouDPkwLgz7APoM+TAuDPpLxgj4evoI+Hr6CPh6+gj42V4I+7ouDPjRygz7ui4M+\\r\\n',\n b'HNmDPpAMhD4c2YM+BiWDPgYlgz5MC4M+kvGCPpLxgj6S8YI+ZKSCPmSkgj6S8YI+kvGCPpLxgj56\\r\\n',\n b'WIM+kAyEPhr0hD6QDIQ+NHKDPtjXgj4evoI+wiOCPsIjgj7CI4I+TAuDPujchj68dIU+MKiFPrx0\\r\\n',\n b'hT5g2oQ+2NeCPmSkgj5kpII+NEF/PqqKgj6qioI+SiaEPub3hz7m94c+5veHPub3hz4CW4U+ggeA\\r\\n',\n b'Pkzafj5M2n4+9jqAPpLxgj4s3oc+bt+IPm7fiD7QQ4c+do6FPpTWgT6U1oE+xgiBPk7wgT54c4Q+\\r\\n',\n b'do6FPoxChj50qYY+jEKGPr5ZhD6+WYQ+Yr+DPjKNhD5O8IE+SiaEPmK/gz5iv4M+NHKDPjRygz7U\\r\\n',\n b'DYU+oBGIPujchj7o3IY+NHKDPvBwgj7wcII+kvGCPgYlgz52joU+oBGIPqARiD4WKoc+HNmDPgYl\\r\\n',\n b'gz5MC4M+BiWDPpAMhD4EQIQ+FiqHPopdhz4WKoc+jEKGPmK/gz5iv4M+YNqEPmDahD4wqIU+Mo2E\\r\\n',\n b'PjKNhD4yjYQ+psCEPtQNhT6mwIQ+1A2FPnhzhD5IQYU+SEGFPl71hT5IQYU+1A2FPtQNhT6k24U+\\r\\n',\n b'jEKGPqTbhT5g2oQ+SiaEPqilgz6S8YI+qKWDPjKNhD6gEYg+WiuIPqARiD7o3IY+uo+GPrx0hT4C\\r\\n',\n b'W4U+Mo2EPgRAhD4c2YM+BECEPgB2hj5yxIc+oBGIPqARiD4WKoc+XvWFPl71hT54c4Q+eHOEPqil\\r\\n',\n b'gz6S8YI+kvGCPqTbhT4mFIo+mkeKPppHij76q4g+Mo2EPjKNhD7GCIE+xgiBPvBwgj7UDYU+zl6I\\r\\n',\n b'PlRhij6Croo+gq6KPtBDhz6+WYQ+HNmDPjRygz4c2YM+6sGFPkR3hz7+kIc++quIPv6Qhz4uw4Y+\\r\\n',\n b'jEKGPnaOhT52joU+GvSEPs5eiD7SKIY+csSHPtIohj64qoc+MKiFPriqhz7m94c+bt+IPm7fiD5I\\r\\n',\n b'QYU+YNqEPmDahD68dIU+AHaGPv6Qhz7+kIc+/pCHPopdhz68dIU+vHSFPhgPhj4WKoc+RHeHPkR3\\r\\n',\n b'hz4uw4Y+LsOGPhgPhj4YD4Y+6sGFPoZ4iD4wqIU+ovaGPi7Dhj4uw4Y+0iiGPhgPhj7UDYU+GvSE\\r\\n',\n b'Phr0hD4a9IQ+GA+GPloriD7OXog+WiuIPub3hz6OJ4U+Mo2EPtbygz56WIM+wD6DPpLxgj6S8YI+\\r\\n',\n b'psCEPtQNhT52joU+RlyGPkZchj5GXIY+IKOBPmpugD5qboA+ZomBPhzZgz54c4Q+eHOEPtjXgj4e\\r\\n',\n b'voI+mLuAPsANfz7ADX8+PCGAPmaJgT5MC4M+TAuDPjZXgj7GCIE+bAd6PuQEeD5sB3o+3HB8Pt6h\\r\\n',\n b'gD5+IoE+ZKSCPmSkgj4I2X0+JDx7Pow0dT5gzHM+jDR1PkCfeD4QbXk+qHR/Pqh0fz58DH4+lKV9\\r\\n',\n b'PkRpdj50m3U+UP1xPtzJcT48LnA+PC5wPmDMcz7Ma3g+zGt4PsxreD4s0HY+XAJ2Pgz8cD5sYG8+\\r\\n',\n b'oFxsPoyNaj4Ei2g+BItoPvRicT5An3g+QJ94PkCfeD4Qxm4+zMRtPhAfZD5Y6mI+EB9kPnyIZj5U\\r\\n',\n b'x28+yPpvPlTHbz789mw+1FhpPgSLaD44h2U+EB9kPjiHZT7wu2Y+TFZnPkxWZz5MVmc+lCFmPtzs\\r\\n',\n b'ZD6sumU++IVkPtzsZD6gtWE+zB1jPjBMXz7MHWM+oLVhPqC1YT6gtWE+ABpgPtzsZD584Vs+IEdb\\r\\n',\n b'PiBHWz4E5F0+7EpePhizXz4Ys18+SOVePkyvXD7wFFw+XA1WPjClVD4wpVQ+jD9VPjjgWj7wFFw+\\r\\n',\n b'TK9cPvAUXD7ErFo+QHRWPrxxVD68cVQ+BD1TPgQ9Uz4EPVM+MKVUPijbVj5AdFY+QHRWPrxxVD7w\\r\\n',\n b'bVE+8G1RPmhrTz6wNk4+yM9NPsjPTT6YnU4+aGtPPjClVD4YDFU+MKVUPvBtUT78y0o+RJdJPiD5\\r\\n',\n b'RT4g+UU+GC9IPsyZSz6ABE8+8G1RPvBtUT4oNEw+tABMPsReRT4kw0M+JMNDPiTDQz4YL0g+bDVN\\r\\n',\n b'Pmw1TT7QY0k+CGBGPghgRj5sjkI+bI5CPrCPQz4MKkQ+DCpEPgwqRD4kw0M+4MFCPuSLQD7ki0A+\\r\\n',\n b'FL4/PpzAQT4ojUE+VPVCPiiNQT4Q9EE+AO89PgDvPT4A7z0+SLo8PtSGPD7Uhjw+rOg4PlyJPj68\\r\\n',\n b'7Tw+uCM/PuhVPj6gij8+6FU+PhxSOz5ESTQ+pK0yPkgTMj5IEzI+QH82PtC8Pj78JEA+/CRAPmBT\\r\\n',\n b'PD7w6Tk+YKwxPjgOLj6Yciw+mHIsPgBIMz7QFTQ+2FA6Pki6PD7YUDo+CIM5PuiuMz54RTE+fA8v\\r\\n',\n b'PpSoLj4gdS4+IHUuPiB1Lj4ssDQ+WBg2PlgYNj5YGDY+1N8xPlCnLT4QcCo+HAQmPjSdJT4cBCY+\\r\\n',\n b'9AwtPpSoLj5wsTU+cLE1Pux4MT4sCSo+vJ8nPrBkIT6wZCE+JJghPuzRJj7E2i0+2KkvPsTaLT5E\\r\\n',\n b'oik+0G4pPqjQJT5kzyQ+DP8hPmTPJD7UOCc+1DgnPhg6KD54niY+eJ4mPqyaIz6AMiI+gDIiPrQu\\r\\n',\n b'Hz70ZSI+fGgkPpA3Jj6QNyY+lAEkPtzMIj74LyA+6CocPugqHD509xs+LCwdPpjLIT58aCQ+8Jsk\\r\\n',\n b'PnxoJD5QACM+hPwfPkTFHD7YWxo+9L4XPly3ET70vhc+RMUcPoT8Hz6kBig+pAYoPsQzIz5kKBo+\\r\\n',\n b'KLsUPiyFEj4shRI+cIYTPjjAGD4YXRs+GF0bPrj4HD7Awho+CI4ZPqzzGD6Aixc+gIsXPlQjFj6I\\r\\n',\n b'HxM+iB8TPogfEz7kuRM+bLwVPqzzGD6s8xg+rPMYPmy8FT4U7BI+6IMRPozpED5I6A8+pIIQPqSC\\r\\n',\n b'ED5ctxE+/FITPvxSEz78UhM+GLYQPhi2ED5I6A8+7E0PPuxNDz6M6RA+jOkQPhyADj4cgA4+2H4N\\r\\n',\n b'PrAWDD7Yfg0+wOUNPpCzDj54Gg8+XLcRPngaDz4oFAo+QK0JPkCtCT5ArQk+QK0JPgixDD4IsQw+\\r\\n',\n b'POMLPjzjCz484ws+nEcKPpxHCj6cRwo+XBAHPoxCBj6MQgY+jEIGPtBDBz6IeAg+zHkJPjzjCz48\\r\\n',\n b'4ws+KBQKPhzZAz5kpAI+eAz+PXgM/j1obgA+HNkDPriqBz5YRgk+FEUIPhRFCD6QDAQ+CAoCPqxv\\r\\n',\n b'AT6oPv09qD79PRCj+z2Qpf098HACPkhBBT5IQQU+BEAEPmSkAj6sbwE+UNUAPmBz/j0YN/c9qM30\\r\\n',\n b'PajN9D1Q/fE9qM30PfQ6AD4gowE+GA8GPhgPBj4wQf89YHP+PcCJ5z3Aiec9AJ73PQCe9z1Ybvo9\\r\\n',\n b'QNX6PVhu+j0YN/c9GDf3PRg39z0YN/c9kDT1PRg39z0YN/c9GDf3PWiW8T0YWuo9gFLkPRha6j2Y\\r\\n',\n b'yPA9wGb0PYig+T2IoPk9AJ73PajN9D0w8+k9qPDnPYBS5D2AUuQ9IO7lPZBX6D0YWuo90Gv4PdBr\\r\\n',\n b'+D249es9uPXrPRha6j3IHeM9+E/iPSiC4T2I5t89COTdPQjk3T04h+U9wInnPfCY8z3Aiec9CFXm\\r\\n',\n b'PUAb4T0I5N09oA7XPaAO1z3wSt49sITjPWi55D0g7uU9aLnkPZjr4z1AG+E9cE3gPbAT2z0QeNk9\\r\\n',\n b'ODnQPRB42T1YQ9g9EHjZPRB42T1YtOA94LbiPWi55D1oueQ9iHXXPbin1j04OdA9mJ3OPSg0zD2Y\\r\\n',\n b'nc49oA7XPTgW3T3Qsd490LHePVCv3D1Aqtg9IKDQPfgBzT34Ac09aGvPPTg50D0wpdQ9uKfWPTCl\\r\\n',\n b'1D14cNM9mJ3OPaii0j0IB9E9qKLSPfBt0T2Iddc98G3RPZidzj2wWcE9MFe/PTBXvz3Y98Q9WGbL\\r\\n',\n b'Pbin1j343tk9+N7ZPaAO1z14k8Y9aI7CPVgYtj1YGLY9wF7FPXiTxj1w/8o9aGvPPXD/yj14k8Y9\\r\\n',\n b'CCrEPQgqxD2QLMY96PzIPXiTxj14k8Y9CCrEPRi+vz0Yvr89aI7CPZAsxj2QLMY9kCzGPVD1wj3o\\r\\n',\n b'i8A9UPXCPbDouD2w6Lg9sOi4PQi5uz2wWcE9MFe/PTBXvz3wH7w9aB26PWgduj2Qu709eCK+PQAl\\r\\n',\n b'wD0Yvr89GL6/PUjwvj0oCao9+LO3Pfiztz3gGrg9aB26PRi+vz0Yvr89qFS9PVgYtj1wsbU9WBi2\\r\\n',\n b'Pbh8tD3gGrg9+LO3Pfiztz24fLQ9uHy0PXCxtT1wsbU9oOO0PUgTsj1grLE9gNmsPdA4pz3QOKc9\\r\\n',\n b'8EKvPZDesD3gGrg9qFS9PeAauD0ASLM9MHqyPejRpj2I/J89iPyfPZABpD3IpKs90BW0PeAauD2w\\r\\n',\n b'6Lg9sOi4Pcikqz1w1Kg9+GWiPfhloj1YO6k9IHWuPSB1rj0gda49QKKpPQBrpj1AMaE9QDGhPWDP\\r\\n',\n b'pD1YO6k98EKvPfBCrz2gBqg9eGikPZABpD1wY6A92FuaPXBjoD3o0aY9WDupPSgJqj1YO6k9eGik\\r\\n',\n b'PRD/oT2glZ89oJWfPdDHnj3Qx5490MeePcDCmj3Awpo9APqdPbgunz1wY6A9uJ+nPUCiqT24n6c9\\r\\n',\n b'cGOgPWjylz0wT5A9ME+QPZgklz3w9Jk9EP+hPeDMoj0Q/6E9oJWfPbgunz1Y7ZM9WO2TPVjtkz2I\\r\\n',\n b'H5M9iB+TPQiOmT1wY6A9AGumPQBrpj3gzKI92FuaPdDqkT2w4Ik9sOCJPWgViz0YtpA9QFSUPYCL\\r\\n',\n b'lz1AMaE9QDGhPVjKoD04wJg9eBqPPdgNhT04coM92A2FPTBPkD1AVJQ9kAGkPZABpD1AMaE9APqd\\r\\n',\n b'PahMjj1opII94KGAPeChgD3wpoQ9GLaQPdDqkT1Y7ZM9OMCYPVjtkz2guJI9ME+QPSBKjD2w4Ik9\\r\\n',\n b'KN6HPSjehz3wpoQ9EEWIPcDljT3A5Y09KLuUPYCuij1oFYs9gK6KPch5iT3wpoQ98KaEPUB3hz0o\\r\\n',\n b'3oc9KN6HPbhRkj24UZI9GLaQPVgQhz2ADH49sGFwPbBhcD1Q2n49EEWIPQAdkT1whpM9cIaTPXCp\\r\\n',\n b'hj1Q2n49kDR1PbBhcD2QNHU9UNp+PVDafj1ggY894BKJPTjjiz3gEok92A2FPcBmdD1Q/XE9AMFq\\r\\n',\n b'PQDBaj3goYA98KaEPVB8iz1QfIs9INmDPfg6gD0Qo3s9kDR1PZA0dT2QNHU90Gt4PSCofz0g2YM9\\r\\n',\n b'WBCHPSDZgz1wB3o94JNvPfC7Zj3wu2Y94LZiPbBhcD2wYXA9+KuIPfiriD34q4g9cAd6PUD4bT2A\\r\\n',\n b'UmQ9wKxaPcCsWj0w82k9EMZuPVDafj3ICIE9UNp+PZA0dT2QV2g9UCBlPZBXaD1gJWk9YCVpPXAq\\r\\n',\n b'bT2QNHU9kDR1PVD9cT1A+G090I5rPQDBaj3Qjms9AMFqPeCTbz1QQ1g9YCVpPWAlaT1wKm094JNv\\r\\n',\n b'PeCTbz1AG2E9MBZdPRAMVT3Q1FE9EAxVPXAqbT0Annc9QNV6PUDVej2QV2g9cE1gPcDKST2Ak0Y9\\r\\n',\n b'gJNGPZCYSj1QQ1g9sGFwPZA0dT2QNHU9EMZuPRDpYT1gSFw9oH9fPYC2OT0A5F094NlVPTAWXT0w\\r\\n',\n b'Fl09UCBlPVAgZT0A5F09QD5UPUA+VD1wcFM90M9NPTA0TD3Aykk9MDRMPXBrTz0QB1E9gFJkPYBS\\r\\n',\n b'ZD2gf1894NlVPWBmSz3Q8kA90PJAPeD3RD2AdVc9gHVXPeDZVT1APlQ94NlVPZC7PT2Ak0Y9gJNG\\r\\n',\n b'PWBmSz2golI9oKJSPYB1Vz2golI9cGtPPSBSOz0gUjs98B88PfAfPD3wHzw94PdEPYB1Vz0gL0g9\\r\\n',\n b'YGZLPcDKST3Aykk9QFxDPXCOQj2Quz09wO08PcDtPD3gGjg9IC9IPVCEOj0gL0g9wKxaPcCsWj2g\\r\\n',\n b'olI9gNksPVDKID1QyiA9UMogPaAGKD0QKkQ9sIRjPfC7Zj2whGM9QD5UPdA4Jz2gKRs9sEwOPbBM\\r\\n',\n b'Dj3gPSs94Bo4PcCsWj3ArFo9wKxaPTA0TD0AJUA9MJ0lPYD8Hz0gmCE9EJMdPSCYIT0QcCo9MFc/\\r\\n',\n b'PcDKST3Qz009wMpJPdDyQD0AJUA9EJMdPaApGz1g7RM9YO0TPcAzIz2gwEE9ECpEPVBhRz1QYUc9\\r\\n',\n b'cLE1PTCdJT0wnSU9AI4ZPQCOGT2Q3jA90BU0PbDoOD2w6Dg9EE03PcAQMD1gzyQ9IJghPSCYIT3A\\r\\n',\n b'MyM9MJ0lPQBIMz0ASDM9AEgzPVCnLT2A/B89EJMdPYD8Hz0wnSU94D0rPTCdJT1Aoik9oAYoPaAG\\r\\n',\n b'KD0wnSU9MJ0lPTCdJT0Qkx090FsaPdBWFj3QVhY9oCkbPRBwKj0QKkQ9ECpEPRBNNz3gPSs9AIkV\\r\\n',\n b'PQDB6jwAweo84JPvPHDUKD2Q3jA9gLY5PbDFRT2Atjk90DgnPaBHCj3AZvQ8wGb0PMBm9DxgAvY8\\r\\n',\n b'sC4fPRBNNz1giT498B88PfAfPD1Q6A89cBULPWAQBz2gRwo9AKwIPaBHCj3AURI9YM8kPUCiKT1g\\r\\n',\n b'zyQ98GUiPeBgHj0wuxQ9gBoPPbBMDj2wTA49YBAHPbBMDj1g8hc90FsaPXD3Gz2wLh89cPcbPZAf\\r\\n',\n b'Ez2wTA494H4NPeB+DT2wTA49sEwOPVALAz1QCwM9AIkVPQCJFT0AiRU9kB8TPeB+DT3gfg09gBoP\\r\\n',\n b'PYAaDz0g2QM9INkDPaBHCj2gRwo9AKwIPQCsCD3goQA94KEAPeChAD2QQgY9AKwIPcBREj2QJBc9\\r\\n',\n b'kCQXPdB5CT2wbwE9gC/xPADk3TwA5N08AMHqPJAkFz2QJBc9MMAYPTDAGD0QsQw9INkDPSA0zDwg\\r\\n',\n b'NMw8YGvPPAAH0TxA4ws9QMUcPaAGKD1AxRw9INkDPcCJ5zzAiec8YGvPPGBrzzygf988UAsDPWAQ\\r\\n',\n b'Bz0w3gc9ELEMPTDeBz2APQI9gC/xPLBvAT1gJek8YCXpPMCJ5zxgJek8QNX6PCCo/zwg2QM9INkD\\r\\n',\n b'PSDZAz0g2QM9gFLkPIBS5DzAiec8YCXpPCDL8jzwpgQ9wHQFPfCmBD2wbwE94HD8PICYyjyAmMo8\\r\\n',\n b'wKzaPADk3TygOfk8MN4HPUDV+jxA1fo8gFLkPEA+1DygotI8oKLSPADk3TyAUuQ8AJ73PACe9zyA\\r\\n',\n b'L/E8oFzsPKBc7DzgtuI8AAfRPAAH0TxgSNw8YCXpPGAl6TxgJek8wInnPIAv8TzgtuI8oH/fPADk\\r\\n',\n b'3TzA8sA8QHqyPEB6sjzg2dU8gC/xPGAQBz1gEAc9sG8BPeC24jyAmMo8wC6fPMAunzxgyqA8oKLS\\r\\n',\n b'PODZ1Tzgfg09sEwOPbBMDj1ga888YI7CPOBbmjzgW5o8gNSoPGCnrTyADP48sG8BPYAM/jxA+O08\\r\\n',\n b'YGvPPOD8yDzgH7w84B+8PKDFxTygxcU8QGHHPEBhxzxAYcc8QGHHPMDPzTxAG+E8gC/xPEAb4Twg\\r\\n',\n b'Edk8wM/NPABmojwAZqI8AKyIPCBNtzxgjsI8wKzaPEAb4TxAG+E8gJjKPICYyjxgjsI8YI7CPGCO\\r\\n',\n b'wjxgjsI8YI7CPCBXvzyAu708gLG1PICxtTwgTbc8wM/NPMDPzTygf9884NnVPODZ1TzAC6w8IHCq\\r\\n',\n b'PKABpDzgOKc8AGaiPOA4pzwAZqI8gFLkPOC24jzgtuI8QHqyPGCnrTyA1Kg8oCSXPKAklzygJJc8\\r\\n',\n b'oCSXPKDouDxga888YGvPPGBrzzygAaQ8YO2TPGDtkzzAUZI8YO2TPICxtTyAsbU8oH/fPKB/3zzA\\r\\n',\n b'rNo8wM/NPOA4pzyADH48QPhtPED4bTxA44s8QGHHPOD8yDyAUuQ8gFLkPEB6sjzALp88QNV6PEDV\\r\\n',\n b'ejxA1Xo8wC6fPKDesDzArNo8wKzaPEBhxzzgH7w8AKyIPIA9gjyADH48gAx+PEDAmDzgFbQ84B+8\\r\\n',\n b'POAfvDxAhLo8YKetPGCnrTxgyqA8QMCYPKAklzxg7ZM8oCSXPGDtkzxAerI8wPLAPMDywDzA8sA8\\r\\n',\n b'wPLAPOB+jTzAZnQ8QD5UPMDPTTzAz008gPebPGCOwjzgk+884JPvPCA0zDygJJc8AMFqPAAHUTwA\\r\\n',\n b'wWo8QNV6PGAQhzwAZqI8oN6wPOD8yDzg/Mg8wC6fPGDtkzzALp88QOOLPGAQhzxgEIc8YBCHPCDZ\\r\\n',\n b'gzwg2YM8oAGkPIDUqDygAaQ8oAGkPEDAmDzgfo08wKxaPMCsWjzgfo08gBqPPGDtkzxg7ZM8oCSX\\r\\n',\n b'PKAklzwAiZU8YO2TPIAMfjyADH48QOOLPACJlTyA95s8AImVPMCsWjzArFo8AMFqPEDVejxg7ZM8\\r\\n',\n b'gNSoPGDtkzzAdIU8wGZ0PMBmdDzAZnQ8wGZ0PIAMfjxA44s8QJ2lPECdpTxAnaU8wGZ0PIAvcTyA\\r\\n',\n b'mEo8gJhKPADBajwArIg8QMCYPEDAmDzgW5o8AMFqPADkXTwA5F08wHSFPGDtkzzAdIU8oEeKPIA9\\r\\n',\n b'gjyAdVc8gHVXPEBhRzyAdVc8AMFqPID3mzyA95s84DinPEDjizygR4o8QKctPEDKIDxAyiA8QBth\\r\\n',\n b'PCC2kDwgtpA8IJOdPCC2kDyAGo88gHVXPIB1VzyA3jA8QIQ6PECEOjzAdIU8oEeKPMB0hTwA5F08\\r\\n',\n b'AORdPABwKjwAwWo8wIlnPMBmdDzAZnQ84FuaPMBmdDzAiWc8wIlnPABNNzzAz008wFsaPMBbGjwA\\r\\n',\n b'Z/Q7AGf0O0D4bTxA44s8ILaQPKDesDyg3rA8gPebPABNNzxAEAc8ANDNO4CEujsA0M074H6NPOA4\\r\\n',\n b'pzwgcKo84DinPACJlTzA8kA8gLs9PIA+1DuAPtQ7QBAHPMA4JzzAZnQ84H6NPMAunzzALp88QOOL\\r\\n',\n b'PKBHijxApy08gNX6O4Ab4TuAG+E7gPjtO4BHCjzAiWc84DinPOA4pzxAnaU8wHSFPACt2jsA0E07\\r\\n',\n b'APNAOwDzQDsAkx08wGZ0PKDouDwgV788IFe/PEDVejzAFTQ8gKetOwCiADsAogA7gD7UO0BhRzyA\\r\\n',\n b'DH48oCSXPMAunzygJJc8wKxaPEBhRzzAfg08gNX6O4DV+juARwo8gCQXPIC7PTzA8kA8wPJAPIAM\\r\\n',\n b'fjxA+G08AJ53PED4bTxAhDo8gNX6O4BhxzuAYcc7AJMdPIBSZDwAwWo8AMFqPMCsWjwAkx08QNkD\\r\\n',\n ...]"
     },
     "metadata": {},
     "execution_count": 18
    }
   ],
   "source": [
    "BD"
   ]
  },
  {
   "cell_type": "code",
   "execution_count": 19,
   "metadata": {},
   "outputs": [
    {
     "output_type": "execute_result",
     "data": {
      "text/plain": "12123"
     },
     "metadata": {},
     "execution_count": 19
    }
   ],
   "source": [
    "len(BD)"
   ]
  },
  {
   "cell_type": "code",
   "execution_count": null,
   "metadata": {},
   "outputs": [],
   "source": []
  }
 ],
 "metadata": {
  "language_info": {
   "codemirror_mode": {
    "name": "ipython",
    "version": 3
   },
   "file_extension": ".py",
   "mimetype": "text/x-python",
   "name": "python",
   "nbconvert_exporter": "python",
   "pygments_lexer": "ipython3",
   "version": "3.7.7-final"
  },
  "orig_nbformat": 2,
  "kernelspec": {
   "name": "python3",
   "display_name": "Python 3"
  }
 },
 "nbformat": 4,
 "nbformat_minor": 2
}