{
 "cells": [
  {
   "cell_type": "markdown",
   "metadata": {},
   "source": [
    "CSML1010 Group3 Course_Project - Feature Engineering"
   ]
  },
  {
   "cell_type": "markdown",
   "metadata": {},
   "source": [
    "#### Import Libraries"
   ]
  },
  {
   "cell_type": "code",
   "execution_count": 86,
   "metadata": {},
   "outputs": [],
   "source": [
    "# import pandas, numpy\n",
    "import pandas as pd\n",
    "import numpy as np\n",
    "import re\n",
    "import nltk\n",
    ""
   ]
  },
  {
   "cell_type": "markdown",
   "metadata": {},
   "source": [
    "#### Set Some Defaults"
   ]
  },
  {
   "cell_type": "code",
   "execution_count": 87,
   "metadata": {},
   "outputs": [],
   "source": [
    "# adjust pandas display\n",
    "pd.options.display.max_columns = 30\n",
    "pd.options.display.max_rows = 100\n",
    "pd.options.display.float_format = '{:.2f}'.format\n",
    "pd.options.display.precision = 2\n",
    "pd.options.display.max_colwidth = None\n",
    "\n",
    "# Import matplotlib and seaborn and adjust some defaults\n",
    "%matplotlib inline\n",
    "%config InlineBackend.figure_format = 'svg'\n",
    "\n",
    "from matplotlib import pyplot as plt\n",
    "plt.rcParams['figure.dpi'] = 100\n",
    "\n",
    "import seaborn as sns\n",
    "sns.set_style(\"whitegrid\")"
   ]
  },
  {
   "cell_type": "markdown",
   "metadata": {},
   "source": [
    "#### Load Data"
   ]
  },
  {
   "cell_type": "code",
   "execution_count": 88,
   "metadata": {},
   "outputs": [],
   "source": [
    "import sqlite3\n",
    "\n",
    "sql = \"\"\"\n",
    "SELECT p.*\n",
    "FROM posts_nlp p\n",
    "\"\"\"\n",
    "\n",
    "with sqlite3.connect('selfdialogs.db') as con:\n",
    "    df = pd.read_sql_query(sql, con)"
   ]
  },
  {
   "cell_type": "markdown",
   "metadata": {},
   "source": [
    "#### Get relevant columns"
   ]
  },
  {
   "cell_type": "code",
   "execution_count": 89,
   "metadata": {},
   "outputs": [
    {
     "output_type": "execute_result",
     "data": {
      "text/plain": "                                                                                                                                                                                                                                                                                                                                                                                                                                                                                                                                                                                                                                                                                                                                                                                                                                                                                                                                                                                                                                                                                                                                                      selfdialog_clean  \\\n0                                                                                                                                                                                                                                                                                                                                                                                      Hi, I'm looking to book a table for Korean fod. Ok, what area are you thinking about? Somewhere in Southern NYC, maybe the East Village? Ok, great.  There's Thursday Kitchen, it has great reviews. That's great. So I need a table for tonight at 7 pm for 8 people. We don't want to sit at the bar, but anywhere else is fine. They don't have any availability for 7 pm. What times are available? 5 or 8. Yikes, we can't do those times. Ok, do you have a second choice? Let me check. Ok. Lets try Boka, are they free for 8 people at 7? Yes. Great, let's book that. Ok great, are there any other requests? No, that's it, just book. Great, should I use your account you have open with them? Yes please. Great. You will get a confirmation to your phone soon.    \n1                                                                                                                                                Hi I would like to see if the Movie What Men Want is playing here. Yes it's showing here would you like to purchase a ticket? Yes, for me and a friend so two tickets please Okay. What time is that moving playing today? That movie is showing at 4, 5, and 8pm. Okay. Is there anymore movies showing around 8pm Yes , showing at 8pm is Green Book. What is that about? It's about two men dealing with racisim. Oh, no can you recommend anything else? What do you like? Well I like movies that are funny. Like comedies? Well no I like action as well. Okay. How to train your dragon is playing at 8pm. Okay can i get two tickets for that ? So you want me to cancel the tickets for What men want ? Yes please. Okay, no problem. How much will this cost. You said two adult tickets? Yes. Okay, that will be $20.80 Okay. Anything else I can help you with ? Yes can i bring my own food to theater. No, sorry you have to purchase food in the lobby. Okay that is fine. Thank you enjoy your movie    \n2                                                                                                                                                                                                                                                                                                                                                                                                                                           I want to watch avengers endgame where do you want to watch it at? at bangkok close the hotel I a currently staying sounds good, what time do you want to watch the movie? 8 o'clock how many tickets? two and should we use the account we already have with the movie theater? yes It seems they do not have any movie at that time let's watch another movie then what other movie do you want to watch let's watch how to train your dragon the newest one yes, that one I don't think that movie is playing at that time either so neither choices are playing at the time I want to watch I am afraid so  I am no longer interested in watching the movie very well, have a great day sir thank you you are welcome    \n3                                                                                                                                                                                                                                                                                                                                                                                             I want to order a pizza from Bertuccis in Chelmsford, MA what type of pizza would you like?  a silano what size  a large please understood. will do thanks unfortunately bertuccis has run out of broccoli and so are not offering the silano style pizza today I see would you like a different type of pizza?  yes. i would like a sporkie pizza what size would you like?  large ok. I have confirmed your order for a large sporkie pizza at the bertuccis in chelmsford, ma very good would you like anything else?  no thank you you will be receiving a text message on your phone confirming the details of your order including the receipt and will be ready for pick up in 25 minutes great. thank you so much you're welcome. glad i could be of assistance    \n4  Hi I'd like to order two large pizzas. Sure, what kind of pizzas to you have in mind? I'll have a Hawaiian please. sure, is there anything else I can get for you? Yes, I'd like a large meat lover pizza please. I am sorry, we're currently out of the meat lover pizza. Is there anything else you'd like instead? Sure. I'd like a buffalo chicken pizza please. Sure thing. What size do you want your buffalo chicken pizza? Large please. What kind of crust do you want for your Hawaiian pizza? Hand tossed please. What kind of crust do you want for you buffalo chicken pizza? Also hand tossed please. thank you very much. Is there anything else I can get for you? No, that's it for today. Thank you My pleasure. So we have a large, hand tossed crust buffalo chicken pizza and a large hand tossed crust Hawaiian pizza. Is that correct? Perfect So your total today will be $25  Sounds good Awesome. Can I have a name for the order please? It's John Doe Can I also have a phone number for order update? sure it123456789 ok, thank you very much. Your order will be ready to pick up in 25 minutes sounds good. Thank you My pleasure     \n\n       Instruction_id  \n0  restaurant-table-2  \n1     movie-tickets-1  \n2     movie-tickets-3  \n3    pizza-ordering-2  \n4    pizza-ordering-2  ",
      "text/html": "<div>\n<style scoped>\n    .dataframe tbody tr th:only-of-type {\n        vertical-align: middle;\n    }\n\n    .dataframe tbody tr th {\n        vertical-align: top;\n    }\n\n    .dataframe thead th {\n        text-align: right;\n    }\n</style>\n<table border=\"1\" class=\"dataframe\">\n  <thead>\n    <tr style=\"text-align: right;\">\n      <th></th>\n      <th>selfdialog_clean</th>\n      <th>Instruction_id</th>\n    </tr>\n  </thead>\n  <tbody>\n    <tr>\n      <th>0</th>\n      <td>Hi, I'm looking to book a table for Korean fod. Ok, what area are you thinking about? Somewhere in Southern NYC, maybe the East Village? Ok, great.  There's Thursday Kitchen, it has great reviews. That's great. So I need a table for tonight at 7 pm for 8 people. We don't want to sit at the bar, but anywhere else is fine. They don't have any availability for 7 pm. What times are available? 5 or 8. Yikes, we can't do those times. Ok, do you have a second choice? Let me check. Ok. Lets try Boka, are they free for 8 people at 7? Yes. Great, let's book that. Ok great, are there any other requests? No, that's it, just book. Great, should I use your account you have open with them? Yes please. Great. You will get a confirmation to your phone soon.</td>\n      <td>restaurant-table-2</td>\n    </tr>\n    <tr>\n      <th>1</th>\n      <td>Hi I would like to see if the Movie What Men Want is playing here. Yes it's showing here would you like to purchase a ticket? Yes, for me and a friend so two tickets please Okay. What time is that moving playing today? That movie is showing at 4, 5, and 8pm. Okay. Is there anymore movies showing around 8pm Yes , showing at 8pm is Green Book. What is that about? It's about two men dealing with racisim. Oh, no can you recommend anything else? What do you like? Well I like movies that are funny. Like comedies? Well no I like action as well. Okay. How to train your dragon is playing at 8pm. Okay can i get two tickets for that ? So you want me to cancel the tickets for What men want ? Yes please. Okay, no problem. How much will this cost. You said two adult tickets? Yes. Okay, that will be $20.80 Okay. Anything else I can help you with ? Yes can i bring my own food to theater. No, sorry you have to purchase food in the lobby. Okay that is fine. Thank you enjoy your movie</td>\n      <td>movie-tickets-1</td>\n    </tr>\n    <tr>\n      <th>2</th>\n      <td>I want to watch avengers endgame where do you want to watch it at? at bangkok close the hotel I a currently staying sounds good, what time do you want to watch the movie? 8 o'clock how many tickets? two and should we use the account we already have with the movie theater? yes It seems they do not have any movie at that time let's watch another movie then what other movie do you want to watch let's watch how to train your dragon the newest one yes, that one I don't think that movie is playing at that time either so neither choices are playing at the time I want to watch I am afraid so  I am no longer interested in watching the movie very well, have a great day sir thank you you are welcome</td>\n      <td>movie-tickets-3</td>\n    </tr>\n    <tr>\n      <th>3</th>\n      <td>I want to order a pizza from Bertuccis in Chelmsford, MA what type of pizza would you like?  a silano what size  a large please understood. will do thanks unfortunately bertuccis has run out of broccoli and so are not offering the silano style pizza today I see would you like a different type of pizza?  yes. i would like a sporkie pizza what size would you like?  large ok. I have confirmed your order for a large sporkie pizza at the bertuccis in chelmsford, ma very good would you like anything else?  no thank you you will be receiving a text message on your phone confirming the details of your order including the receipt and will be ready for pick up in 25 minutes great. thank you so much you're welcome. glad i could be of assistance</td>\n      <td>pizza-ordering-2</td>\n    </tr>\n    <tr>\n      <th>4</th>\n      <td>Hi I'd like to order two large pizzas. Sure, what kind of pizzas to you have in mind? I'll have a Hawaiian please. sure, is there anything else I can get for you? Yes, I'd like a large meat lover pizza please. I am sorry, we're currently out of the meat lover pizza. Is there anything else you'd like instead? Sure. I'd like a buffalo chicken pizza please. Sure thing. What size do you want your buffalo chicken pizza? Large please. What kind of crust do you want for your Hawaiian pizza? Hand tossed please. What kind of crust do you want for you buffalo chicken pizza? Also hand tossed please. thank you very much. Is there anything else I can get for you? No, that's it for today. Thank you My pleasure. So we have a large, hand tossed crust buffalo chicken pizza and a large hand tossed crust Hawaiian pizza. Is that correct? Perfect So your total today will be $25  Sounds good Awesome. Can I have a name for the order please? It's John Doe Can I also have a phone number for order update? sure it123456789 ok, thank you very much. Your order will be ready to pick up in 25 minutes sounds good. Thank you My pleasure</td>\n      <td>pizza-ordering-2</td>\n    </tr>\n  </tbody>\n</table>\n</div>"
     },
     "metadata": {},
     "execution_count": 89
    }
   ],
   "source": [
    "sql = \"\"\"\n",
    "SELECT p.selfdialog_clean, p.instruction_id\n",
    "FROM posts_nlp p\n",
    "\"\"\"\n",
    "\n",
    "with sqlite3.connect('selfdialogs.db') as con:\n",
    "    corpus_df = pd.read_sql_query(sql, con)\n",
    "\n",
    "corpus_df.head(5)"
   ]
  },
  {
   "cell_type": "code",
   "execution_count": 90,
   "metadata": {},
   "outputs": [
    {
     "output_type": "execute_result",
     "data": {
      "text/plain": "                                                                                                                                                                                                                                                                                                                                                                                                                                                                                                                                                                                                                                                                                                                                                                                                                                                                                                                                                                                                                                                                                                                                                      selfdialog_clean  \\\n0                                                                                                                                                                                                                                                                                                                                                                                      Hi, I'm looking to book a table for Korean fod. Ok, what area are you thinking about? Somewhere in Southern NYC, maybe the East Village? Ok, great.  There's Thursday Kitchen, it has great reviews. That's great. So I need a table for tonight at 7 pm for 8 people. We don't want to sit at the bar, but anywhere else is fine. They don't have any availability for 7 pm. What times are available? 5 or 8. Yikes, we can't do those times. Ok, do you have a second choice? Let me check. Ok. Lets try Boka, are they free for 8 people at 7? Yes. Great, let's book that. Ok great, are there any other requests? No, that's it, just book. Great, should I use your account you have open with them? Yes please. Great. You will get a confirmation to your phone soon.    \n1                                                                                                                                                Hi I would like to see if the Movie What Men Want is playing here. Yes it's showing here would you like to purchase a ticket? Yes, for me and a friend so two tickets please Okay. What time is that moving playing today? That movie is showing at 4, 5, and 8pm. Okay. Is there anymore movies showing around 8pm Yes , showing at 8pm is Green Book. What is that about? It's about two men dealing with racisim. Oh, no can you recommend anything else? What do you like? Well I like movies that are funny. Like comedies? Well no I like action as well. Okay. How to train your dragon is playing at 8pm. Okay can i get two tickets for that ? So you want me to cancel the tickets for What men want ? Yes please. Okay, no problem. How much will this cost. You said two adult tickets? Yes. Okay, that will be $20.80 Okay. Anything else I can help you with ? Yes can i bring my own food to theater. No, sorry you have to purchase food in the lobby. Okay that is fine. Thank you enjoy your movie    \n2                                                                                                                                                                                                                                                                                                                                                                                                                                           I want to watch avengers endgame where do you want to watch it at? at bangkok close the hotel I a currently staying sounds good, what time do you want to watch the movie? 8 o'clock how many tickets? two and should we use the account we already have with the movie theater? yes It seems they do not have any movie at that time let's watch another movie then what other movie do you want to watch let's watch how to train your dragon the newest one yes, that one I don't think that movie is playing at that time either so neither choices are playing at the time I want to watch I am afraid so  I am no longer interested in watching the movie very well, have a great day sir thank you you are welcome    \n3                                                                                                                                                                                                                                                                                                                                                                                             I want to order a pizza from Bertuccis in Chelmsford, MA what type of pizza would you like?  a silano what size  a large please understood. will do thanks unfortunately bertuccis has run out of broccoli and so are not offering the silano style pizza today I see would you like a different type of pizza?  yes. i would like a sporkie pizza what size would you like?  large ok. I have confirmed your order for a large sporkie pizza at the bertuccis in chelmsford, ma very good would you like anything else?  no thank you you will be receiving a text message on your phone confirming the details of your order including the receipt and will be ready for pick up in 25 minutes great. thank you so much you're welcome. glad i could be of assistance    \n4  Hi I'd like to order two large pizzas. Sure, what kind of pizzas to you have in mind? I'll have a Hawaiian please. sure, is there anything else I can get for you? Yes, I'd like a large meat lover pizza please. I am sorry, we're currently out of the meat lover pizza. Is there anything else you'd like instead? Sure. I'd like a buffalo chicken pizza please. Sure thing. What size do you want your buffalo chicken pizza? Large please. What kind of crust do you want for your Hawaiian pizza? Hand tossed please. What kind of crust do you want for you buffalo chicken pizza? Also hand tossed please. thank you very much. Is there anything else I can get for you? No, that's it for today. Thank you My pleasure. So we have a large, hand tossed crust buffalo chicken pizza and a large hand tossed crust Hawaiian pizza. Is that correct? Perfect So your total today will be $25  Sounds good Awesome. Can I have a name for the order please? It's John Doe Can I also have a phone number for order update? sure it123456789 ok, thank you very much. Your order will be ready to pick up in 25 minutes sounds good. Thank you My pleasure     \n\n       Instruction_id  category  \n0  restaurant-table-2         0  \n1     movie-tickets-1         1  \n2     movie-tickets-3         2  \n3    pizza-ordering-2         3  \n4    pizza-ordering-2         3  ",
      "text/html": "<div>\n<style scoped>\n    .dataframe tbody tr th:only-of-type {\n        vertical-align: middle;\n    }\n\n    .dataframe tbody tr th {\n        vertical-align: top;\n    }\n\n    .dataframe thead th {\n        text-align: right;\n    }\n</style>\n<table border=\"1\" class=\"dataframe\">\n  <thead>\n    <tr style=\"text-align: right;\">\n      <th></th>\n      <th>selfdialog_clean</th>\n      <th>Instruction_id</th>\n      <th>category</th>\n    </tr>\n  </thead>\n  <tbody>\n    <tr>\n      <th>0</th>\n      <td>Hi, I'm looking to book a table for Korean fod. Ok, what area are you thinking about? Somewhere in Southern NYC, maybe the East Village? Ok, great.  There's Thursday Kitchen, it has great reviews. That's great. So I need a table for tonight at 7 pm for 8 people. We don't want to sit at the bar, but anywhere else is fine. They don't have any availability for 7 pm. What times are available? 5 or 8. Yikes, we can't do those times. Ok, do you have a second choice? Let me check. Ok. Lets try Boka, are they free for 8 people at 7? Yes. Great, let's book that. Ok great, are there any other requests? No, that's it, just book. Great, should I use your account you have open with them? Yes please. Great. You will get a confirmation to your phone soon.</td>\n      <td>restaurant-table-2</td>\n      <td>0</td>\n    </tr>\n    <tr>\n      <th>1</th>\n      <td>Hi I would like to see if the Movie What Men Want is playing here. Yes it's showing here would you like to purchase a ticket? Yes, for me and a friend so two tickets please Okay. What time is that moving playing today? That movie is showing at 4, 5, and 8pm. Okay. Is there anymore movies showing around 8pm Yes , showing at 8pm is Green Book. What is that about? It's about two men dealing with racisim. Oh, no can you recommend anything else? What do you like? Well I like movies that are funny. Like comedies? Well no I like action as well. Okay. How to train your dragon is playing at 8pm. Okay can i get two tickets for that ? So you want me to cancel the tickets for What men want ? Yes please. Okay, no problem. How much will this cost. You said two adult tickets? Yes. Okay, that will be $20.80 Okay. Anything else I can help you with ? Yes can i bring my own food to theater. No, sorry you have to purchase food in the lobby. Okay that is fine. Thank you enjoy your movie</td>\n      <td>movie-tickets-1</td>\n      <td>1</td>\n    </tr>\n    <tr>\n      <th>2</th>\n      <td>I want to watch avengers endgame where do you want to watch it at? at bangkok close the hotel I a currently staying sounds good, what time do you want to watch the movie? 8 o'clock how many tickets? two and should we use the account we already have with the movie theater? yes It seems they do not have any movie at that time let's watch another movie then what other movie do you want to watch let's watch how to train your dragon the newest one yes, that one I don't think that movie is playing at that time either so neither choices are playing at the time I want to watch I am afraid so  I am no longer interested in watching the movie very well, have a great day sir thank you you are welcome</td>\n      <td>movie-tickets-3</td>\n      <td>2</td>\n    </tr>\n    <tr>\n      <th>3</th>\n      <td>I want to order a pizza from Bertuccis in Chelmsford, MA what type of pizza would you like?  a silano what size  a large please understood. will do thanks unfortunately bertuccis has run out of broccoli and so are not offering the silano style pizza today I see would you like a different type of pizza?  yes. i would like a sporkie pizza what size would you like?  large ok. I have confirmed your order for a large sporkie pizza at the bertuccis in chelmsford, ma very good would you like anything else?  no thank you you will be receiving a text message on your phone confirming the details of your order including the receipt and will be ready for pick up in 25 minutes great. thank you so much you're welcome. glad i could be of assistance</td>\n      <td>pizza-ordering-2</td>\n      <td>3</td>\n    </tr>\n    <tr>\n      <th>4</th>\n      <td>Hi I'd like to order two large pizzas. Sure, what kind of pizzas to you have in mind? I'll have a Hawaiian please. sure, is there anything else I can get for you? Yes, I'd like a large meat lover pizza please. I am sorry, we're currently out of the meat lover pizza. Is there anything else you'd like instead? Sure. I'd like a buffalo chicken pizza please. Sure thing. What size do you want your buffalo chicken pizza? Large please. What kind of crust do you want for your Hawaiian pizza? Hand tossed please. What kind of crust do you want for you buffalo chicken pizza? Also hand tossed please. thank you very much. Is there anything else I can get for you? No, that's it for today. Thank you My pleasure. So we have a large, hand tossed crust buffalo chicken pizza and a large hand tossed crust Hawaiian pizza. Is that correct? Perfect So your total today will be $25  Sounds good Awesome. Can I have a name for the order please? It's John Doe Can I also have a phone number for order update? sure it123456789 ok, thank you very much. Your order will be ready to pick up in 25 minutes sounds good. Thank you My pleasure</td>\n      <td>pizza-ordering-2</td>\n      <td>3</td>\n    </tr>\n  </tbody>\n</table>\n</div>"
     },
     "metadata": {},
     "execution_count": 90
    }
   ],
   "source": [
    "corpus_df['category'] = corpus_df['Instruction_id'].factorize()[0]\n",
    "corpus_df.head(5)"
   ]
  },
  {
   "cell_type": "markdown",
   "metadata": {},
   "source": [
    "#### Word Embeddings"
   ]
  },
  {
   "cell_type": "code",
   "execution_count": 91,
   "metadata": {},
   "outputs": [
    {
     "output_type": "execute_result",
     "data": {
      "text/plain": "Index(['index', 'id', 'Conversation', 'Instruction_id', 'service_type',\n       'selfdialog_clean', 'selfdialog_lemma', 'selfdialog_nouns',\n       'selfdialog_adjectives', 'selfdialog_verbs', 'selfdialog_nav',\n       'no_tokens'],\n      dtype='object')"
     },
     "metadata": {},
     "execution_count": 91
    }
   ],
   "source": [
    "df.columns"
   ]
  },
  {
   "cell_type": "code",
   "execution_count": 92,
   "metadata": {},
   "outputs": [
    {
     "output_type": "execute_result",
     "data": {
      "text/plain": "Index(['selfdialog_clean', 'Instruction_id', 'category'], dtype='object')"
     },
     "metadata": {},
     "execution_count": 92
    }
   ],
   "source": [
    "corpus_df.columns"
   ]
  },
  {
   "cell_type": "markdown",
   "metadata": {},
   "source": [
    "#### Do Some Additional CLeaning"
   ]
  },
  {
   "cell_type": "code",
   "execution_count": 24,
   "metadata": {},
   "outputs": [],
   "source": [
    "wpt = nltk.WordPunctTokenizer()\n",
    "stop_words = nltk.corpus.stopwords.words('english')\n",
    "\n",
    "def normalize_document(doc):\n",
    "    # lower case and remove special characters\\whitespaces\n",
    "    #doc = \"'\" + doc + \"'\"\n",
    "    doc = re.sub(r'[^a-zA-Z\\s]', '', doc, re.I|re.A)\n",
    "    doc = doc.lower()\n",
    "    doc = doc.strip()\n",
    "    # tokenize document\n",
    "    tokens = wpt.tokenize(doc)\n",
    "    # filter stopwords out of document\n",
    "    filtered_tokens = [token for token in tokens if token not in stop_words]\n",
    "    #filtered_tokens = [tok_sent for tok_sent in filtered_tokens if len(tok_sent.split()) > 2]\n",
    "    # re-create document from filtered tokens\n",
    "    doc = ' '.join(filtered_tokens)\n",
    "    \n",
    "    return doc\n",
    "\n",
    "normalize_corpus = np.vectorize(normalize_document)"
   ]
  },
  {
   "cell_type": "code",
   "execution_count": 21,
   "metadata": {},
   "outputs": [
    {
     "output_type": "execute_result",
     "data": {
      "text/plain": "                                                                                                                                                                                                                                                                                                                                                                                                                                                                                                                                                                                                                                                                                                                                                                                                                                                                                                                                                                                                                                                                                                                                                      selfdialog_clean  \\\n0                                                                                                                                                                                                                                                                                                                                                                                      Hi, I'm looking to book a table for Korean fod. Ok, what area are you thinking about? Somewhere in Southern NYC, maybe the East Village? Ok, great.  There's Thursday Kitchen, it has great reviews. That's great. So I need a table for tonight at 7 pm for 8 people. We don't want to sit at the bar, but anywhere else is fine. They don't have any availability for 7 pm. What times are available? 5 or 8. Yikes, we can't do those times. Ok, do you have a second choice? Let me check. Ok. Lets try Boka, are they free for 8 people at 7? Yes. Great, let's book that. Ok great, are there any other requests? No, that's it, just book. Great, should I use your account you have open with them? Yes please. Great. You will get a confirmation to your phone soon.    \n1                                                                                                                                                Hi I would like to see if the Movie What Men Want is playing here. Yes it's showing here would you like to purchase a ticket? Yes, for me and a friend so two tickets please Okay. What time is that moving playing today? That movie is showing at 4, 5, and 8pm. Okay. Is there anymore movies showing around 8pm Yes , showing at 8pm is Green Book. What is that about? It's about two men dealing with racisim. Oh, no can you recommend anything else? What do you like? Well I like movies that are funny. Like comedies? Well no I like action as well. Okay. How to train your dragon is playing at 8pm. Okay can i get two tickets for that ? So you want me to cancel the tickets for What men want ? Yes please. Okay, no problem. How much will this cost. You said two adult tickets? Yes. Okay, that will be $20.80 Okay. Anything else I can help you with ? Yes can i bring my own food to theater. No, sorry you have to purchase food in the lobby. Okay that is fine. Thank you enjoy your movie    \n2                                                                                                                                                                                                                                                                                                                                                                                                                                           I want to watch avengers endgame where do you want to watch it at? at bangkok close the hotel I a currently staying sounds good, what time do you want to watch the movie? 8 o'clock how many tickets? two and should we use the account we already have with the movie theater? yes It seems they do not have any movie at that time let's watch another movie then what other movie do you want to watch let's watch how to train your dragon the newest one yes, that one I don't think that movie is playing at that time either so neither choices are playing at the time I want to watch I am afraid so  I am no longer interested in watching the movie very well, have a great day sir thank you you are welcome    \n3                                                                                                                                                                                                                                                                                                                                                                                             I want to order a pizza from Bertuccis in Chelmsford, MA what type of pizza would you like?  a silano what size  a large please understood. will do thanks unfortunately bertuccis has run out of broccoli and so are not offering the silano style pizza today I see would you like a different type of pizza?  yes. i would like a sporkie pizza what size would you like?  large ok. I have confirmed your order for a large sporkie pizza at the bertuccis in chelmsford, ma very good would you like anything else?  no thank you you will be receiving a text message on your phone confirming the details of your order including the receipt and will be ready for pick up in 25 minutes great. thank you so much you're welcome. glad i could be of assistance    \n4  Hi I'd like to order two large pizzas. Sure, what kind of pizzas to you have in mind? I'll have a Hawaiian please. sure, is there anything else I can get for you? Yes, I'd like a large meat lover pizza please. I am sorry, we're currently out of the meat lover pizza. Is there anything else you'd like instead? Sure. I'd like a buffalo chicken pizza please. Sure thing. What size do you want your buffalo chicken pizza? Large please. What kind of crust do you want for your Hawaiian pizza? Hand tossed please. What kind of crust do you want for you buffalo chicken pizza? Also hand tossed please. thank you very much. Is there anything else I can get for you? No, that's it for today. Thank you My pleasure. So we have a large, hand tossed crust buffalo chicken pizza and a large hand tossed crust Hawaiian pizza. Is that correct? Perfect So your total today will be $25  Sounds good Awesome. Can I have a name for the order please? It's John Doe Can I also have a phone number for order update? sure it123456789 ok, thank you very much. Your order will be ready to pick up in 25 minutes sounds good. Thank you My pleasure     \n\n       Instruction_id  \\\n0  restaurant-table-2   \n1     movie-tickets-1   \n2     movie-tickets-3   \n3    pizza-ordering-2   \n4    pizza-ordering-2   \n\n                                                                                                                                                                                                                                                                                                                                                                                                                                                                                                                                                                                                                                                                                                                                                 selfdialog_norm  \n0                                                                                                                                                                                                                                                                                                 hi im looking book table korean fod ok area thinking somewhere southern nyc maybe east village ok great theres thursday kitchen great reviews thats great need table tonight pm people dont want sit bar anywhere else fine dont availability pm times available yikes cant times ok second choice let check ok lets try boka free people yes great lets book ok great requests thats book great use account open yes please great get confirmation phone soon  \n1                                                                                                                                                         hi would like see movie men want playing yes showing would like purchase ticket yes friend two tickets please okay time moving playing today movie showing pm okay anymore movies showing around pm yes showing pm green book two men dealing racisim oh recommend anything else like well like movies funny like comedies well like action well okay train dragon playing pm okay get two tickets want cancel tickets men want yes please okay problem much cost said two adult tickets yes okay okay anything else help yes bring food theater sorry purchase food lobby okay fine thank enjoy movie  \n2                                                                                                                                                                                                                                                                                                                       want watch avengers endgame want watch bangkok close hotel currently staying sounds good time want watch movie oclock many tickets two use account already movie theater yes seems movie time lets watch another movie movie want watch lets watch train dragon newest one yes one dont think movie playing time either neither choices playing time want watch afraid longer interested watching movie well great day sir thank welcome  \n3                                                                                                                                                                                                                                           want order pizza bertuccis chelmsford type pizza would like silano size large please understood thanks unfortunately bertuccis run broccoli offering silano style pizza today see would like different type pizza yes would like sporkie pizza size would like large ok confirmed order large sporkie pizza bertuccis chelmsford good would like anything else thank receiving text message phone confirming details order including receipt ready pick minutes great thank much youre welcome glad could assistance  \n4  hi id like order two large pizzas sure kind pizzas mind ill hawaiian please sure anything else get yes id like large meat lover pizza please sorry currently meat lover pizza anything else youd like instead sure id like buffalo chicken pizza please sure thing size want buffalo chicken pizza large please kind crust want hawaiian pizza hand tossed please kind crust want buffalo chicken pizza also hand tossed please thank much anything else get thats today thank pleasure large hand tossed crust buffalo chicken pizza large hand tossed crust hawaiian pizza correct perfect total today sounds good awesome name order please john doe also phone number order update sure ok thank much order ready pick minutes sounds good thank pleasure  ",
      "text/html": "<div>\n<style scoped>\n    .dataframe tbody tr th:only-of-type {\n        vertical-align: middle;\n    }\n\n    .dataframe tbody tr th {\n        vertical-align: top;\n    }\n\n    .dataframe thead th {\n        text-align: right;\n    }\n</style>\n<table border=\"1\" class=\"dataframe\">\n  <thead>\n    <tr style=\"text-align: right;\">\n      <th></th>\n      <th>selfdialog_clean</th>\n      <th>Instruction_id</th>\n      <th>selfdialog_norm</th>\n    </tr>\n  </thead>\n  <tbody>\n    <tr>\n      <th>0</th>\n      <td>Hi, I'm looking to book a table for Korean fod. Ok, what area are you thinking about? Somewhere in Southern NYC, maybe the East Village? Ok, great.  There's Thursday Kitchen, it has great reviews. That's great. So I need a table for tonight at 7 pm for 8 people. We don't want to sit at the bar, but anywhere else is fine. They don't have any availability for 7 pm. What times are available? 5 or 8. Yikes, we can't do those times. Ok, do you have a second choice? Let me check. Ok. Lets try Boka, are they free for 8 people at 7? Yes. Great, let's book that. Ok great, are there any other requests? No, that's it, just book. Great, should I use your account you have open with them? Yes please. Great. You will get a confirmation to your phone soon.</td>\n      <td>restaurant-table-2</td>\n      <td>hi im looking book table korean fod ok area thinking somewhere southern nyc maybe east village ok great theres thursday kitchen great reviews thats great need table tonight pm people dont want sit bar anywhere else fine dont availability pm times available yikes cant times ok second choice let check ok lets try boka free people yes great lets book ok great requests thats book great use account open yes please great get confirmation phone soon</td>\n    </tr>\n    <tr>\n      <th>1</th>\n      <td>Hi I would like to see if the Movie What Men Want is playing here. Yes it's showing here would you like to purchase a ticket? Yes, for me and a friend so two tickets please Okay. What time is that moving playing today? That movie is showing at 4, 5, and 8pm. Okay. Is there anymore movies showing around 8pm Yes , showing at 8pm is Green Book. What is that about? It's about two men dealing with racisim. Oh, no can you recommend anything else? What do you like? Well I like movies that are funny. Like comedies? Well no I like action as well. Okay. How to train your dragon is playing at 8pm. Okay can i get two tickets for that ? So you want me to cancel the tickets for What men want ? Yes please. Okay, no problem. How much will this cost. You said two adult tickets? Yes. Okay, that will be $20.80 Okay. Anything else I can help you with ? Yes can i bring my own food to theater. No, sorry you have to purchase food in the lobby. Okay that is fine. Thank you enjoy your movie</td>\n      <td>movie-tickets-1</td>\n      <td>hi would like see movie men want playing yes showing would like purchase ticket yes friend two tickets please okay time moving playing today movie showing pm okay anymore movies showing around pm yes showing pm green book two men dealing racisim oh recommend anything else like well like movies funny like comedies well like action well okay train dragon playing pm okay get two tickets want cancel tickets men want yes please okay problem much cost said two adult tickets yes okay okay anything else help yes bring food theater sorry purchase food lobby okay fine thank enjoy movie</td>\n    </tr>\n    <tr>\n      <th>2</th>\n      <td>I want to watch avengers endgame where do you want to watch it at? at bangkok close the hotel I a currently staying sounds good, what time do you want to watch the movie? 8 o'clock how many tickets? two and should we use the account we already have with the movie theater? yes It seems they do not have any movie at that time let's watch another movie then what other movie do you want to watch let's watch how to train your dragon the newest one yes, that one I don't think that movie is playing at that time either so neither choices are playing at the time I want to watch I am afraid so  I am no longer interested in watching the movie very well, have a great day sir thank you you are welcome</td>\n      <td>movie-tickets-3</td>\n      <td>want watch avengers endgame want watch bangkok close hotel currently staying sounds good time want watch movie oclock many tickets two use account already movie theater yes seems movie time lets watch another movie movie want watch lets watch train dragon newest one yes one dont think movie playing time either neither choices playing time want watch afraid longer interested watching movie well great day sir thank welcome</td>\n    </tr>\n    <tr>\n      <th>3</th>\n      <td>I want to order a pizza from Bertuccis in Chelmsford, MA what type of pizza would you like?  a silano what size  a large please understood. will do thanks unfortunately bertuccis has run out of broccoli and so are not offering the silano style pizza today I see would you like a different type of pizza?  yes. i would like a sporkie pizza what size would you like?  large ok. I have confirmed your order for a large sporkie pizza at the bertuccis in chelmsford, ma very good would you like anything else?  no thank you you will be receiving a text message on your phone confirming the details of your order including the receipt and will be ready for pick up in 25 minutes great. thank you so much you're welcome. glad i could be of assistance</td>\n      <td>pizza-ordering-2</td>\n      <td>want order pizza bertuccis chelmsford type pizza would like silano size large please understood thanks unfortunately bertuccis run broccoli offering silano style pizza today see would like different type pizza yes would like sporkie pizza size would like large ok confirmed order large sporkie pizza bertuccis chelmsford good would like anything else thank receiving text message phone confirming details order including receipt ready pick minutes great thank much youre welcome glad could assistance</td>\n    </tr>\n    <tr>\n      <th>4</th>\n      <td>Hi I'd like to order two large pizzas. Sure, what kind of pizzas to you have in mind? I'll have a Hawaiian please. sure, is there anything else I can get for you? Yes, I'd like a large meat lover pizza please. I am sorry, we're currently out of the meat lover pizza. Is there anything else you'd like instead? Sure. I'd like a buffalo chicken pizza please. Sure thing. What size do you want your buffalo chicken pizza? Large please. What kind of crust do you want for your Hawaiian pizza? Hand tossed please. What kind of crust do you want for you buffalo chicken pizza? Also hand tossed please. thank you very much. Is there anything else I can get for you? No, that's it for today. Thank you My pleasure. So we have a large, hand tossed crust buffalo chicken pizza and a large hand tossed crust Hawaiian pizza. Is that correct? Perfect So your total today will be $25  Sounds good Awesome. Can I have a name for the order please? It's John Doe Can I also have a phone number for order update? sure it123456789 ok, thank you very much. Your order will be ready to pick up in 25 minutes sounds good. Thank you My pleasure</td>\n      <td>pizza-ordering-2</td>\n      <td>hi id like order two large pizzas sure kind pizzas mind ill hawaiian please sure anything else get yes id like large meat lover pizza please sorry currently meat lover pizza anything else youd like instead sure id like buffalo chicken pizza please sure thing size want buffalo chicken pizza large please kind crust want hawaiian pizza hand tossed please kind crust want buffalo chicken pizza also hand tossed please thank much anything else get thats today thank pleasure large hand tossed crust buffalo chicken pizza large hand tossed crust hawaiian pizza correct perfect total today sounds good awesome name order please john doe also phone number order update sure ok thank much order ready pick minutes sounds good thank pleasure</td>\n    </tr>\n  </tbody>\n</table>\n</div>"
     },
     "metadata": {},
     "execution_count": 21
    }
   ],
   "source": [
    "for i, row in corpus_df.iterrows():\n",
    "    corpus_df.at[i, \"selfdialog_norm\"] = normalize_corpus(row.selfdialog_clean) \n",
    "\n",
    "corpus_df.head(5)"
   ]
  },
  {
   "cell_type": "code",
   "execution_count": 36,
   "metadata": {},
   "outputs": [
    {
     "output_type": "stream",
     "name": "stdout",
     "text": "(7708,)\n"
    },
    {
     "output_type": "execute_result",
     "data": {
      "text/plain": "                                                                                                                                                                                                                                                                                                                                                                                                                                                                                                                                                                                                                                                                                                                                                                                                                                                                                                                                                                                                                                                                                                                                                                                                                                                                                                                                                                                                                                                                                                                                                                                                                                                                                                                                                                                                                                                                                                                                                                                                                                                                                                                                                                                                                                                                                                                                                                                                                                                                                                                                                                                                                                                                                                                                                                                                                                                                                                                                                                                                                                                                                                                                                                                                                                                                                                                                                                                                                                                                                                                                                                                                                                                                                                                                                                                                                                                                                                               hi sally need grande iced americano soy milk please okay ill give local store call okay pick unfortunately cant drink dont soy milk available venti cups shoot okay let think take time miss alright tall cups yes said tall venti thought said venti nope checked tall venti okay kind milk oat coconut almond skim whole milk okay ill tall iced americano almond milk letting know almond milk sit well stomach last time oh gosh youre right thanks reminding problem milk ill go coconut milk perfect ready times square rd street location starbucks\\n7705                                                                                                                                                                                                                                                                                                                                                                                                                                                                                                                                                                                                                                                                                                                                                                                                                                                                                                                                                                                                                                                                                                                                                                                                                                                                                                                                                                                                                                                                                                                                                                                                                                                                                                                                                                                                                                                                                                                                                                                                                                                                                                                                                                                                                                                                                                                                                                                                                                                                                                                                                                                                                                                                                                                                                                                                                                                                                                                                                                                                                                                                                                                                                                                                                                                                                                                                                                                                                                                                                                                                                                                                                                                                                                                                                                                                                                                                                                                                                                                                                                                                                                                                                                                                                                                                                                                                                                                                                                                                                                                                                                                                                                                                                                                                                                                                                                                                                                                        good afternoon would like order pizza today would like order grand pizza las vegas nv size pizza would like inch one create specialty create toppings would like chicken beef please im sorry beef available would like different topping yes chicken feta cheese ok would like order anything else thank ok would like inch pizza chicken feta cheese correct yes delivery carryout carryout please ok today yes thank pizza order complete order ready pick minutes receipt emailed thank much wonderful afternoon\\n7706                                                                                                                                                                                                                                                                                                                                                                                                                                                                                                                                                                                                                                                                                                                                                                                                                                                                                                                                                                                                                                                                                                                                                                                                                                                                                                                                                                                                                                                                                                                                                                                                                                                                                                                                                                                                                                                                                                                                                                                                                                                                                                                                                                                                                                                                                                                                                                                                                                                                                                                                                                                                                                                                                                                                                                                                                                                                                                                                                                                                                                                                                                                                                                                                                                                                                                                                                                                                                                                                                                                                                                                                                                                                                                                                                                                                                                                                                                                                                                                                                                                                                                                                                                                                                                                                                                                                                                                                                                                                                                                                                                                                                                                                                                                                   hey im thinking seeing men want tonight would mind ordering tickets ive heard good things one going see united artists denver pavilions favorite local theater comfortable seats agree really best time show looks like late earlier show option pm thats okay nap today late im sure worth staying wife really wants see okay many tickets order two please problem two tickets show men want think yes okay sorry mistake get right thank much appears choose seats advance plenty available would like sit somewhere uppermiddle section sounds good okay look something close middle wonderful great tickets purchased sent phone text message let know received got text thanks much problem anytime\\n7707                                                                                                                                                                                                                                                                                                                                                                                                                                                                                                                                                                                                                                                                                                                                                                                                                                                                                                                                                                                                                                                                                                                                                                                                                                                                                                                                                                                                                                                                                                                                                                                                                                                                                                                                                                                                                                                                                                                                                                                                                                                                                                                                                                                                                                                                                                                                                                                                                                                                                                                                                                                                                                                                                                                                                                                                                                                                                                                                                                                                                                                                                                                                                                                                                                                                                                                                                                                                                                                                                                                                                                                                                                                                                                                                                                                                                                                                                                                                                                                                                                                                                                                                                                                                                                                                                                                                                                                                                                                                                                                                                                                                                                                                                                                                                                                                                                                                                                    hello help purchase couple movie tickets definitely tell mind id like see captain marvel ncg cinemas midland michigan possible id like two tickets pm show ok let see ok looks like arent showing ok get tickets regular viewing time ill check thanks looks like theyre sold available time pm oh dont think work thats much late something else maybe different movie dont think sure several movies showing around pm tonight really wanted see movie ok think well pass tonight thanks anyhow ok let know change mind thanks problem'"
     },
     "metadata": {},
     "execution_count": 36
    }
   ],
   "source": [
    "doc1 = corpus_df.selfdialog_norm.to_numpy()\n",
    "#doc_str = np.array2string(doc1, precision=2, separator=' ', suppress_small=True)\n",
    "doc_str = corpus_df['selfdialog_norm'].to_string()\n",
    "print(doc1.shape)\n",
    "#print(doc_str.shape)\n",
    "doc_str"
   ]
  },
  {
   "cell_type": "code",
   "execution_count": 83,
   "metadata": {},
   "outputs": [
    {
     "output_type": "stream",
     "name": "stdout",
     "text": "7708\n"
    },
    {
     "output_type": "execute_result",
     "data": {
      "text/plain": "[array('hi would like see movie men want playing yes showing would like purchase ticket yes friend two tickets please okay time moving playing today movie showing pm okay anymore movies showing around pm yes showing pm green book two men dealing racisim oh recommend anything else like well like movies funny like comedies well like action well okay train dragon playing pm okay get two tickets want cancel tickets men want yes please okay problem much cost said two adult tickets yes okay okay anything else help yes bring food theater sorry purchase food lobby okay fine thank enjoy movie',\n       dtype='<U582'),\n array('want watch avengers endgame want watch bangkok close hotel currently staying sounds good time want watch movie oclock many tickets two use account already movie theater yes seems movie time lets watch another movie movie want watch lets watch train dragon newest one yes one dont think movie playing time either neither choices playing time want watch afraid longer interested watching movie well great day sir thank welcome',\n       dtype='<U424'),\n array('want order pizza bertuccis chelmsford type pizza would like silano size large please understood thanks unfortunately bertuccis run broccoli offering silano style pizza today see would like different type pizza yes would like sporkie pizza size would like large ok confirmed order large sporkie pizza bertuccis chelmsford good would like anything else thank receiving text message phone confirming details order including receipt ready pick minutes great thank much youre welcome glad could assistance',\n       dtype='<U500'),\n array('hi id like order two large pizzas sure kind pizzas mind ill hawaiian please sure anything else get yes id like large meat lover pizza please sorry currently meat lover pizza anything else youd like instead sure id like buffalo chicken pizza please sure thing size want buffalo chicken pizza large please kind crust want hawaiian pizza hand tossed please kind crust want buffalo chicken pizza also hand tossed please thank much anything else get thats today thank pleasure large hand tossed crust buffalo chicken pizza large hand tossed crust hawaiian pizza correct perfect total today sounds good awesome name order please john doe also phone number order update sure ok thank much order ready pick minutes sounds good thank pleasure',\n       dtype='<U733'),\n array('hey chuck id like hop online order latte starbucks make stop way back sure dr ryan ah one want order one russell invest grab way let seeat nd avenue suite seattle let seeat nd avenue suite seattle huh three blocks perfect pick head light rail station ok getting today want usual mocha really need cut calories lets go standard cafe latte sure thing size would like short tall grande venti tall fine ordered venti last week regretted got alright single double espresso shot single single four oclock dont need awake understood ah type milk one almond coconut nonfat whole two percent soy lets go almond ive one lately hey thought trying cut carbon footprint giving hard time flavor honey caramel lets keep plain still holidays walk chuck wanna see carbon footprint walk ill plant one backside ha ha maybe another time okay ive got tall single plain latte almond milk flavoring sure dont want cookie chuck youre incredibly unhelpful wellintentioned alright order thing use expense account command caffeine awaits pickup russell investments starbucks nd avenue receipt texted usual thank much good sir hey one last thingis page still open tell calorie count thing sure calories third fat add last little detail didnt thats pay',\n       dtype='<U1223'),\n array('would like order something bosses pizza put order sure let know want need order like location fort worth okay let look okay okay bosses lake worth blvd fort worth tx okay sounds good okay would like want small thin crust pizza black olives pepperoni okay black olives green okay ran tonight yes add extra cheese please okay problem thanks much okay putting order okay see get coupons checked nothing available currently okay thats great order name okay submitted name pick mins thats perfect thank much help thank lovely day',\n       dtype='<U524')]"
     },
     "metadata": {},
     "execution_count": 83
    }
   ],
   "source": [
    "doc_series = []\n",
    "for i, row in corpus_df.iterrows():\n",
    "    doc_series.append(row.selfdialog_norm)\n",
    "\n",
    "print(len(doc_series))\n",
    "doc_series[1:7]"
   ]
  },
  {
   "cell_type": "code",
   "execution_count": 70,
   "metadata": {},
   "outputs": [
    {
     "output_type": "error",
     "ename": "TypeError",
     "evalue": "cannot use a string pattern on a bytes-like object",
     "traceback": [
      "\u001b[1;31m---------------------------------------------------------------------------\u001b[0m",
      "\u001b[1;31mTypeError\u001b[0m                                 Traceback (most recent call last)",
      "\u001b[1;32m<ipython-input-70-ba45c08e4f85>\u001b[0m in \u001b[0;36m<module>\u001b[1;34m\u001b[0m\n\u001b[0;32m      8\u001b[0m \u001b[1;31m#doc_temp = [[word.lower() for word in sent if word not in remove_terms] for sent in doc_series]\u001b[0m\u001b[1;33m\u001b[0m\u001b[1;33m\u001b[0m\u001b[1;33m\u001b[0m\u001b[0m\n\u001b[0;32m      9\u001b[0m \u001b[1;31m#doc_temp = [' '.join(tok_sent) for tok_sent in doc_temp]\u001b[0m\u001b[1;33m\u001b[0m\u001b[1;33m\u001b[0m\u001b[1;33m\u001b[0m\u001b[0m\n\u001b[1;32m---> 10\u001b[1;33m \u001b[0mdoc_series\u001b[0m \u001b[1;33m=\u001b[0m \u001b[0mfilter\u001b[0m\u001b[1;33m(\u001b[0m\u001b[1;32mNone\u001b[0m\u001b[1;33m,\u001b[0m \u001b[0mnormalize_corpus\u001b[0m\u001b[1;33m(\u001b[0m\u001b[0mdoc_series\u001b[0m\u001b[1;33m)\u001b[0m\u001b[1;33m)\u001b[0m\u001b[1;33m\u001b[0m\u001b[1;33m\u001b[0m\u001b[0m\n\u001b[0m\u001b[0;32m     11\u001b[0m \u001b[0mdoc_series\u001b[0m \u001b[1;33m=\u001b[0m \u001b[1;33m[\u001b[0m\u001b[0mtok_sent\u001b[0m \u001b[1;32mfor\u001b[0m \u001b[0mtok_sent\u001b[0m \u001b[1;32min\u001b[0m \u001b[0mdoc_series\u001b[0m \u001b[1;32mif\u001b[0m \u001b[0mlen\u001b[0m\u001b[1;33m(\u001b[0m\u001b[0mtok_sent\u001b[0m\u001b[1;33m.\u001b[0m\u001b[0msplit\u001b[0m\u001b[1;33m(\u001b[0m\u001b[1;33m)\u001b[0m\u001b[1;33m)\u001b[0m \u001b[1;33m>\u001b[0m \u001b[1;36m2\u001b[0m\u001b[1;33m]\u001b[0m\u001b[1;33m\u001b[0m\u001b[1;33m\u001b[0m\u001b[0m\n\u001b[0;32m     12\u001b[0m \u001b[1;33m\u001b[0m\u001b[0m\n",
      "\u001b[1;32mD:\\Tools\\anaconda3\\envs\\TensonFlow-GPU\\lib\\site-packages\\numpy\\lib\\function_base.py\u001b[0m in \u001b[0;36m__call__\u001b[1;34m(self, *args, **kwargs)\u001b[0m\n\u001b[0;32m   2089\u001b[0m             \u001b[0mvargs\u001b[0m\u001b[1;33m.\u001b[0m\u001b[0mextend\u001b[0m\u001b[1;33m(\u001b[0m\u001b[1;33m[\u001b[0m\u001b[0mkwargs\u001b[0m\u001b[1;33m[\u001b[0m\u001b[0m_n\u001b[0m\u001b[1;33m]\u001b[0m \u001b[1;32mfor\u001b[0m \u001b[0m_n\u001b[0m \u001b[1;32min\u001b[0m \u001b[0mnames\u001b[0m\u001b[1;33m]\u001b[0m\u001b[1;33m)\u001b[0m\u001b[1;33m\u001b[0m\u001b[1;33m\u001b[0m\u001b[0m\n\u001b[0;32m   2090\u001b[0m \u001b[1;33m\u001b[0m\u001b[0m\n\u001b[1;32m-> 2091\u001b[1;33m         \u001b[1;32mreturn\u001b[0m \u001b[0mself\u001b[0m\u001b[1;33m.\u001b[0m\u001b[0m_vectorize_call\u001b[0m\u001b[1;33m(\u001b[0m\u001b[0mfunc\u001b[0m\u001b[1;33m=\u001b[0m\u001b[0mfunc\u001b[0m\u001b[1;33m,\u001b[0m \u001b[0margs\u001b[0m\u001b[1;33m=\u001b[0m\u001b[0mvargs\u001b[0m\u001b[1;33m)\u001b[0m\u001b[1;33m\u001b[0m\u001b[1;33m\u001b[0m\u001b[0m\n\u001b[0m\u001b[0;32m   2092\u001b[0m \u001b[1;33m\u001b[0m\u001b[0m\n\u001b[0;32m   2093\u001b[0m     \u001b[1;32mdef\u001b[0m \u001b[0m_get_ufunc_and_otypes\u001b[0m\u001b[1;33m(\u001b[0m\u001b[0mself\u001b[0m\u001b[1;33m,\u001b[0m \u001b[0mfunc\u001b[0m\u001b[1;33m,\u001b[0m \u001b[0margs\u001b[0m\u001b[1;33m)\u001b[0m\u001b[1;33m:\u001b[0m\u001b[1;33m\u001b[0m\u001b[1;33m\u001b[0m\u001b[0m\n",
      "\u001b[1;32mD:\\Tools\\anaconda3\\envs\\TensonFlow-GPU\\lib\\site-packages\\numpy\\lib\\function_base.py\u001b[0m in \u001b[0;36m_vectorize_call\u001b[1;34m(self, func, args)\u001b[0m\n\u001b[0;32m   2165\u001b[0m                       for a in args]\n\u001b[0;32m   2166\u001b[0m \u001b[1;33m\u001b[0m\u001b[0m\n\u001b[1;32m-> 2167\u001b[1;33m             \u001b[0moutputs\u001b[0m \u001b[1;33m=\u001b[0m \u001b[0mufunc\u001b[0m\u001b[1;33m(\u001b[0m\u001b[1;33m*\u001b[0m\u001b[0minputs\u001b[0m\u001b[1;33m)\u001b[0m\u001b[1;33m\u001b[0m\u001b[1;33m\u001b[0m\u001b[0m\n\u001b[0m\u001b[0;32m   2168\u001b[0m \u001b[1;33m\u001b[0m\u001b[0m\n\u001b[0;32m   2169\u001b[0m             \u001b[1;32mif\u001b[0m \u001b[0mufunc\u001b[0m\u001b[1;33m.\u001b[0m\u001b[0mnout\u001b[0m \u001b[1;33m==\u001b[0m \u001b[1;36m1\u001b[0m\u001b[1;33m:\u001b[0m\u001b[1;33m\u001b[0m\u001b[1;33m\u001b[0m\u001b[0m\n",
      "\u001b[1;32m<ipython-input-24-e2e7b5f51799>\u001b[0m in \u001b[0;36mnormalize_document\u001b[1;34m(doc)\u001b[0m\n\u001b[0;32m      5\u001b[0m     \u001b[1;31m# lower case and remove special characters\\whitespaces\u001b[0m\u001b[1;33m\u001b[0m\u001b[1;33m\u001b[0m\u001b[1;33m\u001b[0m\u001b[0m\n\u001b[0;32m      6\u001b[0m     \u001b[1;31m#doc = \"'\" + doc + \"'\"\u001b[0m\u001b[1;33m\u001b[0m\u001b[1;33m\u001b[0m\u001b[1;33m\u001b[0m\u001b[0m\n\u001b[1;32m----> 7\u001b[1;33m     \u001b[0mdoc\u001b[0m \u001b[1;33m=\u001b[0m \u001b[0mre\u001b[0m\u001b[1;33m.\u001b[0m\u001b[0msub\u001b[0m\u001b[1;33m(\u001b[0m\u001b[1;34mr'[^a-zA-Z\\s]'\u001b[0m\u001b[1;33m,\u001b[0m \u001b[1;34m''\u001b[0m\u001b[1;33m,\u001b[0m \u001b[0mdoc\u001b[0m\u001b[1;33m,\u001b[0m \u001b[0mre\u001b[0m\u001b[1;33m.\u001b[0m\u001b[0mI\u001b[0m\u001b[1;33m|\u001b[0m\u001b[0mre\u001b[0m\u001b[1;33m.\u001b[0m\u001b[0mA\u001b[0m\u001b[1;33m)\u001b[0m\u001b[1;33m\u001b[0m\u001b[1;33m\u001b[0m\u001b[0m\n\u001b[0m\u001b[0;32m      8\u001b[0m     \u001b[0mdoc\u001b[0m \u001b[1;33m=\u001b[0m \u001b[0mdoc\u001b[0m\u001b[1;33m.\u001b[0m\u001b[0mlower\u001b[0m\u001b[1;33m(\u001b[0m\u001b[1;33m)\u001b[0m\u001b[1;33m\u001b[0m\u001b[1;33m\u001b[0m\u001b[0m\n\u001b[0;32m      9\u001b[0m     \u001b[0mdoc\u001b[0m \u001b[1;33m=\u001b[0m \u001b[0mdoc\u001b[0m\u001b[1;33m.\u001b[0m\u001b[0mstrip\u001b[0m\u001b[1;33m(\u001b[0m\u001b[1;33m)\u001b[0m\u001b[1;33m\u001b[0m\u001b[1;33m\u001b[0m\u001b[0m\n",
      "\u001b[1;32mD:\\Tools\\anaconda3\\envs\\TensonFlow-GPU\\lib\\re.py\u001b[0m in \u001b[0;36msub\u001b[1;34m(pattern, repl, string, count, flags)\u001b[0m\n\u001b[0;32m    190\u001b[0m     \u001b[0ma\u001b[0m \u001b[0mcallable\u001b[0m\u001b[1;33m,\u001b[0m \u001b[0mit\u001b[0m\u001b[0;31m'\u001b[0m\u001b[0ms\u001b[0m \u001b[0mpassed\u001b[0m \u001b[0mthe\u001b[0m \u001b[0mMatch\u001b[0m \u001b[0mobject\u001b[0m \u001b[1;32mand\u001b[0m \u001b[0mmust\u001b[0m \u001b[1;32mreturn\u001b[0m\u001b[1;33m\u001b[0m\u001b[1;33m\u001b[0m\u001b[0m\n\u001b[0;32m    191\u001b[0m     a replacement string to be used.\"\"\"\n\u001b[1;32m--> 192\u001b[1;33m     \u001b[1;32mreturn\u001b[0m \u001b[0m_compile\u001b[0m\u001b[1;33m(\u001b[0m\u001b[0mpattern\u001b[0m\u001b[1;33m,\u001b[0m \u001b[0mflags\u001b[0m\u001b[1;33m)\u001b[0m\u001b[1;33m.\u001b[0m\u001b[0msub\u001b[0m\u001b[1;33m(\u001b[0m\u001b[0mrepl\u001b[0m\u001b[1;33m,\u001b[0m \u001b[0mstring\u001b[0m\u001b[1;33m,\u001b[0m \u001b[0mcount\u001b[0m\u001b[1;33m)\u001b[0m\u001b[1;33m\u001b[0m\u001b[1;33m\u001b[0m\u001b[0m\n\u001b[0m\u001b[0;32m    193\u001b[0m \u001b[1;33m\u001b[0m\u001b[0m\n\u001b[0;32m    194\u001b[0m \u001b[1;32mdef\u001b[0m \u001b[0msubn\u001b[0m\u001b[1;33m(\u001b[0m\u001b[0mpattern\u001b[0m\u001b[1;33m,\u001b[0m \u001b[0mrepl\u001b[0m\u001b[1;33m,\u001b[0m \u001b[0mstring\u001b[0m\u001b[1;33m,\u001b[0m \u001b[0mcount\u001b[0m\u001b[1;33m=\u001b[0m\u001b[1;36m0\u001b[0m\u001b[1;33m,\u001b[0m \u001b[0mflags\u001b[0m\u001b[1;33m=\u001b[0m\u001b[1;36m0\u001b[0m\u001b[1;33m)\u001b[0m\u001b[1;33m:\u001b[0m\u001b[1;33m\u001b[0m\u001b[1;33m\u001b[0m\u001b[0m\n",
      "\u001b[1;31mTypeError\u001b[0m: cannot use a string pattern on a bytes-like object"
     ]
    }
   ],
   "source": [
    "from nltk.corpus import gutenberg\n",
    "from string import punctuation\n",
    "\n",
    "remove_terms = punctuation + '0123456789'\n",
    "\n",
    "#doc_temp = np.array(list(doc_str))\n",
    "\n",
    "#doc_temp = [[word.lower() for word in sent if word not in remove_terms] for sent in doc_series]\n",
    "#doc_temp = [' '.join(tok_sent) for tok_sent in doc_temp]\n",
    "doc_series = filter(None, normalize_corpus(doc_series))\n",
    "doc_series = [tok_sent for tok_sent in doc_series if len(tok_sent.split()) > 2]\n",
    "\n",
    "#print('Total lines:', len(doc_series))\n",
    "#print('\\nSample line:', doc_series[10])\n",
    "#doc_series\n",
    "#print('\\nProcessed line:', doc_temp[10])"
   ]
  },
  {
   "cell_type": "markdown",
   "metadata": {},
   "source": [
    "#### Build Vocabulary"
   ]
  },
  {
   "cell_type": "code",
   "execution_count": 78,
   "metadata": {},
   "outputs": [
    {
     "output_type": "error",
     "ename": "AttributeError",
     "evalue": "'numpy.ndarray' object has no attribute 'lower'",
     "traceback": [
      "\u001b[1;31m---------------------------------------------------------------------------\u001b[0m",
      "\u001b[1;31mAttributeError\u001b[0m                            Traceback (most recent call last)",
      "\u001b[1;32m<ipython-input-78-93f5286a7ee4>\u001b[0m in \u001b[0;36m<module>\u001b[1;34m\u001b[0m\n\u001b[0;32m      4\u001b[0m \u001b[1;33m\u001b[0m\u001b[0m\n\u001b[0;32m      5\u001b[0m \u001b[0mtokenizer\u001b[0m \u001b[1;33m=\u001b[0m \u001b[0mtext\u001b[0m\u001b[1;33m.\u001b[0m\u001b[0mTokenizer\u001b[0m\u001b[1;33m(\u001b[0m\u001b[1;33m)\u001b[0m\u001b[1;33m\u001b[0m\u001b[1;33m\u001b[0m\u001b[0m\n\u001b[1;32m----> 6\u001b[1;33m \u001b[0mtokenizer\u001b[0m\u001b[1;33m.\u001b[0m\u001b[0mfit_on_texts\u001b[0m\u001b[1;33m(\u001b[0m\u001b[0mdoc_series\u001b[0m\u001b[1;33m)\u001b[0m\u001b[1;33m\u001b[0m\u001b[1;33m\u001b[0m\u001b[0m\n\u001b[0m\u001b[0;32m      7\u001b[0m \u001b[0mword2id\u001b[0m \u001b[1;33m=\u001b[0m \u001b[0mtokenizer\u001b[0m\u001b[1;33m.\u001b[0m\u001b[0mword_index\u001b[0m\u001b[1;33m\u001b[0m\u001b[1;33m\u001b[0m\u001b[0m\n\u001b[0;32m      8\u001b[0m \u001b[1;33m\u001b[0m\u001b[0m\n",
      "\u001b[1;32mD:\\Tools\\anaconda3\\envs\\TensonFlow-GPU\\lib\\site-packages\\keras_preprocessing\\text.py\u001b[0m in \u001b[0;36mfit_on_texts\u001b[1;34m(self, texts)\u001b[0m\n\u001b[0;32m    221\u001b[0m                                             \u001b[0mself\u001b[0m\u001b[1;33m.\u001b[0m\u001b[0mfilters\u001b[0m\u001b[1;33m,\u001b[0m\u001b[1;33m\u001b[0m\u001b[1;33m\u001b[0m\u001b[0m\n\u001b[0;32m    222\u001b[0m                                             \u001b[0mself\u001b[0m\u001b[1;33m.\u001b[0m\u001b[0mlower\u001b[0m\u001b[1;33m,\u001b[0m\u001b[1;33m\u001b[0m\u001b[1;33m\u001b[0m\u001b[0m\n\u001b[1;32m--> 223\u001b[1;33m                                             self.split)\n\u001b[0m\u001b[0;32m    224\u001b[0m             \u001b[1;32mfor\u001b[0m \u001b[0mw\u001b[0m \u001b[1;32min\u001b[0m \u001b[0mseq\u001b[0m\u001b[1;33m:\u001b[0m\u001b[1;33m\u001b[0m\u001b[1;33m\u001b[0m\u001b[0m\n\u001b[0;32m    225\u001b[0m                 \u001b[1;32mif\u001b[0m \u001b[0mw\u001b[0m \u001b[1;32min\u001b[0m \u001b[0mself\u001b[0m\u001b[1;33m.\u001b[0m\u001b[0mword_counts\u001b[0m\u001b[1;33m:\u001b[0m\u001b[1;33m\u001b[0m\u001b[1;33m\u001b[0m\u001b[0m\n",
      "\u001b[1;32mD:\\Tools\\anaconda3\\envs\\TensonFlow-GPU\\lib\\site-packages\\keras_preprocessing\\text.py\u001b[0m in \u001b[0;36mtext_to_word_sequence\u001b[1;34m(text, filters, lower, split)\u001b[0m\n\u001b[0;32m     41\u001b[0m     \"\"\"\n\u001b[0;32m     42\u001b[0m     \u001b[1;32mif\u001b[0m \u001b[0mlower\u001b[0m\u001b[1;33m:\u001b[0m\u001b[1;33m\u001b[0m\u001b[1;33m\u001b[0m\u001b[0m\n\u001b[1;32m---> 43\u001b[1;33m         \u001b[0mtext\u001b[0m \u001b[1;33m=\u001b[0m \u001b[0mtext\u001b[0m\u001b[1;33m.\u001b[0m\u001b[0mlower\u001b[0m\u001b[1;33m(\u001b[0m\u001b[1;33m)\u001b[0m\u001b[1;33m\u001b[0m\u001b[1;33m\u001b[0m\u001b[0m\n\u001b[0m\u001b[0;32m     44\u001b[0m \u001b[1;33m\u001b[0m\u001b[0m\n\u001b[0;32m     45\u001b[0m     \u001b[1;32mif\u001b[0m \u001b[0msys\u001b[0m\u001b[1;33m.\u001b[0m\u001b[0mversion_info\u001b[0m \u001b[1;33m<\u001b[0m \u001b[1;33m(\u001b[0m\u001b[1;36m3\u001b[0m\u001b[1;33m,\u001b[0m\u001b[1;33m)\u001b[0m\u001b[1;33m:\u001b[0m\u001b[1;33m\u001b[0m\u001b[1;33m\u001b[0m\u001b[0m\n",
      "\u001b[1;31mAttributeError\u001b[0m: 'numpy.ndarray' object has no attribute 'lower'"
     ]
    }
   ],
   "source": [
    "from keras.preprocessing import text\n",
    "from keras.utils import np_utils\n",
    "from keras.preprocessing import sequence\n",
    "\n",
    "tokenizer = text.Tokenizer()\n",
    "tokenizer.fit_on_texts(doc_series)\n",
    "word2id = tokenizer.word_index\n",
    "\n",
    "word2id['PAD'] = 0\n",
    "id2word = {v:k for k, v in word2id.items()}\n",
    "wids = [[word2id[w] for w in text.text_to_word_sequence(doc)] for doc in doc_series]\n",
    "\n",
    "vocab_size = len(word2id)\n",
    "embed_size = 100\n",
    "window_size = 2\n",
    "\n",
    "print('Vocabulary Size:', vocab_size)\n",
    "print('Vocabulary Sample:', list(word2id.items())[:100])"
   ]
  },
  {
   "cell_type": "markdown",
   "metadata": {},
   "source": [
    "#### Bag of NGrams Model"
   ]
  },
  {
   "cell_type": "code",
   "execution_count": null,
   "metadata": {},
   "outputs": [],
   "source": []
  },
  {
   "cell_type": "code",
   "execution_count": null,
   "metadata": {},
   "outputs": [],
   "source": []
  },
  {
   "cell_type": "code",
   "execution_count": null,
   "metadata": {},
   "outputs": [],
   "source": []
  },
  {
   "cell_type": "code",
   "execution_count": null,
   "metadata": {},
   "outputs": [],
   "source": []
  },
  {
   "cell_type": "code",
   "execution_count": null,
   "metadata": {},
   "outputs": [],
   "source": []
  },
  {
   "cell_type": "code",
   "execution_count": null,
   "metadata": {},
   "outputs": [],
   "source": []
  },
  {
   "cell_type": "code",
   "execution_count": null,
   "metadata": {},
   "outputs": [],
   "source": []
  },
  {
   "cell_type": "code",
   "execution_count": null,
   "metadata": {},
   "outputs": [],
   "source": []
  },
  {
   "cell_type": "code",
   "execution_count": null,
   "metadata": {},
   "outputs": [],
   "source": []
  },
  {
   "cell_type": "code",
   "execution_count": null,
   "metadata": {},
   "outputs": [],
   "source": []
  },
  {
   "cell_type": "code",
   "execution_count": null,
   "metadata": {},
   "outputs": [],
   "source": []
  },
  {
   "cell_type": "code",
   "execution_count": null,
   "metadata": {},
   "outputs": [],
   "source": []
  },
  {
   "cell_type": "code",
   "execution_count": null,
   "metadata": {},
   "outputs": [],
   "source": []
  },
  {
   "cell_type": "code",
   "execution_count": null,
   "metadata": {},
   "outputs": [],
   "source": []
  },
  {
   "cell_type": "code",
   "execution_count": null,
   "metadata": {},
   "outputs": [],
   "source": []
  },
  {
   "cell_type": "code",
   "execution_count": null,
   "metadata": {},
   "outputs": [],
   "source": []
  },
  {
   "cell_type": "code",
   "execution_count": null,
   "metadata": {},
   "outputs": [],
   "source": []
  },
  {
   "cell_type": "code",
   "execution_count": null,
   "metadata": {},
   "outputs": [],
   "source": []
  },
  {
   "cell_type": "code",
   "execution_count": null,
   "metadata": {},
   "outputs": [],
   "source": []
  },
  {
   "cell_type": "code",
   "execution_count": null,
   "metadata": {},
   "outputs": [],
   "source": []
  },
  {
   "cell_type": "code",
   "execution_count": null,
   "metadata": {},
   "outputs": [],
   "source": []
  },
  {
   "cell_type": "code",
   "execution_count": null,
   "metadata": {},
   "outputs": [],
   "source": []
  }
 ],
 "metadata": {
  "kernelspec": {
   "display_name": "Python 3",
   "language": "python",
   "name": "python3"
  },
  "language_info": {
   "codemirror_mode": {
    "name": "ipython",
    "version": 3
   },
   "file_extension": ".py",
   "mimetype": "text/x-python",
   "name": "python",
   "nbconvert_exporter": "python",
   "pygments_lexer": "ipython3",
   "version": "3.7.7-final"
  }
 },
 "nbformat": 4,
 "nbformat_minor": 4
}