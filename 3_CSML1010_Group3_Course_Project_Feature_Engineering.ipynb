{
 "cells": [
  {
   "cell_type": "markdown",
   "metadata": {},
   "source": [
    "CSML1010 Group3 Course_Project - Feature Engineering"
   ]
  },
  {
   "cell_type": "markdown",
   "metadata": {},
   "source": [
    "#### Import Libraries"
   ]
  },
  {
   "cell_type": "code",
   "execution_count": 86,
   "metadata": {},
   "outputs": [],
   "source": [
    "# import pandas, numpy\n",
    "import pandas as pd\n",
    "import numpy as np\n",
    "import re\n",
    "import nltk\n",
    ""
   ]
  },
  {
   "cell_type": "markdown",
   "metadata": {},
   "source": [
    "#### Set Some Defaults"
   ]
  },
  {
   "cell_type": "code",
   "execution_count": 87,
   "metadata": {},
   "outputs": [],
   "source": [
    "# adjust pandas display\n",
    "pd.options.display.max_columns = 30\n",
    "pd.options.display.max_rows = 100\n",
    "pd.options.display.float_format = '{:.2f}'.format\n",
    "pd.options.display.precision = 2\n",
    "pd.options.display.max_colwidth = None\n",
    "\n",
    "# Import matplotlib and seaborn and adjust some defaults\n",
    "%matplotlib inline\n",
    "%config InlineBackend.figure_format = 'svg'\n",
    "\n",
    "from matplotlib import pyplot as plt\n",
    "plt.rcParams['figure.dpi'] = 100\n",
    "\n",
    "import seaborn as sns\n",
    "sns.set_style(\"whitegrid\")"
   ]
  },
  {
   "cell_type": "markdown",
   "metadata": {},
   "source": [
    "#### Load Data"
   ]
  },
  {
   "cell_type": "code",
   "execution_count": 88,
   "metadata": {},
   "outputs": [],
   "source": [
    "import sqlite3\n",
    "\n",
    "sql = \"\"\"\n",
    "SELECT p.*\n",
    "FROM posts_nlp p\n",
    "\"\"\"\n",
    "\n",
    "with sqlite3.connect('selfdialogs.db') as con:\n",
    "    df = pd.read_sql_query(sql, con)"
   ]
  },
  {
   "cell_type": "markdown",
   "metadata": {},
   "source": [
    "#### Get relevant columns"
   ]
  },
  {
   "cell_type": "code",
   "execution_count": 89,
   "metadata": {},
   "outputs": [
    {
     "output_type": "execute_result",
     "data": {
      "text/plain": "                                                                                                                                                                                                                                                                                                                                                                                                                                                                                                                                                                                                                                                                                                                                                                                                                                                                                                                                                                                                                                                                                                                                                      selfdialog_clean  \\\n0                                                                                                                                                                                                                                                                                                                                                                                      Hi, I'm looking to book a table for Korean fod. Ok, what area are you thinking about? Somewhere in Southern NYC, maybe the East Village? Ok, great.  There's Thursday Kitchen, it has great reviews. That's great. So I need a table for tonight at 7 pm for 8 people. We don't want to sit at the bar, but anywhere else is fine. They don't have any availability for 7 pm. What times are available? 5 or 8. Yikes, we can't do those times. Ok, do you have a second choice? Let me check. Ok. Lets try Boka, are they free for 8 people at 7? Yes. Great, let's book that. Ok great, are there any other requests? No, that's it, just book. Great, should I use your account you have open with them? Yes please. Great. You will get a confirmation to your phone soon.    \n1                                                                                                                                                Hi I would like to see if the Movie What Men Want is playing here. Yes it's showing here would you like to purchase a ticket? Yes, for me and a friend so two tickets please Okay. What time is that moving playing today? That movie is showing at 4, 5, and 8pm. Okay. Is there anymore movies showing around 8pm Yes , showing at 8pm is Green Book. What is that about? It's about two men dealing with racisim. Oh, no can you recommend anything else? What do you like? Well I like movies that are funny. Like comedies? Well no I like action as well. Okay. How to train your dragon is playing at 8pm. Okay can i get two tickets for that ? So you want me to cancel the tickets for What men want ? Yes please. Okay, no problem. How much will this cost. You said two adult tickets? Yes. Okay, that will be $20.80 Okay. Anything else I can help you with ? Yes can i bring my own food to theater. No, sorry you have to purchase food in the lobby. Okay that is fine. Thank you enjoy your movie    \n2                                                                                                                                                                                                                                                                                                                                                                                                                                           I want to watch avengers endgame where do you want to watch it at? at bangkok close the hotel I a currently staying sounds good, what time do you want to watch the movie? 8 o'clock how many tickets? two and should we use the account we already have with the movie theater? yes It seems they do not have any movie at that time let's watch another movie then what other movie do you want to watch let's watch how to train your dragon the newest one yes, that one I don't think that movie is playing at that time either so neither choices are playing at the time I want to watch I am afraid so  I am no longer interested in watching the movie very well, have a great day sir thank you you are welcome    \n3                                                                                                                                                                                                                                                                                                                                                                                             I want to order a pizza from Bertuccis in Chelmsford, MA what type of pizza would you like?  a silano what size  a large please understood. will do thanks unfortunately bertuccis has run out of broccoli and so are not offering the silano style pizza today I see would you like a different type of pizza?  yes. i would like a sporkie pizza what size would you like?  large ok. I have confirmed your order for a large sporkie pizza at the bertuccis in chelmsford, ma very good would you like anything else?  no thank you you will be receiving a text message on your phone confirming the details of your order including the receipt and will be ready for pick up in 25 minutes great. thank you so much you're welcome. glad i could be of assistance    \n4  Hi I'd like to order two large pizzas. Sure, what kind of pizzas to you have in mind? I'll have a Hawaiian please. sure, is there anything else I can get for you? Yes, I'd like a large meat lover pizza please. I am sorry, we're currently out of the meat lover pizza. Is there anything else you'd like instead? Sure. I'd like a buffalo chicken pizza please. Sure thing. What size do you want your buffalo chicken pizza? Large please. What kind of crust do you want for your Hawaiian pizza? Hand tossed please. What kind of crust do you want for you buffalo chicken pizza? Also hand tossed please. thank you very much. Is there anything else I can get for you? No, that's it for today. Thank you My pleasure. So we have a large, hand tossed crust buffalo chicken pizza and a large hand tossed crust Hawaiian pizza. Is that correct? Perfect So your total today will be $25  Sounds good Awesome. Can I have a name for the order please? It's John Doe Can I also have a phone number for order update? sure it123456789 ok, thank you very much. Your order will be ready to pick up in 25 minutes sounds good. Thank you My pleasure     \n\n       Instruction_id  \n0  restaurant-table-2  \n1     movie-tickets-1  \n2     movie-tickets-3  \n3    pizza-ordering-2  \n4    pizza-ordering-2  ",
      "text/html": "<div>\n<style scoped>\n    .dataframe tbody tr th:only-of-type {\n        vertical-align: middle;\n    }\n\n    .dataframe tbody tr th {\n        vertical-align: top;\n    }\n\n    .dataframe thead th {\n        text-align: right;\n    }\n</style>\n<table border=\"1\" class=\"dataframe\">\n  <thead>\n    <tr style=\"text-align: right;\">\n      <th></th>\n      <th>selfdialog_clean</th>\n      <th>Instruction_id</th>\n    </tr>\n  </thead>\n  <tbody>\n    <tr>\n      <th>0</th>\n      <td>Hi, I'm looking to book a table for Korean fod. Ok, what area are you thinking about? Somewhere in Southern NYC, maybe the East Village? Ok, great.  There's Thursday Kitchen, it has great reviews. That's great. So I need a table for tonight at 7 pm for 8 people. We don't want to sit at the bar, but anywhere else is fine. They don't have any availability for 7 pm. What times are available? 5 or 8. Yikes, we can't do those times. Ok, do you have a second choice? Let me check. Ok. Lets try Boka, are they free for 8 people at 7? Yes. Great, let's book that. Ok great, are there any other requests? No, that's it, just book. Great, should I use your account you have open with them? Yes please. Great. You will get a confirmation to your phone soon.</td>\n      <td>restaurant-table-2</td>\n    </tr>\n    <tr>\n      <th>1</th>\n      <td>Hi I would like to see if the Movie What Men Want is playing here. Yes it's showing here would you like to purchase a ticket? Yes, for me and a friend so two tickets please Okay. What time is that moving playing today? That movie is showing at 4, 5, and 8pm. Okay. Is there anymore movies showing around 8pm Yes , showing at 8pm is Green Book. What is that about? It's about two men dealing with racisim. Oh, no can you recommend anything else? What do you like? Well I like movies that are funny. Like comedies? Well no I like action as well. Okay. How to train your dragon is playing at 8pm. Okay can i get two tickets for that ? So you want me to cancel the tickets for What men want ? Yes please. Okay, no problem. How much will this cost. You said two adult tickets? Yes. Okay, that will be $20.80 Okay. Anything else I can help you with ? Yes can i bring my own food to theater. No, sorry you have to purchase food in the lobby. Okay that is fine. Thank you enjoy your movie</td>\n      <td>movie-tickets-1</td>\n    </tr>\n    <tr>\n      <th>2</th>\n      <td>I want to watch avengers endgame where do you want to watch it at? at bangkok close the hotel I a currently staying sounds good, what time do you want to watch the movie? 8 o'clock how many tickets? two and should we use the account we already have with the movie theater? yes It seems they do not have any movie at that time let's watch another movie then what other movie do you want to watch let's watch how to train your dragon the newest one yes, that one I don't think that movie is playing at that time either so neither choices are playing at the time I want to watch I am afraid so  I am no longer interested in watching the movie very well, have a great day sir thank you you are welcome</td>\n      <td>movie-tickets-3</td>\n    </tr>\n    <tr>\n      <th>3</th>\n      <td>I want to order a pizza from Bertuccis in Chelmsford, MA what type of pizza would you like?  a silano what size  a large please understood. will do thanks unfortunately bertuccis has run out of broccoli and so are not offering the silano style pizza today I see would you like a different type of pizza?  yes. i would like a sporkie pizza what size would you like?  large ok. I have confirmed your order for a large sporkie pizza at the bertuccis in chelmsford, ma very good would you like anything else?  no thank you you will be receiving a text message on your phone confirming the details of your order including the receipt and will be ready for pick up in 25 minutes great. thank you so much you're welcome. glad i could be of assistance</td>\n      <td>pizza-ordering-2</td>\n    </tr>\n    <tr>\n      <th>4</th>\n      <td>Hi I'd like to order two large pizzas. Sure, what kind of pizzas to you have in mind? I'll have a Hawaiian please. sure, is there anything else I can get for you? Yes, I'd like a large meat lover pizza please. I am sorry, we're currently out of the meat lover pizza. Is there anything else you'd like instead? Sure. I'd like a buffalo chicken pizza please. Sure thing. What size do you want your buffalo chicken pizza? Large please. What kind of crust do you want for your Hawaiian pizza? Hand tossed please. What kind of crust do you want for you buffalo chicken pizza? Also hand tossed please. thank you very much. Is there anything else I can get for you? No, that's it for today. Thank you My pleasure. So we have a large, hand tossed crust buffalo chicken pizza and a large hand tossed crust Hawaiian pizza. Is that correct? Perfect So your total today will be $25  Sounds good Awesome. Can I have a name for the order please? It's John Doe Can I also have a phone number for order update? sure it123456789 ok, thank you very much. Your order will be ready to pick up in 25 minutes sounds good. Thank you My pleasure</td>\n      <td>pizza-ordering-2</td>\n    </tr>\n  </tbody>\n</table>\n</div>"
     },
     "metadata": {},
     "execution_count": 89
    }
   ],
   "source": [
    "sql = \"\"\"\n",
    "SELECT p.selfdialog_clean, p.instruction_id\n",
    "FROM posts_nlp p\n",
    "\"\"\"\n",
    "\n",
    "with sqlite3.connect('selfdialogs.db') as con:\n",
    "    corpus_df = pd.read_sql_query(sql, con)\n",
    "\n",
    "corpus_df.head(5)"
   ]
  },
  {
   "cell_type": "code",
   "execution_count": 90,
   "metadata": {},
   "outputs": [
    {
     "output_type": "execute_result",
     "data": {
      "text/plain": "                                                                                                                                                                                                                                                                                                                                                                                                                                                                                                                                                                                                                                                                                                                                                                                                                                                                                                                                                                                                                                                                                                                                                      selfdialog_clean  \\\n0                                                                                                                                                                                                                                                                                                                                                                                      Hi, I'm looking to book a table for Korean fod. Ok, what area are you thinking about? Somewhere in Southern NYC, maybe the East Village? Ok, great.  There's Thursday Kitchen, it has great reviews. That's great. So I need a table for tonight at 7 pm for 8 people. We don't want to sit at the bar, but anywhere else is fine. They don't have any availability for 7 pm. What times are available? 5 or 8. Yikes, we can't do those times. Ok, do you have a second choice? Let me check. Ok. Lets try Boka, are they free for 8 people at 7? Yes. Great, let's book that. Ok great, are there any other requests? No, that's it, just book. Great, should I use your account you have open with them? Yes please. Great. You will get a confirmation to your phone soon.    \n1                                                                                                                                                Hi I would like to see if the Movie What Men Want is playing here. Yes it's showing here would you like to purchase a ticket? Yes, for me and a friend so two tickets please Okay. What time is that moving playing today? That movie is showing at 4, 5, and 8pm. Okay. Is there anymore movies showing around 8pm Yes , showing at 8pm is Green Book. What is that about? It's about two men dealing with racisim. Oh, no can you recommend anything else? What do you like? Well I like movies that are funny. Like comedies? Well no I like action as well. Okay. How to train your dragon is playing at 8pm. Okay can i get two tickets for that ? So you want me to cancel the tickets for What men want ? Yes please. Okay, no problem. How much will this cost. You said two adult tickets? Yes. Okay, that will be $20.80 Okay. Anything else I can help you with ? Yes can i bring my own food to theater. No, sorry you have to purchase food in the lobby. Okay that is fine. Thank you enjoy your movie    \n2                                                                                                                                                                                                                                                                                                                                                                                                                                           I want to watch avengers endgame where do you want to watch it at? at bangkok close the hotel I a currently staying sounds good, what time do you want to watch the movie? 8 o'clock how many tickets? two and should we use the account we already have with the movie theater? yes It seems they do not have any movie at that time let's watch another movie then what other movie do you want to watch let's watch how to train your dragon the newest one yes, that one I don't think that movie is playing at that time either so neither choices are playing at the time I want to watch I am afraid so  I am no longer interested in watching the movie very well, have a great day sir thank you you are welcome    \n3                                                                                                                                                                                                                                                                                                                                                                                             I want to order a pizza from Bertuccis in Chelmsford, MA what type of pizza would you like?  a silano what size  a large please understood. will do thanks unfortunately bertuccis has run out of broccoli and so are not offering the silano style pizza today I see would you like a different type of pizza?  yes. i would like a sporkie pizza what size would you like?  large ok. I have confirmed your order for a large sporkie pizza at the bertuccis in chelmsford, ma very good would you like anything else?  no thank you you will be receiving a text message on your phone confirming the details of your order including the receipt and will be ready for pick up in 25 minutes great. thank you so much you're welcome. glad i could be of assistance    \n4  Hi I'd like to order two large pizzas. Sure, what kind of pizzas to you have in mind? I'll have a Hawaiian please. sure, is there anything else I can get for you? Yes, I'd like a large meat lover pizza please. I am sorry, we're currently out of the meat lover pizza. Is there anything else you'd like instead? Sure. I'd like a buffalo chicken pizza please. Sure thing. What size do you want your buffalo chicken pizza? Large please. What kind of crust do you want for your Hawaiian pizza? Hand tossed please. What kind of crust do you want for you buffalo chicken pizza? Also hand tossed please. thank you very much. Is there anything else I can get for you? No, that's it for today. Thank you My pleasure. So we have a large, hand tossed crust buffalo chicken pizza and a large hand tossed crust Hawaiian pizza. Is that correct? Perfect So your total today will be $25  Sounds good Awesome. Can I have a name for the order please? It's John Doe Can I also have a phone number for order update? sure it123456789 ok, thank you very much. Your order will be ready to pick up in 25 minutes sounds good. Thank you My pleasure     \n\n       Instruction_id  category  \n0  restaurant-table-2         0  \n1     movie-tickets-1         1  \n2     movie-tickets-3         2  \n3    pizza-ordering-2         3  \n4    pizza-ordering-2         3  ",
      "text/html": "<div>\n<style scoped>\n    .dataframe tbody tr th:only-of-type {\n        vertical-align: middle;\n    }\n\n    .dataframe tbody tr th {\n        vertical-align: top;\n    }\n\n    .dataframe thead th {\n        text-align: right;\n    }\n</style>\n<table border=\"1\" class=\"dataframe\">\n  <thead>\n    <tr style=\"text-align: right;\">\n      <th></th>\n      <th>selfdialog_clean</th>\n      <th>Instruction_id</th>\n      <th>category</th>\n    </tr>\n  </thead>\n  <tbody>\n    <tr>\n      <th>0</th>\n      <td>Hi, I'm looking to book a table for Korean fod. Ok, what area are you thinking about? Somewhere in Southern NYC, maybe the East Village? Ok, great.  There's Thursday Kitchen, it has great reviews. That's great. So I need a table for tonight at 7 pm for 8 people. We don't want to sit at the bar, but anywhere else is fine. They don't have any availability for 7 pm. What times are available? 5 or 8. Yikes, we can't do those times. Ok, do you have a second choice? Let me check. Ok. Lets try Boka, are they free for 8 people at 7? Yes. Great, let's book that. Ok great, are there any other requests? No, that's it, just book. Great, should I use your account you have open with them? Yes please. Great. You will get a confirmation to your phone soon.</td>\n      <td>restaurant-table-2</td>\n      <td>0</td>\n    </tr>\n    <tr>\n      <th>1</th>\n      <td>Hi I would like to see if the Movie What Men Want is playing here. Yes it's showing here would you like to purchase a ticket? Yes, for me and a friend so two tickets please Okay. What time is that moving playing today? That movie is showing at 4, 5, and 8pm. Okay. Is there anymore movies showing around 8pm Yes , showing at 8pm is Green Book. What is that about? It's about two men dealing with racisim. Oh, no can you recommend anything else? What do you like? Well I like movies that are funny. Like comedies? Well no I like action as well. Okay. How to train your dragon is playing at 8pm. Okay can i get two tickets for that ? So you want me to cancel the tickets for What men want ? Yes please. Okay, no problem. How much will this cost. You said two adult tickets? Yes. Okay, that will be $20.80 Okay. Anything else I can help you with ? Yes can i bring my own food to theater. No, sorry you have to purchase food in the lobby. Okay that is fine. Thank you enjoy your movie</td>\n      <td>movie-tickets-1</td>\n      <td>1</td>\n    </tr>\n    <tr>\n      <th>2</th>\n      <td>I want to watch avengers endgame where do you want to watch it at? at bangkok close the hotel I a currently staying sounds good, what time do you want to watch the movie? 8 o'clock how many tickets? two and should we use the account we already have with the movie theater? yes It seems they do not have any movie at that time let's watch another movie then what other movie do you want to watch let's watch how to train your dragon the newest one yes, that one I don't think that movie is playing at that time either so neither choices are playing at the time I want to watch I am afraid so  I am no longer interested in watching the movie very well, have a great day sir thank you you are welcome</td>\n      <td>movie-tickets-3</td>\n      <td>2</td>\n    </tr>\n    <tr>\n      <th>3</th>\n      <td>I want to order a pizza from Bertuccis in Chelmsford, MA what type of pizza would you like?  a silano what size  a large please understood. will do thanks unfortunately bertuccis has run out of broccoli and so are not offering the silano style pizza today I see would you like a different type of pizza?  yes. i would like a sporkie pizza what size would you like?  large ok. I have confirmed your order for a large sporkie pizza at the bertuccis in chelmsford, ma very good would you like anything else?  no thank you you will be receiving a text message on your phone confirming the details of your order including the receipt and will be ready for pick up in 25 minutes great. thank you so much you're welcome. glad i could be of assistance</td>\n      <td>pizza-ordering-2</td>\n      <td>3</td>\n    </tr>\n    <tr>\n      <th>4</th>\n      <td>Hi I'd like to order two large pizzas. Sure, what kind of pizzas to you have in mind? I'll have a Hawaiian please. sure, is there anything else I can get for you? Yes, I'd like a large meat lover pizza please. I am sorry, we're currently out of the meat lover pizza. Is there anything else you'd like instead? Sure. I'd like a buffalo chicken pizza please. Sure thing. What size do you want your buffalo chicken pizza? Large please. What kind of crust do you want for your Hawaiian pizza? Hand tossed please. What kind of crust do you want for you buffalo chicken pizza? Also hand tossed please. thank you very much. Is there anything else I can get for you? No, that's it for today. Thank you My pleasure. So we have a large, hand tossed crust buffalo chicken pizza and a large hand tossed crust Hawaiian pizza. Is that correct? Perfect So your total today will be $25  Sounds good Awesome. Can I have a name for the order please? It's John Doe Can I also have a phone number for order update? sure it123456789 ok, thank you very much. Your order will be ready to pick up in 25 minutes sounds good. Thank you My pleasure</td>\n      <td>pizza-ordering-2</td>\n      <td>3</td>\n    </tr>\n  </tbody>\n</table>\n</div>"
     },
     "metadata": {},
     "execution_count": 90
    }
   ],
   "source": [
    "corpus_df['category'] = corpus_df['Instruction_id'].factorize()[0]\n",
    "corpus_df.head(5)"
   ]
  },
  {
   "cell_type": "markdown",
   "metadata": {},
   "source": [
    "#### Word Embeddings"
   ]
  },
  {
   "cell_type": "code",
   "execution_count": 91,
   "metadata": {},
   "outputs": [
    {
     "output_type": "execute_result",
     "data": {
      "text/plain": "Index(['index', 'id', 'Conversation', 'Instruction_id', 'service_type',\n       'selfdialog_clean', 'selfdialog_lemma', 'selfdialog_nouns',\n       'selfdialog_adjectives', 'selfdialog_verbs', 'selfdialog_nav',\n       'no_tokens'],\n      dtype='object')"
     },
     "metadata": {},
     "execution_count": 91
    }
   ],
   "source": [
    "df.columns"
   ]
  },
  {
   "cell_type": "code",
   "execution_count": 102,
   "metadata": {},
   "outputs": [
    {
     "output_type": "execute_result",
     "data": {
      "text/plain": "Index(['selfdialog_clean', 'Instruction_id', 'category', 'selfdialog_norm'], dtype='object')"
     },
     "metadata": {},
     "execution_count": 102
    }
   ],
   "source": [
    "corpus_df.columns"
   ]
  },
  {
   "cell_type": "markdown",
   "metadata": {},
   "source": [
    "#### Do Some Additional CLeaning"
   ]
  },
  {
   "cell_type": "code",
   "execution_count": 124,
   "metadata": {},
   "outputs": [],
   "source": [
    "stop_words = nltk.corpus.stopwords.words('english')\n",
    "\n",
    "def normalize_document(doc):\n",
    "    # lower case and remove special characters\\whitespaces\n",
    "    #doc = \"'\" + doc + \"'\"\n",
    "    doc = re.sub(r'[^a-zA-Z\\s]', '', doc, re.I|re.A)\n",
    "    #doc = [[word.lower() for word in sent if word not in remove_terms] for sent in doc]\n",
    "    doc = doc.lower()\n",
    "    doc = doc.strip()\n",
    "    # tokenize document\n",
    "    tokens = wpt.tokenize(doc)\n",
    "    # filter stopwords out of document\n",
    "    filtered_tokens = [token for token in tokens if token not in stop_words]\n",
    "    # re-create document from filtered tokens\n",
    "    doc = ' '.join(filtered_tokens)\n",
    "    \n",
    "    return doc\n",
    "\n",
    "normalize_corpus = np.vectorize(normalize_document)"
   ]
  },
  {
   "cell_type": "code",
   "execution_count": 153,
   "metadata": {},
   "outputs": [
    {
     "output_type": "execute_result",
     "data": {
      "text/plain": "                                                                                                                                                                                                                                                                                                                                                                                                                                                                                                                                                                                                                                                                                                                                                                                                                                                                                                                                                                                                        selfdialog_clean  \\\n0                                                                                                                                                                                                                                        Hi, I'm looking to book a table for Korean fod. Ok, what area are you thinking about? Somewhere in Southern NYC, maybe the East Village? Ok, great.  There's Thursday Kitchen, it has great reviews. That's great. So I need a table for tonight at 7 pm for 8 people. We don't want to sit at the bar, but anywhere else is fine. They don't have any availability for 7 pm. What times are available? 5 or 8. Yikes, we can't do those times. Ok, do you have a second choice? Let me check. Ok. Lets try Boka, are they free for 8 people at 7? Yes. Great, let's book that. Ok great, are there any other requests? No, that's it, just book. Great, should I use your account you have open with them? Yes please. Great. You will get a confirmation to your phone soon.    \n1  Hi I would like to see if the Movie What Men Want is playing here. Yes it's showing here would you like to purchase a ticket? Yes, for me and a friend so two tickets please Okay. What time is that moving playing today? That movie is showing at 4, 5, and 8pm. Okay. Is there anymore movies showing around 8pm Yes , showing at 8pm is Green Book. What is that about? It's about two men dealing with racisim. Oh, no can you recommend anything else? What do you like? Well I like movies that are funny. Like comedies? Well no I like action as well. Okay. How to train your dragon is playing at 8pm. Okay can i get two tickets for that ? So you want me to cancel the tickets for What men want ? Yes please. Okay, no problem. How much will this cost. You said two adult tickets? Yes. Okay, that will be $20.80 Okay. Anything else I can help you with ? Yes can i bring my own food to theater. No, sorry you have to purchase food in the lobby. Okay that is fine. Thank you enjoy your movie    \n2                                                                                                                                                                                                                                                                                             I want to watch avengers endgame where do you want to watch it at? at bangkok close the hotel I a currently staying sounds good, what time do you want to watch the movie? 8 o'clock how many tickets? two and should we use the account we already have with the movie theater? yes It seems they do not have any movie at that time let's watch another movie then what other movie do you want to watch let's watch how to train your dragon the newest one yes, that one I don't think that movie is playing at that time either so neither choices are playing at the time I want to watch I am afraid so  I am no longer interested in watching the movie very well, have a great day sir thank you you are welcome    \n\n       Instruction_id  category  \\\n0  restaurant-table-2         0   \n1     movie-tickets-1         1   \n2     movie-tickets-3         2   \n\n                                                                                                                                                                                                                                                                                                                                                                                                                                                                                                                                                                                          selfdialog_norm  \n0                                                                                                                                          hi im looking book table korean fod ok area thinking somewhere southern nyc maybe east village ok great theres thursday kitchen great reviews thats great need table tonight pm people dont want sit bar anywhere else fine dont availability pm times available yikes cant times ok second choice let check ok lets try boka free people yes great lets book ok great requests thats book great use account open yes please great get confirmation phone soon  \n1  hi would like see movie men want playing yes showing would like purchase ticket yes friend two tickets please okay time moving playing today movie showing pm okay anymore movies showing around pm yes showing pm green book two men dealing racisim oh recommend anything else like well like movies funny like comedies well like action well okay train dragon playing pm okay get two tickets want cancel tickets men want yes please okay problem much cost said two adult tickets yes okay okay anything else help yes bring food theater sorry purchase food lobby okay fine thank enjoy movie  \n2                                                                                                                                                                want watch avengers endgame want watch bangkok close hotel currently staying sounds good time want watch movie oclock many tickets two use account already movie theater yes seems movie time lets watch another movie movie want watch lets watch train dragon newest one yes one dont think movie playing time either neither choices playing time want watch afraid longer interested watching movie well great day sir thank welcome  ",
      "text/html": "<div>\n<style scoped>\n    .dataframe tbody tr th:only-of-type {\n        vertical-align: middle;\n    }\n\n    .dataframe tbody tr th {\n        vertical-align: top;\n    }\n\n    .dataframe thead th {\n        text-align: right;\n    }\n</style>\n<table border=\"1\" class=\"dataframe\">\n  <thead>\n    <tr style=\"text-align: right;\">\n      <th></th>\n      <th>selfdialog_clean</th>\n      <th>Instruction_id</th>\n      <th>category</th>\n      <th>selfdialog_norm</th>\n    </tr>\n  </thead>\n  <tbody>\n    <tr>\n      <th>0</th>\n      <td>Hi, I'm looking to book a table for Korean fod. Ok, what area are you thinking about? Somewhere in Southern NYC, maybe the East Village? Ok, great.  There's Thursday Kitchen, it has great reviews. That's great. So I need a table for tonight at 7 pm for 8 people. We don't want to sit at the bar, but anywhere else is fine. They don't have any availability for 7 pm. What times are available? 5 or 8. Yikes, we can't do those times. Ok, do you have a second choice? Let me check. Ok. Lets try Boka, are they free for 8 people at 7? Yes. Great, let's book that. Ok great, are there any other requests? No, that's it, just book. Great, should I use your account you have open with them? Yes please. Great. You will get a confirmation to your phone soon.</td>\n      <td>restaurant-table-2</td>\n      <td>0</td>\n      <td>hi im looking book table korean fod ok area thinking somewhere southern nyc maybe east village ok great theres thursday kitchen great reviews thats great need table tonight pm people dont want sit bar anywhere else fine dont availability pm times available yikes cant times ok second choice let check ok lets try boka free people yes great lets book ok great requests thats book great use account open yes please great get confirmation phone soon</td>\n    </tr>\n    <tr>\n      <th>1</th>\n      <td>Hi I would like to see if the Movie What Men Want is playing here. Yes it's showing here would you like to purchase a ticket? Yes, for me and a friend so two tickets please Okay. What time is that moving playing today? That movie is showing at 4, 5, and 8pm. Okay. Is there anymore movies showing around 8pm Yes , showing at 8pm is Green Book. What is that about? It's about two men dealing with racisim. Oh, no can you recommend anything else? What do you like? Well I like movies that are funny. Like comedies? Well no I like action as well. Okay. How to train your dragon is playing at 8pm. Okay can i get two tickets for that ? So you want me to cancel the tickets for What men want ? Yes please. Okay, no problem. How much will this cost. You said two adult tickets? Yes. Okay, that will be $20.80 Okay. Anything else I can help you with ? Yes can i bring my own food to theater. No, sorry you have to purchase food in the lobby. Okay that is fine. Thank you enjoy your movie</td>\n      <td>movie-tickets-1</td>\n      <td>1</td>\n      <td>hi would like see movie men want playing yes showing would like purchase ticket yes friend two tickets please okay time moving playing today movie showing pm okay anymore movies showing around pm yes showing pm green book two men dealing racisim oh recommend anything else like well like movies funny like comedies well like action well okay train dragon playing pm okay get two tickets want cancel tickets men want yes please okay problem much cost said two adult tickets yes okay okay anything else help yes bring food theater sorry purchase food lobby okay fine thank enjoy movie</td>\n    </tr>\n    <tr>\n      <th>2</th>\n      <td>I want to watch avengers endgame where do you want to watch it at? at bangkok close the hotel I a currently staying sounds good, what time do you want to watch the movie? 8 o'clock how many tickets? two and should we use the account we already have with the movie theater? yes It seems they do not have any movie at that time let's watch another movie then what other movie do you want to watch let's watch how to train your dragon the newest one yes, that one I don't think that movie is playing at that time either so neither choices are playing at the time I want to watch I am afraid so  I am no longer interested in watching the movie very well, have a great day sir thank you you are welcome</td>\n      <td>movie-tickets-3</td>\n      <td>2</td>\n      <td>want watch avengers endgame want watch bangkok close hotel currently staying sounds good time want watch movie oclock many tickets two use account already movie theater yes seems movie time lets watch another movie movie want watch lets watch train dragon newest one yes one dont think movie playing time either neither choices playing time want watch afraid longer interested watching movie well great day sir thank welcome</td>\n    </tr>\n  </tbody>\n</table>\n</div>"
     },
     "metadata": {},
     "execution_count": 153
    }
   ],
   "source": [
    "for i, row in corpus_df.iterrows():\n",
    "    corpus_df.at[i, \"selfdialog_norm\"] = normalize_corpus(row.selfdialog_clean) \n",
    "\n",
    "corpus_df.head(3)"
   ]
  },
  {
   "cell_type": "code",
   "execution_count": 155,
   "metadata": {},
   "outputs": [
    {
     "output_type": "stream",
     "name": "stdout",
     "text": "30832\n"
    },
    {
     "output_type": "execute_result",
     "data": {
      "text/plain": "['hi would like see movie men want playing yes showing would like purchase ticket yes friend two tickets please okay time moving playing today movie showing pm okay anymore movies showing around pm yes showing pm green book two men dealing racisim oh recommend anything else like well like movies funny like comedies well like action well okay train dragon playing pm okay get two tickets want cancel tickets men want yes please okay problem much cost said two adult tickets yes okay okay anything else help yes bring food theater sorry purchase food lobby okay fine thank enjoy movie',\n 'want watch avengers endgame want watch bangkok close hotel currently staying sounds good time want watch movie oclock many tickets two use account already movie theater yes seems movie time lets watch another movie movie want watch lets watch train dragon newest one yes one dont think movie playing time either neither choices playing time want watch afraid longer interested watching movie well great day sir thank welcome',\n 'want order pizza bertuccis chelmsford type pizza would like silano size large please understood thanks unfortunately bertuccis run broccoli offering silano style pizza today see would like different type pizza yes would like sporkie pizza size would like large ok confirmed order large sporkie pizza bertuccis chelmsford good would like anything else thank receiving text message phone confirming details order including receipt ready pick minutes great thank much youre welcome glad could assistance',\n 'hi id like order two large pizzas sure kind pizzas mind ill hawaiian please sure anything else get yes id like large meat lover pizza please sorry currently meat lover pizza anything else youd like instead sure id like buffalo chicken pizza please sure thing size want buffalo chicken pizza large please kind crust want hawaiian pizza hand tossed please kind crust want buffalo chicken pizza also hand tossed please thank much anything else get thats today thank pleasure large hand tossed crust buffalo chicken pizza large hand tossed crust hawaiian pizza correct perfect total today sounds good awesome name order please john doe also phone number order update sure ok thank much order ready pick minutes sounds good thank pleasure',\n 'hey chuck id like hop online order latte starbucks make stop way back sure dr ryan ah one want order one russell invest grab way let seeat nd avenue suite seattle let seeat nd avenue suite seattle huh three blocks perfect pick head light rail station ok getting today want usual mocha really need cut calories lets go standard cafe latte sure thing size would like short tall grande venti tall fine ordered venti last week regretted got alright single double espresso shot single single four oclock dont need awake understood ah type milk one almond coconut nonfat whole two percent soy lets go almond ive one lately hey thought trying cut carbon footprint giving hard time flavor honey caramel lets keep plain still holidays walk chuck wanna see carbon footprint walk ill plant one backside ha ha maybe another time okay ive got tall single plain latte almond milk flavoring sure dont want cookie chuck youre incredibly unhelpful wellintentioned alright order thing use expense account command caffeine awaits pickup russell investments starbucks nd avenue receipt texted usual thank much good sir hey one last thingis page still open tell calorie count thing sure calories third fat add last little detail didnt thats pay',\n 'would like order something bosses pizza put order sure let know want need order like location fort worth okay let look okay okay bosses lake worth blvd fort worth tx okay sounds good okay would like want small thin crust pizza black olives pepperoni okay black olives green okay ran tonight yes add extra cheese please okay problem thanks much okay putting order okay see get coupons checked nothing available currently okay thats great order name okay submitted name pick mins thats perfect thank much help thank lovely day']"
     },
     "metadata": {},
     "execution_count": 155
    }
   ],
   "source": [
    "doc_series = []\n",
    "for i, row in corpus_df.iterrows():\n",
    "    doc_lst.append(row.selfdialog_norm.tolist())\n",
    "\n",
    "print(len(doc_lst))\n",
    "doc_lst[1:7]"
   ]
  },
  {
   "cell_type": "markdown",
   "metadata": {},
   "source": [
    "#### Build Vocabulary"
   ]
  },
  {
   "cell_type": "code",
   "execution_count": 156,
   "metadata": {},
   "outputs": [
    {
     "output_type": "stream",
     "name": "stdout",
     "text": "Vocabulary Size: 17504\nVocabulary Sample: [('like', 1), ('would', 2), ('ok', 3), ('okay', 4), ('yes', 5), ('want', 6), ('order', 7), ('pm', 8), ('pizza', 9), ('thank', 10)]\n"
    }
   ],
   "source": [
    "from keras.preprocessing import text\n",
    "from keras.utils import np_utils\n",
    "from keras.preprocessing import sequence\n",
    "\n",
    "tokenizer = text.Tokenizer(lower=False)\n",
    "tokenizer.fit_on_texts(doc_lst)\n",
    "word2id = tokenizer.word_index\n",
    "\n",
    "word2id['PAD'] = 0\n",
    "id2word = {v:k for k, v in word2id.items()}\n",
    "wids = [[word2id[w] for w in text.text_to_word_sequence(doc)] for doc in doc_lst]\n",
    "\n",
    "vocab_size = len(word2id)\n",
    "embed_size = 100\n",
    "window_size = 2\n",
    "\n",
    "print('Vocabulary Size:', vocab_size)\n",
    "print('Vocabulary Sample:', list(word2id.items())[:10])"
   ]
  },
  {
   "cell_type": "markdown",
   "metadata": {},
   "source": [
    "#### Build (context_words, target_word) pair generator"
   ]
  },
  {
   "cell_type": "code",
   "execution_count": 157,
   "metadata": {},
   "outputs": [],
   "source": [
    "def generate_context_word_pairs(corpus, window_size, vocab_size):\n",
    "    context_length = window_size*2\n",
    "    for words in corpus:\n",
    "        sentence_length = len(words)\n",
    "        for index, word in enumerate(words):\n",
    "            context_words = []\n",
    "            label_word   = []            \n",
    "            start = index - window_size\n",
    "            end = index + window_size + 1\n",
    "            \n",
    "            context_words.append([words[i] \n",
    "                                 for i in range(start, end) \n",
    "                                 if 0 <= i < sentence_length \n",
    "                                 and i != index])\n",
    "            label_word.append(word)\n",
    "\n",
    "            x = sequence.pad_sequences(context_words, maxlen=context_length)\n",
    "            y = np_utils.to_categorical(label_word, vocab_size)\n",
    "            yield (x, y)"
   ]
  },
  {
   "cell_type": "code",
   "execution_count": 158,
   "metadata": {},
   "outputs": [
    {
     "output_type": "stream",
     "name": "stdout",
     "text": "Context (X): ['hi', 'im', 'book', 'table'] -> Target (Y): looking\nContext (X): ['im', 'looking', 'table', 'korean'] -> Target (Y): book\nContext (X): ['looking', 'book', 'korean', 'fod'] -> Target (Y): table\nContext (X): ['book', 'table', 'fod', 'ok'] -> Target (Y): korean\nContext (X): ['table', 'korean', 'ok', 'area'] -> Target (Y): fod\nContext (X): ['korean', 'fod', 'area', 'thinking'] -> Target (Y): ok\nContext (X): ['fod', 'ok', 'thinking', 'somewhere'] -> Target (Y): area\nContext (X): ['ok', 'area', 'somewhere', 'southern'] -> Target (Y): thinking\nContext (X): ['area', 'thinking', 'southern', 'nyc'] -> Target (Y): somewhere\nContext (X): ['thinking', 'somewhere', 'nyc', 'maybe'] -> Target (Y): southern\nContext (X): ['somewhere', 'southern', 'maybe', 'east'] -> Target (Y): nyc\n"
    }
   ],
   "source": [
    "i = 0\n",
    "for x, y in generate_context_word_pairs(corpus=wids, window_size=window_size, vocab_size=vocab_size):\n",
    "    if 0 not in x[0]:\n",
    "        print('Context (X):', [id2word[w] for w in x[0]], '-> Target (Y):', id2word[np.argwhere(y[0])[0][0]])\n",
    "    \n",
    "        if i == 10:\n",
    "            break\n",
    "        i += 1"
   ]
  },
  {
   "cell_type": "markdown",
   "metadata": {},
   "source": [
    "#### Build CBOW Deep Network Model"
   ]
  },
  {
   "cell_type": "code",
   "execution_count": 159,
   "metadata": {},
   "outputs": [
    {
     "output_type": "stream",
     "name": "stdout",
     "text": "Model: \"sequential_2\"\n_________________________________________________________________\nLayer (type)                 Output Shape              Param #   \n=================================================================\nembedding_2 (Embedding)      (None, 4, 100)            1750400   \n_________________________________________________________________\nlambda_2 (Lambda)            (None, 100)               0         \n_________________________________________________________________\ndense_2 (Dense)              (None, 17504)             1767904   \n=================================================================\nTotal params: 3,518,304\nTrainable params: 3,518,304\nNon-trainable params: 0\n_________________________________________________________________\nNone\n"
    }
   ],
   "source": [
    "import keras.backend as K\n",
    "from keras.models import Sequential\n",
    "from keras.layers import Dense, Embedding, Lambda\n",
    "\n",
    "cbow = Sequential()\n",
    "cbow.add(Embedding(input_dim=vocab_size, output_dim=embed_size, input_length=window_size*2))\n",
    "cbow.add(Lambda(lambda x: K.mean(x, axis=1), output_shape=(embed_size,)))\n",
    "cbow.add(Dense(vocab_size, activation='softmax'))\n",
    "\n",
    "cbow.compile(loss='categorical_crossentropy', optimizer='rmsprop')\n",
    "print(cbow.summary())"
   ]
  },
  {
   "cell_type": "code",
   "execution_count": 160,
   "metadata": {},
   "outputs": [
    {
     "output_type": "execute_result",
     "data": {
      "text/plain": "<IPython.core.display.SVG object>",
      "image/svg+xml": "<svg height=\"296pt\" viewBox=\"0.00 0.00 242.00 304.00\" width=\"235pt\" xmlns=\"http://www.w3.org/2000/svg\" xmlns:xlink=\"http://www.w3.org/1999/xlink\">\n<g class=\"graph\" id=\"graph0\" transform=\"scale(0.972222 0.972222) rotate(0) translate(4 300)\">\n<title>G</title>\n<polygon fill=\"white\" points=\"-4,4 -4,-300 238,-300 238,4 -4,4\" stroke=\"none\"/>\n<!-- 2687387491080 -->\n<g class=\"node\" id=\"node1\"><title>2687387491080</title>\n<polygon fill=\"none\" points=\"15.5,-249.5 15.5,-295.5 218.5,-295.5 218.5,-249.5 15.5,-249.5\" stroke=\"black\"/>\n<text font-family=\"Times New Roman,serif\" font-size=\"14.00\" text-anchor=\"middle\" x=\"54\" y=\"-268.8\">InputLayer</text>\n<polyline fill=\"none\" points=\"92.5,-249.5 92.5,-295.5 \" stroke=\"black\"/>\n<text font-family=\"Times New Roman,serif\" font-size=\"14.00\" text-anchor=\"middle\" x=\"120.5\" y=\"-280.3\">input:</text>\n<polyline fill=\"none\" points=\"92.5,-272.5 148.5,-272.5 \" stroke=\"black\"/>\n<text font-family=\"Times New Roman,serif\" font-size=\"14.00\" text-anchor=\"middle\" x=\"120.5\" y=\"-257.3\">output:</text>\n<polyline fill=\"none\" points=\"148.5,-249.5 148.5,-295.5 \" stroke=\"black\"/>\n<text font-family=\"Times New Roman,serif\" font-size=\"14.00\" text-anchor=\"middle\" x=\"183.5\" y=\"-280.3\">(None, 4)</text>\n<polyline fill=\"none\" points=\"148.5,-272.5 218.5,-272.5 \" stroke=\"black\"/>\n<text font-family=\"Times New Roman,serif\" font-size=\"14.00\" text-anchor=\"middle\" x=\"183.5\" y=\"-257.3\">(None, 4)</text>\n</g>\n<!-- 2687387490440 -->\n<g class=\"node\" id=\"node2\"><title>2687387490440</title>\n<polygon fill=\"none\" points=\"0,-166.5 0,-212.5 234,-212.5 234,-166.5 0,-166.5\" stroke=\"black\"/>\n<text font-family=\"Times New Roman,serif\" font-size=\"14.00\" text-anchor=\"middle\" x=\"40\" y=\"-185.8\">Embedding</text>\n<polyline fill=\"none\" points=\"80,-166.5 80,-212.5 \" stroke=\"black\"/>\n<text font-family=\"Times New Roman,serif\" font-size=\"14.00\" text-anchor=\"middle\" x=\"108\" y=\"-197.3\">input:</text>\n<polyline fill=\"none\" points=\"80,-189.5 136,-189.5 \" stroke=\"black\"/>\n<text font-family=\"Times New Roman,serif\" font-size=\"14.00\" text-anchor=\"middle\" x=\"108\" y=\"-174.3\">output:</text>\n<polyline fill=\"none\" points=\"136,-166.5 136,-212.5 \" stroke=\"black\"/>\n<text font-family=\"Times New Roman,serif\" font-size=\"14.00\" text-anchor=\"middle\" x=\"185\" y=\"-197.3\">(None, 4)</text>\n<polyline fill=\"none\" points=\"136,-189.5 234,-189.5 \" stroke=\"black\"/>\n<text font-family=\"Times New Roman,serif\" font-size=\"14.00\" text-anchor=\"middle\" x=\"185\" y=\"-174.3\">(None, 4, 100)</text>\n</g>\n<!-- 2687387491080&#45;&gt;2687387490440 -->\n<g class=\"edge\" id=\"edge1\"><title>2687387491080-&gt;2687387490440</title>\n<path d=\"M117,-249.366C117,-241.152 117,-231.658 117,-222.725\" fill=\"none\" stroke=\"black\"/>\n<polygon fill=\"black\" points=\"120.5,-222.607 117,-212.607 113.5,-222.607 120.5,-222.607\" stroke=\"black\"/>\n</g>\n<!-- 2687387491208 -->\n<g class=\"node\" id=\"node3\"><title>2687387491208</title>\n<polygon fill=\"none\" points=\"9,-83.5 9,-129.5 225,-129.5 225,-83.5 9,-83.5\" stroke=\"black\"/>\n<text font-family=\"Times New Roman,serif\" font-size=\"14.00\" text-anchor=\"middle\" x=\"40\" y=\"-102.8\">Lambda</text>\n<polyline fill=\"none\" points=\"71,-83.5 71,-129.5 \" stroke=\"black\"/>\n<text font-family=\"Times New Roman,serif\" font-size=\"14.00\" text-anchor=\"middle\" x=\"99\" y=\"-114.3\">input:</text>\n<polyline fill=\"none\" points=\"71,-106.5 127,-106.5 \" stroke=\"black\"/>\n<text font-family=\"Times New Roman,serif\" font-size=\"14.00\" text-anchor=\"middle\" x=\"99\" y=\"-91.3\">output:</text>\n<polyline fill=\"none\" points=\"127,-83.5 127,-129.5 \" stroke=\"black\"/>\n<text font-family=\"Times New Roman,serif\" font-size=\"14.00\" text-anchor=\"middle\" x=\"176\" y=\"-114.3\">(None, 4, 100)</text>\n<polyline fill=\"none\" points=\"127,-106.5 225,-106.5 \" stroke=\"black\"/>\n<text font-family=\"Times New Roman,serif\" font-size=\"14.00\" text-anchor=\"middle\" x=\"176\" y=\"-91.3\">(None, 100)</text>\n</g>\n<!-- 2687387490440&#45;&gt;2687387491208 -->\n<g class=\"edge\" id=\"edge2\"><title>2687387490440-&gt;2687387491208</title>\n<path d=\"M117,-166.366C117,-158.152 117,-148.658 117,-139.725\" fill=\"none\" stroke=\"black\"/>\n<polygon fill=\"black\" points=\"120.5,-139.607 117,-129.607 113.5,-139.607 120.5,-139.607\" stroke=\"black\"/>\n</g>\n<!-- 2687387492296 -->\n<g class=\"node\" id=\"node4\"><title>2687387492296</title>\n<polygon fill=\"none\" points=\"15,-0.5 15,-46.5 219,-46.5 219,-0.5 15,-0.5\" stroke=\"black\"/>\n<text font-family=\"Times New Roman,serif\" font-size=\"14.00\" text-anchor=\"middle\" x=\"40.5\" y=\"-19.8\">Dense</text>\n<polyline fill=\"none\" points=\"66,-0.5 66,-46.5 \" stroke=\"black\"/>\n<text font-family=\"Times New Roman,serif\" font-size=\"14.00\" text-anchor=\"middle\" x=\"94\" y=\"-31.3\">input:</text>\n<polyline fill=\"none\" points=\"66,-23.5 122,-23.5 \" stroke=\"black\"/>\n<text font-family=\"Times New Roman,serif\" font-size=\"14.00\" text-anchor=\"middle\" x=\"94\" y=\"-8.3\">output:</text>\n<polyline fill=\"none\" points=\"122,-0.5 122,-46.5 \" stroke=\"black\"/>\n<text font-family=\"Times New Roman,serif\" font-size=\"14.00\" text-anchor=\"middle\" x=\"170.5\" y=\"-31.3\">(None, 100)</text>\n<polyline fill=\"none\" points=\"122,-23.5 219,-23.5 \" stroke=\"black\"/>\n<text font-family=\"Times New Roman,serif\" font-size=\"14.00\" text-anchor=\"middle\" x=\"170.5\" y=\"-8.3\">(None, 17504)</text>\n</g>\n<!-- 2687387491208&#45;&gt;2687387492296 -->\n<g class=\"edge\" id=\"edge3\"><title>2687387491208-&gt;2687387492296</title>\n<path d=\"M117,-83.3664C117,-75.1516 117,-65.6579 117,-56.7252\" fill=\"none\" stroke=\"black\"/>\n<polygon fill=\"black\" points=\"120.5,-56.6068 117,-46.6068 113.5,-56.6069 120.5,-56.6068\" stroke=\"black\"/>\n</g>\n</g>\n</svg>"
     },
     "metadata": {},
     "execution_count": 160
    }
   ],
   "source": [
    "from IPython.display import SVG\n",
    "from keras.utils.vis_utils import model_to_dot\n",
    "\n",
    "SVG(model_to_dot(cbow, show_shapes=True, show_layer_names=False, \n",
    "                 rankdir='TB', dpi=70).create(prog='dot', format='svg'))"
   ]
  },
  {
   "cell_type": "markdown",
   "metadata": {},
   "source": [
    "#### Train model for 5 epochs"
   ]
  },
  {
   "cell_type": "code",
   "execution_count": 147,
   "metadata": {},
   "outputs": [
    {
     "output_type": "stream",
     "name": "stdout",
     "text": "Processed 100000 (context, word) pairs\nProcessed 200000 (context, word) pairs\nProcessed 300000 (context, word) pairs\nProcessed 400000 (context, word) pairs\nProcessed 500000 (context, word) pairs\nProcessed 600000 (context, word) pairs\nProcessed 700000 (context, word) pairs\nProcessed 800000 (context, word) pairs\nProcessed 900000 (context, word) pairs\nProcessed 1000000 (context, word) pairs\n"
    },
    {
     "output_type": "error",
     "ename": "KeyboardInterrupt",
     "evalue": "",
     "traceback": [
      "\u001b[1;31m---------------------------------------------------------------------------\u001b[0m",
      "\u001b[1;31mKeyboardInterrupt\u001b[0m                         Traceback (most recent call last)",
      "\u001b[1;32m<ipython-input-147-39ae50d217af>\u001b[0m in \u001b[0;36m<module>\u001b[1;34m\u001b[0m\n\u001b[0;32m      4\u001b[0m     \u001b[1;32mfor\u001b[0m \u001b[0mx\u001b[0m\u001b[1;33m,\u001b[0m \u001b[0my\u001b[0m \u001b[1;32min\u001b[0m \u001b[0mgenerate_context_word_pairs\u001b[0m\u001b[1;33m(\u001b[0m\u001b[0mcorpus\u001b[0m\u001b[1;33m=\u001b[0m\u001b[0mwids\u001b[0m\u001b[1;33m,\u001b[0m \u001b[0mwindow_size\u001b[0m\u001b[1;33m=\u001b[0m\u001b[0mwindow_size\u001b[0m\u001b[1;33m,\u001b[0m \u001b[0mvocab_size\u001b[0m\u001b[1;33m=\u001b[0m\u001b[0mvocab_size\u001b[0m\u001b[1;33m)\u001b[0m\u001b[1;33m:\u001b[0m\u001b[1;33m\u001b[0m\u001b[1;33m\u001b[0m\u001b[0m\n\u001b[0;32m      5\u001b[0m         \u001b[0mi\u001b[0m \u001b[1;33m+=\u001b[0m \u001b[1;36m1\u001b[0m\u001b[1;33m\u001b[0m\u001b[1;33m\u001b[0m\u001b[0m\n\u001b[1;32m----> 6\u001b[1;33m         \u001b[0mloss\u001b[0m \u001b[1;33m+=\u001b[0m \u001b[0mcbow\u001b[0m\u001b[1;33m.\u001b[0m\u001b[0mtrain_on_batch\u001b[0m\u001b[1;33m(\u001b[0m\u001b[0mx\u001b[0m\u001b[1;33m,\u001b[0m \u001b[0my\u001b[0m\u001b[1;33m)\u001b[0m\u001b[1;33m\u001b[0m\u001b[1;33m\u001b[0m\u001b[0m\n\u001b[0m\u001b[0;32m      7\u001b[0m         \u001b[1;32mif\u001b[0m \u001b[0mi\u001b[0m \u001b[1;33m%\u001b[0m \u001b[1;36m100000\u001b[0m \u001b[1;33m==\u001b[0m \u001b[1;36m0\u001b[0m\u001b[1;33m:\u001b[0m\u001b[1;33m\u001b[0m\u001b[1;33m\u001b[0m\u001b[0m\n\u001b[0;32m      8\u001b[0m             \u001b[0mprint\u001b[0m\u001b[1;33m(\u001b[0m\u001b[1;34m'Processed {} (context, word) pairs'\u001b[0m\u001b[1;33m.\u001b[0m\u001b[0mformat\u001b[0m\u001b[1;33m(\u001b[0m\u001b[0mi\u001b[0m\u001b[1;33m)\u001b[0m\u001b[1;33m)\u001b[0m\u001b[1;33m\u001b[0m\u001b[1;33m\u001b[0m\u001b[0m\n",
      "\u001b[1;32mD:\\Tools\\anaconda3\\envs\\TensonFlow-GPU\\lib\\site-packages\\keras\\engine\\training.py\u001b[0m in \u001b[0;36mtrain_on_batch\u001b[1;34m(self, x, y, sample_weight, class_weight, reset_metrics)\u001b[0m\n\u001b[0;32m   1512\u001b[0m             \u001b[0mins\u001b[0m \u001b[1;33m=\u001b[0m \u001b[0mx\u001b[0m \u001b[1;33m+\u001b[0m \u001b[0my\u001b[0m \u001b[1;33m+\u001b[0m \u001b[0msample_weights\u001b[0m\u001b[1;33m\u001b[0m\u001b[1;33m\u001b[0m\u001b[0m\n\u001b[0;32m   1513\u001b[0m         \u001b[0mself\u001b[0m\u001b[1;33m.\u001b[0m\u001b[0m_make_train_function\u001b[0m\u001b[1;33m(\u001b[0m\u001b[1;33m)\u001b[0m\u001b[1;33m\u001b[0m\u001b[1;33m\u001b[0m\u001b[0m\n\u001b[1;32m-> 1514\u001b[1;33m         \u001b[0moutputs\u001b[0m \u001b[1;33m=\u001b[0m \u001b[0mself\u001b[0m\u001b[1;33m.\u001b[0m\u001b[0mtrain_function\u001b[0m\u001b[1;33m(\u001b[0m\u001b[0mins\u001b[0m\u001b[1;33m)\u001b[0m\u001b[1;33m\u001b[0m\u001b[1;33m\u001b[0m\u001b[0m\n\u001b[0m\u001b[0;32m   1515\u001b[0m \u001b[1;33m\u001b[0m\u001b[0m\n\u001b[0;32m   1516\u001b[0m         \u001b[1;32mif\u001b[0m \u001b[0mreset_metrics\u001b[0m\u001b[1;33m:\u001b[0m\u001b[1;33m\u001b[0m\u001b[1;33m\u001b[0m\u001b[0m\n",
      "\u001b[1;32m~\\AppData\\Roaming\\Python\\Python37\\site-packages\\tensorflow_core\\python\\keras\\backend.py\u001b[0m in \u001b[0;36m__call__\u001b[1;34m(self, inputs)\u001b[0m\n\u001b[0;32m   3733\u001b[0m     return nest.pack_sequence_as(\n\u001b[0;32m   3734\u001b[0m         \u001b[0mself\u001b[0m\u001b[1;33m.\u001b[0m\u001b[0m_outputs_structure\u001b[0m\u001b[1;33m,\u001b[0m\u001b[1;33m\u001b[0m\u001b[1;33m\u001b[0m\u001b[0m\n\u001b[1;32m-> 3735\u001b[1;33m         \u001b[1;33m[\u001b[0m\u001b[0mx\u001b[0m\u001b[1;33m.\u001b[0m\u001b[0m_numpy\u001b[0m\u001b[1;33m(\u001b[0m\u001b[1;33m)\u001b[0m \u001b[1;32mfor\u001b[0m \u001b[0mx\u001b[0m \u001b[1;32min\u001b[0m \u001b[0moutputs\u001b[0m\u001b[1;33m]\u001b[0m\u001b[1;33m,\u001b[0m  \u001b[1;31m# pylint: disable=protected-access\u001b[0m\u001b[1;33m\u001b[0m\u001b[1;33m\u001b[0m\u001b[0m\n\u001b[0m\u001b[0;32m   3736\u001b[0m         expand_composites=True)\n\u001b[0;32m   3737\u001b[0m \u001b[1;33m\u001b[0m\u001b[0m\n",
      "\u001b[1;32m~\\AppData\\Roaming\\Python\\Python37\\site-packages\\tensorflow_core\\python\\keras\\backend.py\u001b[0m in \u001b[0;36m<listcomp>\u001b[1;34m(.0)\u001b[0m\n\u001b[0;32m   3733\u001b[0m     return nest.pack_sequence_as(\n\u001b[0;32m   3734\u001b[0m         \u001b[0mself\u001b[0m\u001b[1;33m.\u001b[0m\u001b[0m_outputs_structure\u001b[0m\u001b[1;33m,\u001b[0m\u001b[1;33m\u001b[0m\u001b[1;33m\u001b[0m\u001b[0m\n\u001b[1;32m-> 3735\u001b[1;33m         \u001b[1;33m[\u001b[0m\u001b[0mx\u001b[0m\u001b[1;33m.\u001b[0m\u001b[0m_numpy\u001b[0m\u001b[1;33m(\u001b[0m\u001b[1;33m)\u001b[0m \u001b[1;32mfor\u001b[0m \u001b[0mx\u001b[0m \u001b[1;32min\u001b[0m \u001b[0moutputs\u001b[0m\u001b[1;33m]\u001b[0m\u001b[1;33m,\u001b[0m  \u001b[1;31m# pylint: disable=protected-access\u001b[0m\u001b[1;33m\u001b[0m\u001b[1;33m\u001b[0m\u001b[0m\n\u001b[0m\u001b[0;32m   3736\u001b[0m         expand_composites=True)\n\u001b[0;32m   3737\u001b[0m \u001b[1;33m\u001b[0m\u001b[0m\n",
      "\u001b[1;32m~\\AppData\\Roaming\\Python\\Python37\\site-packages\\tensorflow_core\\python\\framework\\ops.py\u001b[0m in \u001b[0;36m_numpy\u001b[1;34m(self)\u001b[0m\n\u001b[0;32m    906\u001b[0m     \u001b[1;31m# pylint: disable=protected-access\u001b[0m\u001b[1;33m\u001b[0m\u001b[1;33m\u001b[0m\u001b[1;33m\u001b[0m\u001b[0m\n\u001b[0;32m    907\u001b[0m     \u001b[1;32mtry\u001b[0m\u001b[1;33m:\u001b[0m\u001b[1;33m\u001b[0m\u001b[1;33m\u001b[0m\u001b[0m\n\u001b[1;32m--> 908\u001b[1;33m       \u001b[1;32mreturn\u001b[0m \u001b[0mself\u001b[0m\u001b[1;33m.\u001b[0m\u001b[0m_numpy_internal\u001b[0m\u001b[1;33m(\u001b[0m\u001b[1;33m)\u001b[0m\u001b[1;33m\u001b[0m\u001b[1;33m\u001b[0m\u001b[0m\n\u001b[0m\u001b[0;32m    909\u001b[0m     \u001b[1;32mexcept\u001b[0m \u001b[0mcore\u001b[0m\u001b[1;33m.\u001b[0m\u001b[0m_NotOkStatusException\u001b[0m \u001b[1;32mas\u001b[0m \u001b[0me\u001b[0m\u001b[1;33m:\u001b[0m\u001b[1;33m\u001b[0m\u001b[1;33m\u001b[0m\u001b[0m\n\u001b[0;32m    910\u001b[0m       \u001b[0msix\u001b[0m\u001b[1;33m.\u001b[0m\u001b[0mraise_from\u001b[0m\u001b[1;33m(\u001b[0m\u001b[0mcore\u001b[0m\u001b[1;33m.\u001b[0m\u001b[0m_status_to_exception\u001b[0m\u001b[1;33m(\u001b[0m\u001b[0me\u001b[0m\u001b[1;33m.\u001b[0m\u001b[0mcode\u001b[0m\u001b[1;33m,\u001b[0m \u001b[0me\u001b[0m\u001b[1;33m.\u001b[0m\u001b[0mmessage\u001b[0m\u001b[1;33m)\u001b[0m\u001b[1;33m,\u001b[0m \u001b[1;32mNone\u001b[0m\u001b[1;33m)\u001b[0m\u001b[1;33m\u001b[0m\u001b[1;33m\u001b[0m\u001b[0m\n",
      "\u001b[1;31mKeyboardInterrupt\u001b[0m: "
     ]
    }
   ],
   "source": [
    "for epoch in range(1, 6):\n",
    "    loss = 0.\n",
    "    i = 0\n",
    "    for x, y in generate_context_word_pairs(corpus=wids, window_size=window_size, vocab_size=vocab_size):\n",
    "        i += 1\n",
    "        loss += cbow.train_on_batch(x, y)\n",
    "        if i % 100000 == 0:\n",
    "            print('Processed {} (context, word) pairs'.format(i))\n",
    "\n",
    "    print('Epoch:', epoch, '\\tLoss:', loss)\n",
    "    print()"
   ]
  },
  {
   "cell_type": "markdown",
   "metadata": {},
   "source": [
    "### Get word embeddings"
   ]
  },
  {
   "cell_type": "code",
   "execution_count": 161,
   "metadata": {},
   "outputs": [
    {
     "output_type": "stream",
     "name": "stdout",
     "text": "(17503, 100)\n"
    },
    {
     "output_type": "execute_result",
     "data": {
      "text/plain": "         0     1     2     3     4     5     6     7     8     9     10    11  \\\nwould  0.03 -0.02 -0.05  0.00 -0.05  0.02  0.05  0.02 -0.02 -0.03  0.01 -0.02   \nok     0.01 -0.03  0.03 -0.03  0.02  0.01  0.04 -0.04 -0.03  0.02  0.02  0.01   \nokay  -0.02 -0.04 -0.02  0.04 -0.05  0.01  0.00 -0.05  0.04 -0.03 -0.01 -0.02   \nyes   -0.03  0.04 -0.01  0.01  0.01  0.01  0.00 -0.04 -0.04 -0.01  0.03 -0.03   \nwant  -0.04  0.02  0.03 -0.03 -0.05 -0.04 -0.02  0.01 -0.02 -0.03 -0.03 -0.04   \n\n         12    13    14  ...    85    86    87    88    89    90    91    92  \\\nwould -0.03 -0.01  0.04  ... -0.01  0.01 -0.03  0.02 -0.01 -0.02  0.01 -0.05   \nok     0.02  0.04  0.03  ...  0.03 -0.00  0.05 -0.01  0.03  0.02  0.01 -0.03   \nokay  -0.01 -0.02 -0.00  ... -0.04  0.03 -0.00 -0.03  0.03 -0.00  0.00  0.02   \nyes   -0.00 -0.04 -0.03  ... -0.03  0.03  0.03  0.04 -0.05 -0.03 -0.03 -0.03   \nwant  -0.03  0.05  0.02  ...  0.02  0.05 -0.03 -0.02  0.02 -0.04 -0.02  0.01   \n\n         93    94    95    96    97    98    99  \nwould -0.03 -0.02  0.00  0.02  0.01 -0.00  0.03  \nok     0.02 -0.00 -0.04 -0.04 -0.03 -0.03 -0.01  \nokay  -0.01 -0.03  0.02  0.03 -0.03 -0.02  0.04  \nyes    0.02  0.00  0.03  0.03  0.04  0.01 -0.01  \nwant   0.02  0.03  0.01 -0.01  0.05 -0.01  0.04  \n\n[5 rows x 100 columns]",
      "text/html": "<div>\n<style scoped>\n    .dataframe tbody tr th:only-of-type {\n        vertical-align: middle;\n    }\n\n    .dataframe tbody tr th {\n        vertical-align: top;\n    }\n\n    .dataframe thead th {\n        text-align: right;\n    }\n</style>\n<table border=\"1\" class=\"dataframe\">\n  <thead>\n    <tr style=\"text-align: right;\">\n      <th></th>\n      <th>0</th>\n      <th>1</th>\n      <th>2</th>\n      <th>3</th>\n      <th>4</th>\n      <th>5</th>\n      <th>6</th>\n      <th>7</th>\n      <th>8</th>\n      <th>9</th>\n      <th>10</th>\n      <th>11</th>\n      <th>12</th>\n      <th>13</th>\n      <th>14</th>\n      <th>...</th>\n      <th>85</th>\n      <th>86</th>\n      <th>87</th>\n      <th>88</th>\n      <th>89</th>\n      <th>90</th>\n      <th>91</th>\n      <th>92</th>\n      <th>93</th>\n      <th>94</th>\n      <th>95</th>\n      <th>96</th>\n      <th>97</th>\n      <th>98</th>\n      <th>99</th>\n    </tr>\n  </thead>\n  <tbody>\n    <tr>\n      <th>would</th>\n      <td>0.03</td>\n      <td>-0.02</td>\n      <td>-0.05</td>\n      <td>0.00</td>\n      <td>-0.05</td>\n      <td>0.02</td>\n      <td>0.05</td>\n      <td>0.02</td>\n      <td>-0.02</td>\n      <td>-0.03</td>\n      <td>0.01</td>\n      <td>-0.02</td>\n      <td>-0.03</td>\n      <td>-0.01</td>\n      <td>0.04</td>\n      <td>...</td>\n      <td>-0.01</td>\n      <td>0.01</td>\n      <td>-0.03</td>\n      <td>0.02</td>\n      <td>-0.01</td>\n      <td>-0.02</td>\n      <td>0.01</td>\n      <td>-0.05</td>\n      <td>-0.03</td>\n      <td>-0.02</td>\n      <td>0.00</td>\n      <td>0.02</td>\n      <td>0.01</td>\n      <td>-0.00</td>\n      <td>0.03</td>\n    </tr>\n    <tr>\n      <th>ok</th>\n      <td>0.01</td>\n      <td>-0.03</td>\n      <td>0.03</td>\n      <td>-0.03</td>\n      <td>0.02</td>\n      <td>0.01</td>\n      <td>0.04</td>\n      <td>-0.04</td>\n      <td>-0.03</td>\n      <td>0.02</td>\n      <td>0.02</td>\n      <td>0.01</td>\n      <td>0.02</td>\n      <td>0.04</td>\n      <td>0.03</td>\n      <td>...</td>\n      <td>0.03</td>\n      <td>-0.00</td>\n      <td>0.05</td>\n      <td>-0.01</td>\n      <td>0.03</td>\n      <td>0.02</td>\n      <td>0.01</td>\n      <td>-0.03</td>\n      <td>0.02</td>\n      <td>-0.00</td>\n      <td>-0.04</td>\n      <td>-0.04</td>\n      <td>-0.03</td>\n      <td>-0.03</td>\n      <td>-0.01</td>\n    </tr>\n    <tr>\n      <th>okay</th>\n      <td>-0.02</td>\n      <td>-0.04</td>\n      <td>-0.02</td>\n      <td>0.04</td>\n      <td>-0.05</td>\n      <td>0.01</td>\n      <td>0.00</td>\n      <td>-0.05</td>\n      <td>0.04</td>\n      <td>-0.03</td>\n      <td>-0.01</td>\n      <td>-0.02</td>\n      <td>-0.01</td>\n      <td>-0.02</td>\n      <td>-0.00</td>\n      <td>...</td>\n      <td>-0.04</td>\n      <td>0.03</td>\n      <td>-0.00</td>\n      <td>-0.03</td>\n      <td>0.03</td>\n      <td>-0.00</td>\n      <td>0.00</td>\n      <td>0.02</td>\n      <td>-0.01</td>\n      <td>-0.03</td>\n      <td>0.02</td>\n      <td>0.03</td>\n      <td>-0.03</td>\n      <td>-0.02</td>\n      <td>0.04</td>\n    </tr>\n    <tr>\n      <th>yes</th>\n      <td>-0.03</td>\n      <td>0.04</td>\n      <td>-0.01</td>\n      <td>0.01</td>\n      <td>0.01</td>\n      <td>0.01</td>\n      <td>0.00</td>\n      <td>-0.04</td>\n      <td>-0.04</td>\n      <td>-0.01</td>\n      <td>0.03</td>\n      <td>-0.03</td>\n      <td>-0.00</td>\n      <td>-0.04</td>\n      <td>-0.03</td>\n      <td>...</td>\n      <td>-0.03</td>\n      <td>0.03</td>\n      <td>0.03</td>\n      <td>0.04</td>\n      <td>-0.05</td>\n      <td>-0.03</td>\n      <td>-0.03</td>\n      <td>-0.03</td>\n      <td>0.02</td>\n      <td>0.00</td>\n      <td>0.03</td>\n      <td>0.03</td>\n      <td>0.04</td>\n      <td>0.01</td>\n      <td>-0.01</td>\n    </tr>\n    <tr>\n      <th>want</th>\n      <td>-0.04</td>\n      <td>0.02</td>\n      <td>0.03</td>\n      <td>-0.03</td>\n      <td>-0.05</td>\n      <td>-0.04</td>\n      <td>-0.02</td>\n      <td>0.01</td>\n      <td>-0.02</td>\n      <td>-0.03</td>\n      <td>-0.03</td>\n      <td>-0.04</td>\n      <td>-0.03</td>\n      <td>0.05</td>\n      <td>0.02</td>\n      <td>...</td>\n      <td>0.02</td>\n      <td>0.05</td>\n      <td>-0.03</td>\n      <td>-0.02</td>\n      <td>0.02</td>\n      <td>-0.04</td>\n      <td>-0.02</td>\n      <td>0.01</td>\n      <td>0.02</td>\n      <td>0.03</td>\n      <td>0.01</td>\n      <td>-0.01</td>\n      <td>0.05</td>\n      <td>-0.01</td>\n      <td>0.04</td>\n    </tr>\n  </tbody>\n</table>\n<p>5 rows × 100 columns</p>\n</div>"
     },
     "metadata": {},
     "execution_count": 161
    }
   ],
   "source": [
    "weights = cbow.get_weights()[0]\n",
    "weights = weights[1:]\n",
    "print(weights.shape)\n",
    "\n",
    "pd.DataFrame(weights, index=list(id2word.values())[1:]).head()"
   ]
  },
  {
   "cell_type": "markdown",
   "metadata": {},
   "source": [
    "#### Build a distance matrix to view the most similar words (contextually)"
   ]
  },
  {
   "cell_type": "code",
   "execution_count": 162,
   "metadata": {},
   "outputs": [
    {
     "output_type": "stream",
     "name": "stdout",
     "text": "(17503, 17503)\n"
    }
   ],
   "source": [
    "from sklearn.metrics.pairwise import euclidean_distances\n",
    "\n",
    "# compute pairwise distance matrix\n",
    "distance_matrix = euclidean_distances(weights)\n",
    "print(distance_matrix.shape)\n",
    "\n",
    "# view contextually similar words\n",
    "similar_words = {search_term: [id2word[idx] for idx in distance_matrix[word2id[search_term]-1].argsort()[1:6]+1] \n",
    "                   for search_term in ['rental', 'pizza', 'terminator', 'star', 'audi', 'east', 'korean','playing']}\n",
    "\n",
    "similar_words"
   ]
  },
  {
   "cell_type": "code",
   "execution_count": null,
   "metadata": {},
   "outputs": [],
   "source": []
  },
  {
   "cell_type": "code",
   "execution_count": null,
   "metadata": {},
   "outputs": [],
   "source": []
  },
  {
   "cell_type": "code",
   "execution_count": null,
   "metadata": {},
   "outputs": [],
   "source": []
  },
  {
   "cell_type": "code",
   "execution_count": null,
   "metadata": {},
   "outputs": [],
   "source": []
  },
  {
   "cell_type": "code",
   "execution_count": null,
   "metadata": {},
   "outputs": [],
   "source": []
  },
  {
   "cell_type": "code",
   "execution_count": null,
   "metadata": {},
   "outputs": [],
   "source": []
  },
  {
   "cell_type": "code",
   "execution_count": null,
   "metadata": {},
   "outputs": [],
   "source": []
  },
  {
   "cell_type": "code",
   "execution_count": null,
   "metadata": {},
   "outputs": [],
   "source": []
  },
  {
   "cell_type": "code",
   "execution_count": null,
   "metadata": {},
   "outputs": [],
   "source": []
  },
  {
   "cell_type": "code",
   "execution_count": null,
   "metadata": {},
   "outputs": [],
   "source": []
  },
  {
   "cell_type": "code",
   "execution_count": null,
   "metadata": {},
   "outputs": [],
   "source": []
  }
 ],
 "metadata": {
  "kernelspec": {
   "display_name": "Python 3",
   "language": "python",
   "name": "python3"
  },
  "language_info": {
   "codemirror_mode": {
    "name": "ipython",
    "version": 3
   },
   "file_extension": ".py",
   "mimetype": "text/x-python",
   "name": "python",
   "nbconvert_exporter": "python",
   "pygments_lexer": "ipython3",
   "version": "3.7.7-final"
  }
 },
 "nbformat": 4,
 "nbformat_minor": 4
}