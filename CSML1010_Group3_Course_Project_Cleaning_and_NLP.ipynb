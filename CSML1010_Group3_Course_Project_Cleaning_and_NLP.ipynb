{
 "cells": [
  {
   "cell_type": "markdown",
   "metadata": {},
   "source": [
    "## Project Name: CSML1010 NLP Course Project - Part 1 - Proposal): Problem, Dataset,  and Exploratory Data Analysis\n",
    "#### Authors (Group3): Paul Doucet, Jerry Khidaroo"
   ]
  },
  {
   "cell_type": "markdown",
   "metadata": {},
   "source": [
    "#### 2. Data Clean-up and NLP Notebook\n",
    "\n",
    "This notebook will review the Data Cleaning tasks performed as part of our project proposal:\n",
    "- <a href='#Categorize_Groups'>__Categorize Groups__</a>\n",
    "- <a href='#Connect_to_Database'>__Connect to Database__</a>\n",
    "- <a href='#Cleaning_the_Dataset_for_NLP'>__Cleaning the Dataset for NLP__</a>\n",
    "- <a href='#NLP'>__NLP__</a>\n",
    "- <a href='#Store_to_Database'>__Store to Database__</a>\n"
   ]
  },
  {
   "cell_type": "markdown",
   "metadata": {},
   "source": [
    "---"
   ]
  },
  {
   "cell_type": "markdown",
   "metadata": {},
   "source": [
    "<a id='Categorize_Groups'></a>\n",
    "## Categorize Groups"
   ]
  },
  {
   "cell_type": "code",
   "execution_count": 17,
   "metadata": {},
   "outputs": [],
   "source": [
    "import pandas as pd"
   ]
  },
  {
   "cell_type": "code",
   "execution_count": 18,
   "metadata": {},
   "outputs": [],
   "source": [
    "# Import CSV\n",
    "df = pd.read_csv(\"./data/DF_selfDialogs.csv\")"
   ]
  },
  {
   "cell_type": "code",
   "execution_count": 19,
   "metadata": {},
   "outputs": [
    {
     "name": "stdout",
     "output_type": "stream",
     "text": [
      "Instruction_id\n",
      "auto-repair-appt-1    1161\n",
      "coffee-ordering-1      735\n",
      "coffee-ordering-2      641\n",
      "movie-finder            54\n",
      "movie-ticket-1          37\n",
      "movie-tickets-1        642\n",
      "movie-tickets-2        377\n",
      "movie-tickets-3        195\n",
      "pizza-ordering-1       257\n",
      "pizza-ordering-2      1211\n",
      "restaurant-table-1     704\n",
      "restaurant-table-2     494\n",
      "restaurant-table-3     102\n",
      "uber-lyft-1            646\n",
      "uber-lyft-2            452\n",
      "dtype: int64\n"
     ]
    }
   ],
   "source": [
    "print (df.groupby('Instruction_id').size())"
   ]
  },
  {
   "cell_type": "markdown",
   "metadata": {},
   "source": [
    "We need to fix the 37 movie-ticket-1 instruction_ids"
   ]
  },
  {
   "cell_type": "code",
   "execution_count": 4,
   "metadata": {},
   "outputs": [],
   "source": [
    "df = df.replace(['movie-ticket-1'], 'movie-tickets-1')"
   ]
  },
  {
   "cell_type": "code",
   "execution_count": 5,
   "metadata": {},
   "outputs": [
    {
     "name": "stdout",
     "output_type": "stream",
     "text": [
      "Instruction_id\n",
      "auto-repair-appt-1    1161\n",
      "coffee-ordering-1      735\n",
      "coffee-ordering-2      641\n",
      "movie-finder            54\n",
      "movie-tickets-1        679\n",
      "movie-tickets-2        377\n",
      "movie-tickets-3        195\n",
      "pizza-ordering-1       257\n",
      "pizza-ordering-2      1211\n",
      "restaurant-table-1     704\n",
      "restaurant-table-2     494\n",
      "restaurant-table-3     102\n",
      "uber-lyft-1            646\n",
      "uber-lyft-2            452\n",
      "dtype: int64\n"
     ]
    }
   ],
   "source": [
    "print (df.groupby('Instruction_id').size())"
   ]
  },
  {
   "cell_type": "markdown",
   "metadata": {},
   "source": [
    "Add the Service Type as a column (i.e. auto, coffee, movie, etc.)"
   ]
  },
  {
   "cell_type": "code",
   "execution_count": 6,
   "metadata": {},
   "outputs": [
    {
     "name": "stdout",
     "output_type": "stream",
     "text": [
      "service_type\n",
      "auto          1161\n",
      "coffee        1376\n",
      "movie         1305\n",
      "pizza         1468\n",
      "restaurant    1300\n",
      "uber          1098\n",
      "dtype: int64\n"
     ]
    }
   ],
   "source": [
    "df['service_type'] = df['Instruction_id'].str.split('-',expand=True)[0]\n",
    "print (df.groupby('service_type').size())"
   ]
  },
  {
   "cell_type": "code",
   "execution_count": 7,
   "metadata": {},
   "outputs": [
    {
     "data": {
      "text/html": [
       "<div>\n",
       "<style scoped>\n",
       "    .dataframe tbody tr th:only-of-type {\n",
       "        vertical-align: middle;\n",
       "    }\n",
       "\n",
       "    .dataframe tbody tr th {\n",
       "        vertical-align: top;\n",
       "    }\n",
       "\n",
       "    .dataframe thead th {\n",
       "        text-align: right;\n",
       "    }\n",
       "</style>\n",
       "<table border=\"1\" class=\"dataframe\">\n",
       "  <thead>\n",
       "    <tr style=\"text-align: right;\">\n",
       "      <th></th>\n",
       "      <th>id</th>\n",
       "      <th>Conversation</th>\n",
       "      <th>Instruction_id</th>\n",
       "      <th>service_type</th>\n",
       "    </tr>\n",
       "  </thead>\n",
       "  <tbody>\n",
       "    <tr>\n",
       "      <th>0</th>\n",
       "      <td>dlg-00055f4e-4a46-48bf-8d99-4e477663eb23</td>\n",
       "      <td>Hi, I'm looking to book a table for Korean fod...</td>\n",
       "      <td>restaurant-table-2</td>\n",
       "      <td>restaurant</td>\n",
       "    </tr>\n",
       "    <tr>\n",
       "      <th>1</th>\n",
       "      <td>dlg-0009352b-de51-474b-9f13-a2b0b2481546</td>\n",
       "      <td>Hi I would like to see if the Movie What Men W...</td>\n",
       "      <td>movie-tickets-1</td>\n",
       "      <td>movie</td>\n",
       "    </tr>\n",
       "    <tr>\n",
       "      <th>2</th>\n",
       "      <td>dlg-00123c7b-15a0-4f21-9002-a2509149ee2d</td>\n",
       "      <td>I want to watch avengers endgame where do you ...</td>\n",
       "      <td>movie-tickets-3</td>\n",
       "      <td>movie</td>\n",
       "    </tr>\n",
       "    <tr>\n",
       "      <th>3</th>\n",
       "      <td>dlg-0013673c-31c6-4565-8fac-810e173a5c53</td>\n",
       "      <td>I want to order a pizza from Bertuccis in Chel...</td>\n",
       "      <td>pizza-ordering-2</td>\n",
       "      <td>pizza</td>\n",
       "    </tr>\n",
       "    <tr>\n",
       "      <th>4</th>\n",
       "      <td>dlg-001d8bb1-6f25-4ecd-986a-b7eeb5fa4e19</td>\n",
       "      <td>Hi I'd like to order two large pizzas. Sure, w...</td>\n",
       "      <td>pizza-ordering-2</td>\n",
       "      <td>pizza</td>\n",
       "    </tr>\n",
       "    <tr>\n",
       "      <th>...</th>\n",
       "      <td>...</td>\n",
       "      <td>...</td>\n",
       "      <td>...</td>\n",
       "      <td>...</td>\n",
       "    </tr>\n",
       "    <tr>\n",
       "      <th>7703</th>\n",
       "      <td>dlg-ffc0c5fb-573f-40e0-b739-0e55d84100e8</td>\n",
       "      <td>I feel like eating at a nice restaurant tonigh...</td>\n",
       "      <td>restaurant-table-1</td>\n",
       "      <td>restaurant</td>\n",
       "    </tr>\n",
       "    <tr>\n",
       "      <th>7704</th>\n",
       "      <td>dlg-ffc87550-389a-432e-927e-9a9438fc4f1f</td>\n",
       "      <td>Hi Sally, I need a Grande iced Americano with ...</td>\n",
       "      <td>coffee-ordering-2</td>\n",
       "      <td>coffee</td>\n",
       "    </tr>\n",
       "    <tr>\n",
       "      <th>7705</th>\n",
       "      <td>dlg-ffcd1d53-c080-4acf-897d-48236513bc58</td>\n",
       "      <td>Good afternoon. I would like to order a pizza ...</td>\n",
       "      <td>pizza-ordering-2</td>\n",
       "      <td>pizza</td>\n",
       "    </tr>\n",
       "    <tr>\n",
       "      <th>7706</th>\n",
       "      <td>dlg-ffd9db94-36e3-4534-b99d-89f7560db17c</td>\n",
       "      <td>Hey. I'm thinking of seeing What Men Want toni...</td>\n",
       "      <td>movie-tickets-1</td>\n",
       "      <td>movie</td>\n",
       "    </tr>\n",
       "    <tr>\n",
       "      <th>7707</th>\n",
       "      <td>dlg-fffa6565-32bb-4592-8d30-fff66df29633</td>\n",
       "      <td>Hello. Can you help me purchase a couple of mo...</td>\n",
       "      <td>movie-tickets-3</td>\n",
       "      <td>movie</td>\n",
       "    </tr>\n",
       "  </tbody>\n",
       "</table>\n",
       "<p>7708 rows × 4 columns</p>\n",
       "</div>"
      ],
      "text/plain": [
       "                                            id  \\\n",
       "0     dlg-00055f4e-4a46-48bf-8d99-4e477663eb23   \n",
       "1     dlg-0009352b-de51-474b-9f13-a2b0b2481546   \n",
       "2     dlg-00123c7b-15a0-4f21-9002-a2509149ee2d   \n",
       "3     dlg-0013673c-31c6-4565-8fac-810e173a5c53   \n",
       "4     dlg-001d8bb1-6f25-4ecd-986a-b7eeb5fa4e19   \n",
       "...                                        ...   \n",
       "7703  dlg-ffc0c5fb-573f-40e0-b739-0e55d84100e8   \n",
       "7704  dlg-ffc87550-389a-432e-927e-9a9438fc4f1f   \n",
       "7705  dlg-ffcd1d53-c080-4acf-897d-48236513bc58   \n",
       "7706  dlg-ffd9db94-36e3-4534-b99d-89f7560db17c   \n",
       "7707  dlg-fffa6565-32bb-4592-8d30-fff66df29633   \n",
       "\n",
       "                                           Conversation      Instruction_id  \\\n",
       "0     Hi, I'm looking to book a table for Korean fod...  restaurant-table-2   \n",
       "1     Hi I would like to see if the Movie What Men W...     movie-tickets-1   \n",
       "2     I want to watch avengers endgame where do you ...     movie-tickets-3   \n",
       "3     I want to order a pizza from Bertuccis in Chel...    pizza-ordering-2   \n",
       "4     Hi I'd like to order two large pizzas. Sure, w...    pizza-ordering-2   \n",
       "...                                                 ...                 ...   \n",
       "7703  I feel like eating at a nice restaurant tonigh...  restaurant-table-1   \n",
       "7704  Hi Sally, I need a Grande iced Americano with ...   coffee-ordering-2   \n",
       "7705  Good afternoon. I would like to order a pizza ...    pizza-ordering-2   \n",
       "7706  Hey. I'm thinking of seeing What Men Want toni...     movie-tickets-1   \n",
       "7707  Hello. Can you help me purchase a couple of mo...     movie-tickets-3   \n",
       "\n",
       "     service_type  \n",
       "0      restaurant  \n",
       "1           movie  \n",
       "2           movie  \n",
       "3           pizza  \n",
       "4           pizza  \n",
       "...           ...  \n",
       "7703   restaurant  \n",
       "7704       coffee  \n",
       "7705        pizza  \n",
       "7706        movie  \n",
       "7707        movie  \n",
       "\n",
       "[7708 rows x 4 columns]"
      ]
     },
     "execution_count": 7,
     "metadata": {},
     "output_type": "execute_result"
    }
   ],
   "source": [
    "df"
   ]
  },
  {
   "cell_type": "markdown",
   "metadata": {},
   "source": [
    "<a id='Connect_to_Database'></a>\n",
    "## Connect to Database"
   ]
  },
  {
   "cell_type": "code",
   "execution_count": 8,
   "metadata": {},
   "outputs": [],
   "source": [
    "import sqlite3\n",
    "con = sqlite3.connect('selfdialogs.db')"
   ]
  },
  {
   "cell_type": "markdown",
   "metadata": {},
   "source": [
    "<a id='Cleaning_the_Dataset_for_NLP'></a>\n",
    "## Cleaning the Dataset for NLP"
   ]
  },
  {
   "cell_type": "markdown",
   "metadata": {},
   "source": [
    "Cleaning Function"
   ]
  },
  {
   "cell_type": "code",
   "execution_count": 9,
   "metadata": {},
   "outputs": [],
   "source": [
    "import re\n",
    "def clean(s):\n",
    "    s = s.replace(r'<lb>', \"\\n\")\n",
    "    s = s.replace(r'<tab>', \"\\i\")\n",
    "    s = re.sub(r'<br */*>', \"\\n\", s)\n",
    "    s = s.replace(\"&lt;\", \"<\").replace(\"&gt;\", \">\").replace(\"&amp;\", \"&\")\n",
    "    s = s.replace(\"&amp;\", \"&\")\n",
    "    # markdown urls\n",
    "    s = re.sub(r'\\(https*://[^\\)]*\\)', \"\", s)\n",
    "    # normal urls\n",
    "    s = re.sub(r'https*://[^\\s]*', \"\", s)\n",
    "    s = re.sub(r'_+', ' ', s)\n",
    "    s = re.sub(r'\"+', '\"', s)\n",
    "    return str(s)"
   ]
  },
  {
   "cell_type": "code",
   "execution_count": 10,
   "metadata": {},
   "outputs": [],
   "source": [
    "df[\"selfdialog_clean\"] = ''"
   ]
  },
  {
   "cell_type": "markdown",
   "metadata": {},
   "source": [
    "Iterate and Clean"
   ]
  },
  {
   "cell_type": "code",
   "execution_count": 11,
   "metadata": {},
   "outputs": [],
   "source": [
    "for i, row in df.iterrows():\n",
    "    df.at[i, \"selfdialog_clean\"] = clean(row.Conversation)"
   ]
  },
  {
   "cell_type": "code",
   "execution_count": 12,
   "metadata": {},
   "outputs": [
    {
     "data": {
      "text/html": [
       "<div>\n",
       "<style scoped>\n",
       "    .dataframe tbody tr th:only-of-type {\n",
       "        vertical-align: middle;\n",
       "    }\n",
       "\n",
       "    .dataframe tbody tr th {\n",
       "        vertical-align: top;\n",
       "    }\n",
       "\n",
       "    .dataframe thead th {\n",
       "        text-align: right;\n",
       "    }\n",
       "</style>\n",
       "<table border=\"1\" class=\"dataframe\">\n",
       "  <thead>\n",
       "    <tr style=\"text-align: right;\">\n",
       "      <th></th>\n",
       "      <th>id</th>\n",
       "      <th>Conversation</th>\n",
       "      <th>Instruction_id</th>\n",
       "      <th>service_type</th>\n",
       "      <th>selfdialog_clean</th>\n",
       "    </tr>\n",
       "  </thead>\n",
       "  <tbody>\n",
       "    <tr>\n",
       "      <th>0</th>\n",
       "      <td>dlg-00055f4e-4a46-48bf-8d99-4e477663eb23</td>\n",
       "      <td>Hi, I'm looking to book a table for Korean fod...</td>\n",
       "      <td>restaurant-table-2</td>\n",
       "      <td>restaurant</td>\n",
       "      <td>Hi, I'm looking to book a table for Korean fod...</td>\n",
       "    </tr>\n",
       "    <tr>\n",
       "      <th>1</th>\n",
       "      <td>dlg-0009352b-de51-474b-9f13-a2b0b2481546</td>\n",
       "      <td>Hi I would like to see if the Movie What Men W...</td>\n",
       "      <td>movie-tickets-1</td>\n",
       "      <td>movie</td>\n",
       "      <td>Hi I would like to see if the Movie What Men W...</td>\n",
       "    </tr>\n",
       "    <tr>\n",
       "      <th>2</th>\n",
       "      <td>dlg-00123c7b-15a0-4f21-9002-a2509149ee2d</td>\n",
       "      <td>I want to watch avengers endgame where do you ...</td>\n",
       "      <td>movie-tickets-3</td>\n",
       "      <td>movie</td>\n",
       "      <td>I want to watch avengers endgame where do you ...</td>\n",
       "    </tr>\n",
       "    <tr>\n",
       "      <th>3</th>\n",
       "      <td>dlg-0013673c-31c6-4565-8fac-810e173a5c53</td>\n",
       "      <td>I want to order a pizza from Bertuccis in Chel...</td>\n",
       "      <td>pizza-ordering-2</td>\n",
       "      <td>pizza</td>\n",
       "      <td>I want to order a pizza from Bertuccis in Chel...</td>\n",
       "    </tr>\n",
       "    <tr>\n",
       "      <th>4</th>\n",
       "      <td>dlg-001d8bb1-6f25-4ecd-986a-b7eeb5fa4e19</td>\n",
       "      <td>Hi I'd like to order two large pizzas. Sure, w...</td>\n",
       "      <td>pizza-ordering-2</td>\n",
       "      <td>pizza</td>\n",
       "      <td>Hi I'd like to order two large pizzas. Sure, w...</td>\n",
       "    </tr>\n",
       "  </tbody>\n",
       "</table>\n",
       "</div>"
      ],
      "text/plain": [
       "                                         id  \\\n",
       "0  dlg-00055f4e-4a46-48bf-8d99-4e477663eb23   \n",
       "1  dlg-0009352b-de51-474b-9f13-a2b0b2481546   \n",
       "2  dlg-00123c7b-15a0-4f21-9002-a2509149ee2d   \n",
       "3  dlg-0013673c-31c6-4565-8fac-810e173a5c53   \n",
       "4  dlg-001d8bb1-6f25-4ecd-986a-b7eeb5fa4e19   \n",
       "\n",
       "                                        Conversation      Instruction_id  \\\n",
       "0  Hi, I'm looking to book a table for Korean fod...  restaurant-table-2   \n",
       "1  Hi I would like to see if the Movie What Men W...     movie-tickets-1   \n",
       "2  I want to watch avengers endgame where do you ...     movie-tickets-3   \n",
       "3  I want to order a pizza from Bertuccis in Chel...    pizza-ordering-2   \n",
       "4  Hi I'd like to order two large pizzas. Sure, w...    pizza-ordering-2   \n",
       "\n",
       "  service_type                                   selfdialog_clean  \n",
       "0   restaurant  Hi, I'm looking to book a table for Korean fod...  \n",
       "1        movie  Hi I would like to see if the Movie What Men W...  \n",
       "2        movie  I want to watch avengers endgame where do you ...  \n",
       "3        pizza  I want to order a pizza from Bertuccis in Chel...  \n",
       "4        pizza  Hi I'd like to order two large pizzas. Sure, w...  "
      ]
     },
     "execution_count": 12,
     "metadata": {},
     "output_type": "execute_result"
    }
   ],
   "source": [
    "df.head()"
   ]
  },
  {
   "cell_type": "markdown",
   "metadata": {},
   "source": [
    "<a id='NLP'></a>\n",
    "## NLP"
   ]
  },
  {
   "cell_type": "code",
   "execution_count": 13,
   "metadata": {},
   "outputs": [],
   "source": [
    "import spacy\n",
    "nlp = spacy.load('en')"
   ]
  },
  {
   "cell_type": "markdown",
   "metadata": {},
   "source": [
    "Iterate and Perform NLP"
   ]
  },
  {
   "cell_type": "code",
   "execution_count": 14,
   "metadata": {},
   "outputs": [
    {
     "name": "stdout",
     "output_type": "stream",
     "text": [
      "0\n",
      "1000\n",
      "2000\n",
      "3000\n",
      "4000\n",
      "5000\n",
      "6000\n",
      "7000\n"
     ]
    }
   ],
   "source": [
    "for i, row in df.iterrows():\n",
    "    if i % 1000 == 0:\n",
    "        print(i)\n",
    "    if(row[\"selfdialog_clean\"] and len(str(row[\"selfdialog_clean\"])) < 1000000):\n",
    "        doc = nlp(str(row[\"selfdialog_clean\"]))\n",
    "        adjectives = []\n",
    "        nouns = []\n",
    "        verbs = []\n",
    "        lemmas = []\n",
    "\n",
    "        for token in doc:\n",
    "            lemmas.append(token.lemma_)\n",
    "            if token.pos_ == \"ADJ\":\n",
    "                adjectives.append(token.lemma_)\n",
    "            if token.pos_ == \"NOUN\" or token.pos_ == \"PROPN\":\n",
    "                nouns.append(token.lemma_)\n",
    "            if token.pos_ == \"VERB\":\n",
    "                verbs.append(token.lemma_)\n",
    "                \n",
    "        df.at[i, \"selfdialog_lemma\"] = \" \".join(lemmas)                \n",
    "        df.at[i, \"selfdialog_nouns\"] = \" \".join(nouns)\n",
    "        df.at[i, \"selfdialog_adjectives\"] = \" \".join(adjectives)\n",
    "        df.at[i, \"selfdialog_verbs\"] = \" \".join(verbs)\n",
    "        df.at[i, \"selfdialog_nav\"] = \" \".join(nouns+adjectives+verbs)\n",
    "        df.at[i, \"no_tokens\"] = len(lemmas)"
   ]
  },
  {
   "cell_type": "code",
   "execution_count": 15,
   "metadata": {},
   "outputs": [
    {
     "data": {
      "text/html": [
       "<div>\n",
       "<style scoped>\n",
       "    .dataframe tbody tr th:only-of-type {\n",
       "        vertical-align: middle;\n",
       "    }\n",
       "\n",
       "    .dataframe tbody tr th {\n",
       "        vertical-align: top;\n",
       "    }\n",
       "\n",
       "    .dataframe thead th {\n",
       "        text-align: right;\n",
       "    }\n",
       "</style>\n",
       "<table border=\"1\" class=\"dataframe\">\n",
       "  <thead>\n",
       "    <tr style=\"text-align: right;\">\n",
       "      <th></th>\n",
       "      <th>id</th>\n",
       "      <th>Conversation</th>\n",
       "      <th>Instruction_id</th>\n",
       "      <th>service_type</th>\n",
       "      <th>selfdialog_clean</th>\n",
       "      <th>selfdialog_lemma</th>\n",
       "      <th>selfdialog_nouns</th>\n",
       "      <th>selfdialog_adjectives</th>\n",
       "      <th>selfdialog_verbs</th>\n",
       "      <th>selfdialog_nav</th>\n",
       "      <th>no_tokens</th>\n",
       "    </tr>\n",
       "  </thead>\n",
       "  <tbody>\n",
       "    <tr>\n",
       "      <th>0</th>\n",
       "      <td>dlg-00055f4e-4a46-48bf-8d99-4e477663eb23</td>\n",
       "      <td>Hi, I'm looking to book a table for Korean fod...</td>\n",
       "      <td>restaurant-table-2</td>\n",
       "      <td>restaurant</td>\n",
       "      <td>Hi, I'm looking to book a table for Korean fod...</td>\n",
       "      <td>hi , -PRON- be look to book a table for korean...</td>\n",
       "      <td>table fod area southern nyc east village thurs...</td>\n",
       "      <td>korean what great great great fine available s...</td>\n",
       "      <td>be look book be think have be need do want sit...</td>\n",
       "      <td>table fod area southern nyc east village thurs...</td>\n",
       "      <td>192.0</td>\n",
       "    </tr>\n",
       "    <tr>\n",
       "      <th>1</th>\n",
       "      <td>dlg-0009352b-de51-474b-9f13-a2b0b2481546</td>\n",
       "      <td>Hi I would like to see if the Movie What Men W...</td>\n",
       "      <td>movie-tickets-1</td>\n",
       "      <td>movie</td>\n",
       "      <td>Hi I would like to see if the Movie What Men W...</td>\n",
       "      <td>hi -PRON- would like to see if the movie what ...</td>\n",
       "      <td>movie what men ticket friend ticket time today...</td>\n",
       "      <td>what that funny -PRON- much -PRON- own fine -P...</td>\n",
       "      <td>would like see want be play be show would like...</td>\n",
       "      <td>movie what men ticket friend ticket time today...</td>\n",
       "      <td>236.0</td>\n",
       "    </tr>\n",
       "    <tr>\n",
       "      <th>2</th>\n",
       "      <td>dlg-00123c7b-15a0-4f21-9002-a2509149ee2d</td>\n",
       "      <td>I want to watch avengers endgame where do you ...</td>\n",
       "      <td>movie-tickets-3</td>\n",
       "      <td>movie</td>\n",
       "      <td>I want to watch avengers endgame where do you ...</td>\n",
       "      <td>-PRON- want to watch avenger endgame where do ...</td>\n",
       "      <td>avenger endgame bangkok hotel time movie o'clo...</td>\n",
       "      <td>good what many other -PRON- new afraid interes...</td>\n",
       "      <td>want watch do want watch close stay sound do w...</td>\n",
       "      <td>avenger endgame bangkok hotel time movie o'clo...</td>\n",
       "      <td>150.0</td>\n",
       "    </tr>\n",
       "    <tr>\n",
       "      <th>3</th>\n",
       "      <td>dlg-0013673c-31c6-4565-8fac-810e173a5c53</td>\n",
       "      <td>I want to order a pizza from Bertuccis in Chel...</td>\n",
       "      <td>pizza-ordering-2</td>\n",
       "      <td>pizza</td>\n",
       "      <td>I want to order a pizza from Bertuccis in Chel...</td>\n",
       "      <td>-PRON- want to order a pizza from bertuccis in...</td>\n",
       "      <td>pizza bertuccis chelmsford ma what type pizza ...</td>\n",
       "      <td>what large different what large -PRON- large g...</td>\n",
       "      <td>want order would like understand will do have ...</td>\n",
       "      <td>pizza bertuccis chelmsford ma what type pizza ...</td>\n",
       "      <td>155.0</td>\n",
       "    </tr>\n",
       "    <tr>\n",
       "      <th>4</th>\n",
       "      <td>dlg-001d8bb1-6f25-4ecd-986a-b7eeb5fa4e19</td>\n",
       "      <td>Hi I'd like to order two large pizzas. Sure, w...</td>\n",
       "      <td>pizza-ordering-2</td>\n",
       "      <td>pizza</td>\n",
       "      <td>Hi I'd like to order two large pizzas. Sure, w...</td>\n",
       "      <td>hi -PRON- would like to order two large pizza ...</td>\n",
       "      <td>pizza kind pizza mind please anything meat lov...</td>\n",
       "      <td>large what hawaiian large sorry sure what -PRO...</td>\n",
       "      <td>would like order have will have be can get wou...</td>\n",
       "      <td>pizza kind pizza mind please anything meat lov...</td>\n",
       "      <td>257.0</td>\n",
       "    </tr>\n",
       "  </tbody>\n",
       "</table>\n",
       "</div>"
      ],
      "text/plain": [
       "                                         id  \\\n",
       "0  dlg-00055f4e-4a46-48bf-8d99-4e477663eb23   \n",
       "1  dlg-0009352b-de51-474b-9f13-a2b0b2481546   \n",
       "2  dlg-00123c7b-15a0-4f21-9002-a2509149ee2d   \n",
       "3  dlg-0013673c-31c6-4565-8fac-810e173a5c53   \n",
       "4  dlg-001d8bb1-6f25-4ecd-986a-b7eeb5fa4e19   \n",
       "\n",
       "                                        Conversation      Instruction_id  \\\n",
       "0  Hi, I'm looking to book a table for Korean fod...  restaurant-table-2   \n",
       "1  Hi I would like to see if the Movie What Men W...     movie-tickets-1   \n",
       "2  I want to watch avengers endgame where do you ...     movie-tickets-3   \n",
       "3  I want to order a pizza from Bertuccis in Chel...    pizza-ordering-2   \n",
       "4  Hi I'd like to order two large pizzas. Sure, w...    pizza-ordering-2   \n",
       "\n",
       "  service_type                                   selfdialog_clean  \\\n",
       "0   restaurant  Hi, I'm looking to book a table for Korean fod...   \n",
       "1        movie  Hi I would like to see if the Movie What Men W...   \n",
       "2        movie  I want to watch avengers endgame where do you ...   \n",
       "3        pizza  I want to order a pizza from Bertuccis in Chel...   \n",
       "4        pizza  Hi I'd like to order two large pizzas. Sure, w...   \n",
       "\n",
       "                                    selfdialog_lemma  \\\n",
       "0  hi , -PRON- be look to book a table for korean...   \n",
       "1  hi -PRON- would like to see if the movie what ...   \n",
       "2  -PRON- want to watch avenger endgame where do ...   \n",
       "3  -PRON- want to order a pizza from bertuccis in...   \n",
       "4  hi -PRON- would like to order two large pizza ...   \n",
       "\n",
       "                                    selfdialog_nouns  \\\n",
       "0  table fod area southern nyc east village thurs...   \n",
       "1  movie what men ticket friend ticket time today...   \n",
       "2  avenger endgame bangkok hotel time movie o'clo...   \n",
       "3  pizza bertuccis chelmsford ma what type pizza ...   \n",
       "4  pizza kind pizza mind please anything meat lov...   \n",
       "\n",
       "                               selfdialog_adjectives  \\\n",
       "0  korean what great great great fine available s...   \n",
       "1  what that funny -PRON- much -PRON- own fine -P...   \n",
       "2  good what many other -PRON- new afraid interes...   \n",
       "3  what large different what large -PRON- large g...   \n",
       "4  large what hawaiian large sorry sure what -PRO...   \n",
       "\n",
       "                                    selfdialog_verbs  \\\n",
       "0  be look book be think have be need do want sit...   \n",
       "1  would like see want be play be show would like...   \n",
       "2  want watch do want watch close stay sound do w...   \n",
       "3  want order would like understand will do have ...   \n",
       "4  would like order have will have be can get wou...   \n",
       "\n",
       "                                      selfdialog_nav  no_tokens  \n",
       "0  table fod area southern nyc east village thurs...      192.0  \n",
       "1  movie what men ticket friend ticket time today...      236.0  \n",
       "2  avenger endgame bangkok hotel time movie o'clo...      150.0  \n",
       "3  pizza bertuccis chelmsford ma what type pizza ...      155.0  \n",
       "4  pizza kind pizza mind please anything meat lov...      257.0  "
      ]
     },
     "execution_count": 15,
     "metadata": {},
     "output_type": "execute_result"
    }
   ],
   "source": [
    "df.head()"
   ]
  },
  {
   "cell_type": "markdown",
   "metadata": {},
   "source": [
    "<a id='Store_to_Database'></a>\n",
    "## Store to Database"
   ]
  },
  {
   "cell_type": "code",
   "execution_count": 16,
   "metadata": {},
   "outputs": [],
   "source": [
    "df.to_sql('posts_nlp', con, if_exists='replace')"
   ]
  },
  {
   "cell_type": "code",
   "execution_count": null,
   "metadata": {},
   "outputs": [],
   "source": []
  }
 ],
 "metadata": {
  "kernelspec": {
   "display_name": "Python 3",
   "language": "python",
   "name": "python3"
  },
  "language_info": {
   "codemirror_mode": {
    "name": "ipython",
    "version": 3
   },
   "file_extension": ".py",
   "mimetype": "text/x-python",
   "name": "python",
   "nbconvert_exporter": "python",
   "pygments_lexer": "ipython3",
   "version": "3.7.6"
  }
 },
 "nbformat": 4,
 "nbformat_minor": 4
}
