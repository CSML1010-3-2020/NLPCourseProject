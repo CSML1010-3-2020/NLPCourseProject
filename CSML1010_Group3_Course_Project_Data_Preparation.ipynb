{
 "cells": [
  {
   "cell_type": "markdown",
   "metadata": {},
   "source": [
    "## Project Name: CSML1010 NLP Course Project - Part 1 - Proposal): Problem, Dataset,  and Exploratory Data Analysis\n",
    "#### Authors (Group3): Paul Doucet, Jerry Khidaroo\n",
    "#### Project Repository: https://github.com/CSML1010-3-2020/NLPCourseProject"
   ]
  },
  {
   "cell_type": "markdown",
   "metadata": {},
   "source": [
    "#### 1. Problem Definition and Data Preparation Notebook:\n",
    "\n",
    "This notebook will review the following sections as part of our project proposal:\n",
    "\n",
    "- <a href='#Problem_Definition'>__Problem Definition__</a>\n",
    "- <a href='#Dataset_Description'>__Dataset Description__</a>\n",
    "- <a href='#Roadmap'>__Roadmap__</a>\n",
    "- <a href='#Import_the_Dataset'>__Import the Dataset__</a>\n"
   ]
  },
  {
   "cell_type": "markdown",
   "metadata": {},
   "source": [
    "<a id='Problem_Definition'></a>\n",
    "## Problem Definition\n",
    "The problem we will be analysing is supervised text classification.\n",
    "The goal is to investigate which supervised mahine learning methods will give the best results in classifying the texts from our dataset into the pre-defined categories. This is a multi-class text classification problem. The input will be the text elements of each conversation concatenated together. The output will be the instruction_id."
   ]
  },
  {
   "cell_type": "markdown",
   "metadata": {},
   "source": [
    "<a id='Dataset_Description'></a>\n",
    "## Dataset Description\n",
    "The dataset we will be using for our project is the __Taskmaster-1__ dataset from Google.\n",
    "[Taskmaster-1](https://research.google/tools/datasets/taskmaster-1/)\n",
    "\n",
    "The dataset can be optained from: https://github.com/google-research-datasets/Taskmaster\n",
    "\n",
    ">The dataset consists of 13,215 task-based dialogs, including 5,507 spoken and 7,708 written dialogs created with two distinct procedures. Each conversation falls into one of six domains: ordering pizza, creating auto repair appointments, setting up ride service, ordering movie tickets, ordering coffee drinks and making restaurant reservations. Our initial data exploration will use the written dialog file with 7,708 records."
   ]
  },
  {
   "cell_type": "markdown",
   "metadata": {},
   "source": [
    "<a id='Roadmap'></a>\n",
    "## Roadmap\n",
    "As part of our study, we will be consider the following steps to find the ideal classifier for incoming texts.\n",
    "- __Feature Engineering:__\n",
    "    - Count Vectors: \n",
    "    Count Vector is a matrix notation of the dataset in which every row represents a document from the corpus, every column represents a term from the corpus, and every cell represents the frequency count of a particular term in a particular document. These provide no context, nor any consideration of the words in relation to other words or position in the sentence.\n",
    "        - Bag-of-words\n",
    "        - Bag of n-grams\n",
    "    - TF-IDF Vectors: \n",
    "    TF-IDF score represents the relative importance of a term in the document and the entire corpus. TF-IDF score is composed by two terms: the first computes the normalized Term Frequency (TF), the second term is the Inverse Document Frequency (IDF), computed as the logarithm of the number of the documents in the corpus divided by the number of documents where the specific term appears.\n",
    "        - Word level Tfidf\n",
    "        - N-gram Level TF-IDF\n",
    "    - Word Embeddings:\n",
    "    A word embedding is a form of representing words and documents using a dense vector representation. The position of a word within the vector space is learned from text and is based on the words that surround the word when it is used. These generate a context free representation of each word in the vocabulary.\n",
    "        - Word2vec\n",
    "        - Glove\n",
    "    - NLP Based features: \n",
    "    An example of this would be Frequency distribution of Part of Speech Tags.\n",
    "        - Noun, Verb, Adjective, Adverb, Pronoun Counts\n",
    "    - Language Models:\n",
    "    These are recent breakthroughs that provide context and generate a representation of each word based on other words in the sentence.\n",
    "        - BERT or FLAIR\n",
    "- __Model Training:__\n",
    "    - Naive Bayes (multinominal): the one most suitable for word counts is multinominal.\n",
    "    - logistic regression.\n",
    "    - support vector machine.\n",
    "    - decision tree (random forest).\n",
    "    - Ensemble: Bagging, Boosting\n",
    "- __Model Evaluation:__\n",
    "    - Confusion Matrix\n",
    "    - Metrics: Presicion, Recall, F1 Score"
   ]
  },
  {
   "cell_type": "markdown",
   "metadata": {},
   "source": [
    "<a id='Import_the_Dataset'></a>\n",
    "## Import the Dataset"
   ]
  },
  {
   "cell_type": "markdown",
   "metadata": {},
   "source": [
    "Two JSON format file we will be using from the __Taskmaster-1__ dataset is the following:\n",
    "- __self-dialogs.json__ contains all the one-person dialogs.\n",
    "\n",
    "This file can be divided into train/dev/test sets by matching the dialog IDs from the following files:\n",
    "- train.csv\n",
    "- dev.csv\n",
    "- test.csv\n",
    "\n",
    "Supplementary information is provided to describe the data structure and annotation schema.\n",
    "* __sample.json__  - A sample conversation describing the format of the data.\n",
    "* __ontology.json__ - Schema file describing the annotation ontology.\n",
    "\n",
    "The structure of the conversations in the data files is as follows:\n",
    "* __conversationId:__ A universally unique identifier with the prefix 'dlg-'. The ID has no meaning.\n",
    "* __utterances:__ An array of utterances that make up the conversation.\n",
    "* __instructionId:__ A reference to the file(s) containing the user (and, if applicable, agent) instructions for this conversation.\n",
    "\n",
    "The __utterances__ category, has the following sub-categories of which we will be using the __text__ to perform our analysis:\n",
    "* __index:__ A 0-based index indicating the order of the utterances in the conversation.\n",
    "* __speaker:__ Either USER or ASSISTANT, indicating which role generated this utterance.\n",
    "* __text:__ The raw text of the utterance. In case of self dialogs, this is written by the crowdsourced worker. In case of the WOz dialogs, 'ASSISTANT' turns are written and 'USER' turns are transcribed from the spoken recordings of crowdsourced workers.\n",
    "* __segments:__ An array of various text spans with semantic annotations.\n"
   ]
  },
  {
   "cell_type": "markdown",
   "metadata": {},
   "source": [
    "### Import the libraries"
   ]
  },
  {
   "cell_type": "code",
   "execution_count": 5,
   "metadata": {},
   "outputs": [],
   "source": [
    "import json\n",
    "import pandas as pd\n",
    "from pandas.io.json import json_normalize"
   ]
  },
  {
   "cell_type": "markdown",
   "metadata": {},
   "source": [
    "Open the `self-dialogs.json` file and view the entire content"
   ]
  },
  {
   "cell_type": "code",
   "execution_count": 6,
   "metadata": {
    "scrolled": true
   },
   "outputs": [],
   "source": [
    "with open(r'./data/self-dialogs.json') as f:\n",
    "    data = json.load(f)"
   ]
  },
  {
   "cell_type": "markdown",
   "metadata": {},
   "source": [
    "Extract the `utterances` column and normalize it to view all individual text fields.  \n",
    "This will increase the dataframe rows from 7708 to 169469 as each text field is now available"
   ]
  },
  {
   "cell_type": "code",
   "execution_count": 7,
   "metadata": {},
   "outputs": [],
   "source": [
    "tt = pd.json_normalize(data, 'utterances', ['conversation_id','instruction_id'])"
   ]
  },
  {
   "cell_type": "markdown",
   "metadata": {},
   "source": [
    "View the dataframe with the text field visible outside the dictionary"
   ]
  },
  {
   "cell_type": "code",
   "execution_count": 8,
   "metadata": {},
   "outputs": [
    {
     "data": {
      "text/html": [
       "<div>\n",
       "<style scoped>\n",
       "    .dataframe tbody tr th:only-of-type {\n",
       "        vertical-align: middle;\n",
       "    }\n",
       "\n",
       "    .dataframe tbody tr th {\n",
       "        vertical-align: top;\n",
       "    }\n",
       "\n",
       "    .dataframe thead th {\n",
       "        text-align: right;\n",
       "    }\n",
       "</style>\n",
       "<table border=\"1\" class=\"dataframe\">\n",
       "  <thead>\n",
       "    <tr style=\"text-align: right;\">\n",
       "      <th></th>\n",
       "      <th>index</th>\n",
       "      <th>speaker</th>\n",
       "      <th>text</th>\n",
       "      <th>segments</th>\n",
       "      <th>conversation_id</th>\n",
       "      <th>instruction_id</th>\n",
       "    </tr>\n",
       "  </thead>\n",
       "  <tbody>\n",
       "    <tr>\n",
       "      <th>0</th>\n",
       "      <td>0</td>\n",
       "      <td>USER</td>\n",
       "      <td>Hi, I'm looking to book a table for Korean fod.</td>\n",
       "      <td>NaN</td>\n",
       "      <td>dlg-00055f4e-4a46-48bf-8d99-4e477663eb23</td>\n",
       "      <td>restaurant-table-2</td>\n",
       "    </tr>\n",
       "    <tr>\n",
       "      <th>1</th>\n",
       "      <td>1</td>\n",
       "      <td>ASSISTANT</td>\n",
       "      <td>Ok, what area are you thinking about?</td>\n",
       "      <td>NaN</td>\n",
       "      <td>dlg-00055f4e-4a46-48bf-8d99-4e477663eb23</td>\n",
       "      <td>restaurant-table-2</td>\n",
       "    </tr>\n",
       "    <tr>\n",
       "      <th>2</th>\n",
       "      <td>2</td>\n",
       "      <td>USER</td>\n",
       "      <td>Somewhere in Southern NYC, maybe the East Vill...</td>\n",
       "      <td>[{'start_index': 13, 'end_index': 49, 'text': ...</td>\n",
       "      <td>dlg-00055f4e-4a46-48bf-8d99-4e477663eb23</td>\n",
       "      <td>restaurant-table-2</td>\n",
       "    </tr>\n",
       "    <tr>\n",
       "      <th>3</th>\n",
       "      <td>3</td>\n",
       "      <td>ASSISTANT</td>\n",
       "      <td>Ok, great.  There's Thursday Kitchen, it has g...</td>\n",
       "      <td>[{'start_index': 20, 'end_index': 35, 'text': ...</td>\n",
       "      <td>dlg-00055f4e-4a46-48bf-8d99-4e477663eb23</td>\n",
       "      <td>restaurant-table-2</td>\n",
       "    </tr>\n",
       "    <tr>\n",
       "      <th>4</th>\n",
       "      <td>4</td>\n",
       "      <td>USER</td>\n",
       "      <td>That's great. So I need a table for tonight at...</td>\n",
       "      <td>[{'start_index': 26, 'end_index': 31, 'text': ...</td>\n",
       "      <td>dlg-00055f4e-4a46-48bf-8d99-4e477663eb23</td>\n",
       "      <td>restaurant-table-2</td>\n",
       "    </tr>\n",
       "    <tr>\n",
       "      <th>...</th>\n",
       "      <td>...</td>\n",
       "      <td>...</td>\n",
       "      <td>...</td>\n",
       "      <td>...</td>\n",
       "      <td>...</td>\n",
       "      <td>...</td>\n",
       "    </tr>\n",
       "    <tr>\n",
       "      <th>169464</th>\n",
       "      <td>15</td>\n",
       "      <td>ASSISTANT</td>\n",
       "      <td>Ok.</td>\n",
       "      <td>NaN</td>\n",
       "      <td>dlg-fffa6565-32bb-4592-8d30-fff66df29633</td>\n",
       "      <td>movie-tickets-3</td>\n",
       "    </tr>\n",
       "    <tr>\n",
       "      <th>169465</th>\n",
       "      <td>16</td>\n",
       "      <td>USER</td>\n",
       "      <td>I think we'll pass for tonight. Thanks anyhow.</td>\n",
       "      <td>NaN</td>\n",
       "      <td>dlg-fffa6565-32bb-4592-8d30-fff66df29633</td>\n",
       "      <td>movie-tickets-3</td>\n",
       "    </tr>\n",
       "    <tr>\n",
       "      <th>169466</th>\n",
       "      <td>17</td>\n",
       "      <td>ASSISTANT</td>\n",
       "      <td>Ok. Just let me know if you change your mind.</td>\n",
       "      <td>NaN</td>\n",
       "      <td>dlg-fffa6565-32bb-4592-8d30-fff66df29633</td>\n",
       "      <td>movie-tickets-3</td>\n",
       "    </tr>\n",
       "    <tr>\n",
       "      <th>169467</th>\n",
       "      <td>18</td>\n",
       "      <td>USER</td>\n",
       "      <td>I will. Thanks</td>\n",
       "      <td>NaN</td>\n",
       "      <td>dlg-fffa6565-32bb-4592-8d30-fff66df29633</td>\n",
       "      <td>movie-tickets-3</td>\n",
       "    </tr>\n",
       "    <tr>\n",
       "      <th>169468</th>\n",
       "      <td>19</td>\n",
       "      <td>ASSISTANT</td>\n",
       "      <td>No problem!</td>\n",
       "      <td>NaN</td>\n",
       "      <td>dlg-fffa6565-32bb-4592-8d30-fff66df29633</td>\n",
       "      <td>movie-tickets-3</td>\n",
       "    </tr>\n",
       "  </tbody>\n",
       "</table>\n",
       "<p>169469 rows × 6 columns</p>\n",
       "</div>"
      ],
      "text/plain": [
       "        index    speaker                                               text  \\\n",
       "0           0       USER    Hi, I'm looking to book a table for Korean fod.   \n",
       "1           1  ASSISTANT              Ok, what area are you thinking about?   \n",
       "2           2       USER  Somewhere in Southern NYC, maybe the East Vill...   \n",
       "3           3  ASSISTANT  Ok, great.  There's Thursday Kitchen, it has g...   \n",
       "4           4       USER  That's great. So I need a table for tonight at...   \n",
       "...       ...        ...                                                ...   \n",
       "169464     15  ASSISTANT                                                Ok.   \n",
       "169465     16       USER     I think we'll pass for tonight. Thanks anyhow.   \n",
       "169466     17  ASSISTANT      Ok. Just let me know if you change your mind.   \n",
       "169467     18       USER                                     I will. Thanks   \n",
       "169468     19  ASSISTANT                                        No problem!   \n",
       "\n",
       "                                                 segments  \\\n",
       "0                                                     NaN   \n",
       "1                                                     NaN   \n",
       "2       [{'start_index': 13, 'end_index': 49, 'text': ...   \n",
       "3       [{'start_index': 20, 'end_index': 35, 'text': ...   \n",
       "4       [{'start_index': 26, 'end_index': 31, 'text': ...   \n",
       "...                                                   ...   \n",
       "169464                                                NaN   \n",
       "169465                                                NaN   \n",
       "169466                                                NaN   \n",
       "169467                                                NaN   \n",
       "169468                                                NaN   \n",
       "\n",
       "                                 conversation_id      instruction_id  \n",
       "0       dlg-00055f4e-4a46-48bf-8d99-4e477663eb23  restaurant-table-2  \n",
       "1       dlg-00055f4e-4a46-48bf-8d99-4e477663eb23  restaurant-table-2  \n",
       "2       dlg-00055f4e-4a46-48bf-8d99-4e477663eb23  restaurant-table-2  \n",
       "3       dlg-00055f4e-4a46-48bf-8d99-4e477663eb23  restaurant-table-2  \n",
       "4       dlg-00055f4e-4a46-48bf-8d99-4e477663eb23  restaurant-table-2  \n",
       "...                                          ...                 ...  \n",
       "169464  dlg-fffa6565-32bb-4592-8d30-fff66df29633     movie-tickets-3  \n",
       "169465  dlg-fffa6565-32bb-4592-8d30-fff66df29633     movie-tickets-3  \n",
       "169466  dlg-fffa6565-32bb-4592-8d30-fff66df29633     movie-tickets-3  \n",
       "169467  dlg-fffa6565-32bb-4592-8d30-fff66df29633     movie-tickets-3  \n",
       "169468  dlg-fffa6565-32bb-4592-8d30-fff66df29633     movie-tickets-3  \n",
       "\n",
       "[169469 rows x 6 columns]"
      ]
     },
     "execution_count": 8,
     "metadata": {},
     "output_type": "execute_result"
    }
   ],
   "source": [
    "tt"
   ]
  },
  {
   "cell_type": "markdown",
   "metadata": {},
   "source": [
    "Remove all columns but the `text` and `conversation_id` from the dataframe and view"
   ]
  },
  {
   "cell_type": "markdown",
   "metadata": {},
   "source": [
    "tt.drop('index', axis=1, inplace=True)\n",
    "tt.drop('segments', axis=1, inplace=True)\n",
    "tt.drop('speaker', axis=1, inplace=True)\n",
    "tt"
   ]
  },
  {
   "cell_type": "markdown",
   "metadata": {},
   "source": [
    "View the columns of the dataframe"
   ]
  },
  {
   "cell_type": "code",
   "execution_count": 9,
   "metadata": {},
   "outputs": [
    {
     "data": {
      "text/plain": [
       "Index(['index', 'speaker', 'text', 'segments', 'conversation_id',\n",
       "       'instruction_id'],\n",
       "      dtype='object')"
      ]
     },
     "execution_count": 9,
     "metadata": {},
     "output_type": "execute_result"
    }
   ],
   "source": [
    "tt.columns"
   ]
  },
  {
   "cell_type": "markdown",
   "metadata": {},
   "source": [
    "View the content of the `text` column, then the `conversation_id`"
   ]
  },
  {
   "cell_type": "code",
   "execution_count": 10,
   "metadata": {},
   "outputs": [
    {
     "data": {
      "text/plain": [
       "0           Hi, I'm looking to book a table for Korean fod.\n",
       "1                     Ok, what area are you thinking about?\n",
       "2         Somewhere in Southern NYC, maybe the East Vill...\n",
       "3         Ok, great.  There's Thursday Kitchen, it has g...\n",
       "4         That's great. So I need a table for tonight at...\n",
       "                                ...                        \n",
       "169464                                                  Ok.\n",
       "169465       I think we'll pass for tonight. Thanks anyhow.\n",
       "169466        Ok. Just let me know if you change your mind.\n",
       "169467                                       I will. Thanks\n",
       "169468                                          No problem!\n",
       "Name: text, Length: 169469, dtype: object"
      ]
     },
     "execution_count": 10,
     "metadata": {},
     "output_type": "execute_result"
    }
   ],
   "source": [
    "tt['text']"
   ]
  },
  {
   "cell_type": "code",
   "execution_count": 11,
   "metadata": {},
   "outputs": [
    {
     "data": {
      "text/plain": [
       "0         dlg-00055f4e-4a46-48bf-8d99-4e477663eb23\n",
       "1         dlg-00055f4e-4a46-48bf-8d99-4e477663eb23\n",
       "2         dlg-00055f4e-4a46-48bf-8d99-4e477663eb23\n",
       "3         dlg-00055f4e-4a46-48bf-8d99-4e477663eb23\n",
       "4         dlg-00055f4e-4a46-48bf-8d99-4e477663eb23\n",
       "                            ...                   \n",
       "169464    dlg-fffa6565-32bb-4592-8d30-fff66df29633\n",
       "169465    dlg-fffa6565-32bb-4592-8d30-fff66df29633\n",
       "169466    dlg-fffa6565-32bb-4592-8d30-fff66df29633\n",
       "169467    dlg-fffa6565-32bb-4592-8d30-fff66df29633\n",
       "169468    dlg-fffa6565-32bb-4592-8d30-fff66df29633\n",
       "Name: conversation_id, Length: 169469, dtype: object"
      ]
     },
     "execution_count": 11,
     "metadata": {},
     "output_type": "execute_result"
    }
   ],
   "source": [
    "tt['conversation_id']"
   ]
  },
  {
   "cell_type": "markdown",
   "metadata": {},
   "source": [
    "View of one line of the dataframe filtered by `conversation_id`"
   ]
  },
  {
   "cell_type": "code",
   "execution_count": 12,
   "metadata": {
    "scrolled": true
   },
   "outputs": [
    {
     "data": {
      "text/html": [
       "<div>\n",
       "<style scoped>\n",
       "    .dataframe tbody tr th:only-of-type {\n",
       "        vertical-align: middle;\n",
       "    }\n",
       "\n",
       "    .dataframe tbody tr th {\n",
       "        vertical-align: top;\n",
       "    }\n",
       "\n",
       "    .dataframe thead th {\n",
       "        text-align: right;\n",
       "    }\n",
       "</style>\n",
       "<table border=\"1\" class=\"dataframe\">\n",
       "  <thead>\n",
       "    <tr style=\"text-align: right;\">\n",
       "      <th></th>\n",
       "      <th>index</th>\n",
       "      <th>speaker</th>\n",
       "      <th>text</th>\n",
       "      <th>segments</th>\n",
       "      <th>conversation_id</th>\n",
       "      <th>instruction_id</th>\n",
       "    </tr>\n",
       "  </thead>\n",
       "  <tbody>\n",
       "    <tr>\n",
       "      <th>0</th>\n",
       "      <td>0</td>\n",
       "      <td>USER</td>\n",
       "      <td>Hi, I'm looking to book a table for Korean fod.</td>\n",
       "      <td>NaN</td>\n",
       "      <td>dlg-00055f4e-4a46-48bf-8d99-4e477663eb23</td>\n",
       "      <td>restaurant-table-2</td>\n",
       "    </tr>\n",
       "    <tr>\n",
       "      <th>1</th>\n",
       "      <td>1</td>\n",
       "      <td>ASSISTANT</td>\n",
       "      <td>Ok, what area are you thinking about?</td>\n",
       "      <td>NaN</td>\n",
       "      <td>dlg-00055f4e-4a46-48bf-8d99-4e477663eb23</td>\n",
       "      <td>restaurant-table-2</td>\n",
       "    </tr>\n",
       "    <tr>\n",
       "      <th>2</th>\n",
       "      <td>2</td>\n",
       "      <td>USER</td>\n",
       "      <td>Somewhere in Southern NYC, maybe the East Vill...</td>\n",
       "      <td>[{'start_index': 13, 'end_index': 49, 'text': ...</td>\n",
       "      <td>dlg-00055f4e-4a46-48bf-8d99-4e477663eb23</td>\n",
       "      <td>restaurant-table-2</td>\n",
       "    </tr>\n",
       "    <tr>\n",
       "      <th>3</th>\n",
       "      <td>3</td>\n",
       "      <td>ASSISTANT</td>\n",
       "      <td>Ok, great.  There's Thursday Kitchen, it has g...</td>\n",
       "      <td>[{'start_index': 20, 'end_index': 35, 'text': ...</td>\n",
       "      <td>dlg-00055f4e-4a46-48bf-8d99-4e477663eb23</td>\n",
       "      <td>restaurant-table-2</td>\n",
       "    </tr>\n",
       "    <tr>\n",
       "      <th>4</th>\n",
       "      <td>4</td>\n",
       "      <td>USER</td>\n",
       "      <td>That's great. So I need a table for tonight at...</td>\n",
       "      <td>[{'start_index': 26, 'end_index': 31, 'text': ...</td>\n",
       "      <td>dlg-00055f4e-4a46-48bf-8d99-4e477663eb23</td>\n",
       "      <td>restaurant-table-2</td>\n",
       "    </tr>\n",
       "    <tr>\n",
       "      <th>5</th>\n",
       "      <td>5</td>\n",
       "      <td>ASSISTANT</td>\n",
       "      <td>They don't have any availability for 7 pm.</td>\n",
       "      <td>[{'start_index': 37, 'end_index': 41, 'text': ...</td>\n",
       "      <td>dlg-00055f4e-4a46-48bf-8d99-4e477663eb23</td>\n",
       "      <td>restaurant-table-2</td>\n",
       "    </tr>\n",
       "    <tr>\n",
       "      <th>6</th>\n",
       "      <td>6</td>\n",
       "      <td>USER</td>\n",
       "      <td>What times are available?</td>\n",
       "      <td>NaN</td>\n",
       "      <td>dlg-00055f4e-4a46-48bf-8d99-4e477663eb23</td>\n",
       "      <td>restaurant-table-2</td>\n",
       "    </tr>\n",
       "    <tr>\n",
       "      <th>7</th>\n",
       "      <td>7</td>\n",
       "      <td>ASSISTANT</td>\n",
       "      <td>5 or 8.</td>\n",
       "      <td>[{'start_index': 0, 'end_index': 1, 'text': '5...</td>\n",
       "      <td>dlg-00055f4e-4a46-48bf-8d99-4e477663eb23</td>\n",
       "      <td>restaurant-table-2</td>\n",
       "    </tr>\n",
       "    <tr>\n",
       "      <th>8</th>\n",
       "      <td>8</td>\n",
       "      <td>USER</td>\n",
       "      <td>Yikes, we can't do those times.</td>\n",
       "      <td>NaN</td>\n",
       "      <td>dlg-00055f4e-4a46-48bf-8d99-4e477663eb23</td>\n",
       "      <td>restaurant-table-2</td>\n",
       "    </tr>\n",
       "    <tr>\n",
       "      <th>9</th>\n",
       "      <td>9</td>\n",
       "      <td>ASSISTANT</td>\n",
       "      <td>Ok, do you have a second choice?</td>\n",
       "      <td>NaN</td>\n",
       "      <td>dlg-00055f4e-4a46-48bf-8d99-4e477663eb23</td>\n",
       "      <td>restaurant-table-2</td>\n",
       "    </tr>\n",
       "    <tr>\n",
       "      <th>10</th>\n",
       "      <td>10</td>\n",
       "      <td>USER</td>\n",
       "      <td>Let me check.</td>\n",
       "      <td>NaN</td>\n",
       "      <td>dlg-00055f4e-4a46-48bf-8d99-4e477663eb23</td>\n",
       "      <td>restaurant-table-2</td>\n",
       "    </tr>\n",
       "    <tr>\n",
       "      <th>11</th>\n",
       "      <td>11</td>\n",
       "      <td>ASSISTANT</td>\n",
       "      <td>Ok.</td>\n",
       "      <td>NaN</td>\n",
       "      <td>dlg-00055f4e-4a46-48bf-8d99-4e477663eb23</td>\n",
       "      <td>restaurant-table-2</td>\n",
       "    </tr>\n",
       "    <tr>\n",
       "      <th>12</th>\n",
       "      <td>12</td>\n",
       "      <td>USER</td>\n",
       "      <td>Lets try Boka, are they free for 8 people at 7?</td>\n",
       "      <td>[{'start_index': 9, 'end_index': 13, 'text': '...</td>\n",
       "      <td>dlg-00055f4e-4a46-48bf-8d99-4e477663eb23</td>\n",
       "      <td>restaurant-table-2</td>\n",
       "    </tr>\n",
       "    <tr>\n",
       "      <th>13</th>\n",
       "      <td>13</td>\n",
       "      <td>ASSISTANT</td>\n",
       "      <td>Yes.</td>\n",
       "      <td>NaN</td>\n",
       "      <td>dlg-00055f4e-4a46-48bf-8d99-4e477663eb23</td>\n",
       "      <td>restaurant-table-2</td>\n",
       "    </tr>\n",
       "    <tr>\n",
       "      <th>14</th>\n",
       "      <td>14</td>\n",
       "      <td>USER</td>\n",
       "      <td>Great, let's book that.</td>\n",
       "      <td>NaN</td>\n",
       "      <td>dlg-00055f4e-4a46-48bf-8d99-4e477663eb23</td>\n",
       "      <td>restaurant-table-2</td>\n",
       "    </tr>\n",
       "    <tr>\n",
       "      <th>15</th>\n",
       "      <td>15</td>\n",
       "      <td>ASSISTANT</td>\n",
       "      <td>Ok great, are there any other requests?</td>\n",
       "      <td>NaN</td>\n",
       "      <td>dlg-00055f4e-4a46-48bf-8d99-4e477663eb23</td>\n",
       "      <td>restaurant-table-2</td>\n",
       "    </tr>\n",
       "    <tr>\n",
       "      <th>16</th>\n",
       "      <td>16</td>\n",
       "      <td>USER</td>\n",
       "      <td>No, that's it, just book.</td>\n",
       "      <td>NaN</td>\n",
       "      <td>dlg-00055f4e-4a46-48bf-8d99-4e477663eb23</td>\n",
       "      <td>restaurant-table-2</td>\n",
       "    </tr>\n",
       "    <tr>\n",
       "      <th>17</th>\n",
       "      <td>17</td>\n",
       "      <td>ASSISTANT</td>\n",
       "      <td>Great, should I use your account you have open...</td>\n",
       "      <td>NaN</td>\n",
       "      <td>dlg-00055f4e-4a46-48bf-8d99-4e477663eb23</td>\n",
       "      <td>restaurant-table-2</td>\n",
       "    </tr>\n",
       "    <tr>\n",
       "      <th>18</th>\n",
       "      <td>18</td>\n",
       "      <td>USER</td>\n",
       "      <td>Yes please.</td>\n",
       "      <td>NaN</td>\n",
       "      <td>dlg-00055f4e-4a46-48bf-8d99-4e477663eb23</td>\n",
       "      <td>restaurant-table-2</td>\n",
       "    </tr>\n",
       "    <tr>\n",
       "      <th>19</th>\n",
       "      <td>19</td>\n",
       "      <td>ASSISTANT</td>\n",
       "      <td>Great. You will get a confirmation to your pho...</td>\n",
       "      <td>NaN</td>\n",
       "      <td>dlg-00055f4e-4a46-48bf-8d99-4e477663eb23</td>\n",
       "      <td>restaurant-table-2</td>\n",
       "    </tr>\n",
       "  </tbody>\n",
       "</table>\n",
       "</div>"
      ],
      "text/plain": [
       "    index    speaker                                               text  \\\n",
       "0       0       USER    Hi, I'm looking to book a table for Korean fod.   \n",
       "1       1  ASSISTANT              Ok, what area are you thinking about?   \n",
       "2       2       USER  Somewhere in Southern NYC, maybe the East Vill...   \n",
       "3       3  ASSISTANT  Ok, great.  There's Thursday Kitchen, it has g...   \n",
       "4       4       USER  That's great. So I need a table for tonight at...   \n",
       "5       5  ASSISTANT         They don't have any availability for 7 pm.   \n",
       "6       6       USER                          What times are available?   \n",
       "7       7  ASSISTANT                                            5 or 8.   \n",
       "8       8       USER                    Yikes, we can't do those times.   \n",
       "9       9  ASSISTANT                   Ok, do you have a second choice?   \n",
       "10     10       USER                                      Let me check.   \n",
       "11     11  ASSISTANT                                                Ok.   \n",
       "12     12       USER    Lets try Boka, are they free for 8 people at 7?   \n",
       "13     13  ASSISTANT                                               Yes.   \n",
       "14     14       USER                            Great, let's book that.   \n",
       "15     15  ASSISTANT            Ok great, are there any other requests?   \n",
       "16     16       USER                          No, that's it, just book.   \n",
       "17     17  ASSISTANT  Great, should I use your account you have open...   \n",
       "18     18       USER                                        Yes please.   \n",
       "19     19  ASSISTANT  Great. You will get a confirmation to your pho...   \n",
       "\n",
       "                                             segments  \\\n",
       "0                                                 NaN   \n",
       "1                                                 NaN   \n",
       "2   [{'start_index': 13, 'end_index': 49, 'text': ...   \n",
       "3   [{'start_index': 20, 'end_index': 35, 'text': ...   \n",
       "4   [{'start_index': 26, 'end_index': 31, 'text': ...   \n",
       "5   [{'start_index': 37, 'end_index': 41, 'text': ...   \n",
       "6                                                 NaN   \n",
       "7   [{'start_index': 0, 'end_index': 1, 'text': '5...   \n",
       "8                                                 NaN   \n",
       "9                                                 NaN   \n",
       "10                                                NaN   \n",
       "11                                                NaN   \n",
       "12  [{'start_index': 9, 'end_index': 13, 'text': '...   \n",
       "13                                                NaN   \n",
       "14                                                NaN   \n",
       "15                                                NaN   \n",
       "16                                                NaN   \n",
       "17                                                NaN   \n",
       "18                                                NaN   \n",
       "19                                                NaN   \n",
       "\n",
       "                             conversation_id      instruction_id  \n",
       "0   dlg-00055f4e-4a46-48bf-8d99-4e477663eb23  restaurant-table-2  \n",
       "1   dlg-00055f4e-4a46-48bf-8d99-4e477663eb23  restaurant-table-2  \n",
       "2   dlg-00055f4e-4a46-48bf-8d99-4e477663eb23  restaurant-table-2  \n",
       "3   dlg-00055f4e-4a46-48bf-8d99-4e477663eb23  restaurant-table-2  \n",
       "4   dlg-00055f4e-4a46-48bf-8d99-4e477663eb23  restaurant-table-2  \n",
       "5   dlg-00055f4e-4a46-48bf-8d99-4e477663eb23  restaurant-table-2  \n",
       "6   dlg-00055f4e-4a46-48bf-8d99-4e477663eb23  restaurant-table-2  \n",
       "7   dlg-00055f4e-4a46-48bf-8d99-4e477663eb23  restaurant-table-2  \n",
       "8   dlg-00055f4e-4a46-48bf-8d99-4e477663eb23  restaurant-table-2  \n",
       "9   dlg-00055f4e-4a46-48bf-8d99-4e477663eb23  restaurant-table-2  \n",
       "10  dlg-00055f4e-4a46-48bf-8d99-4e477663eb23  restaurant-table-2  \n",
       "11  dlg-00055f4e-4a46-48bf-8d99-4e477663eb23  restaurant-table-2  \n",
       "12  dlg-00055f4e-4a46-48bf-8d99-4e477663eb23  restaurant-table-2  \n",
       "13  dlg-00055f4e-4a46-48bf-8d99-4e477663eb23  restaurant-table-2  \n",
       "14  dlg-00055f4e-4a46-48bf-8d99-4e477663eb23  restaurant-table-2  \n",
       "15  dlg-00055f4e-4a46-48bf-8d99-4e477663eb23  restaurant-table-2  \n",
       "16  dlg-00055f4e-4a46-48bf-8d99-4e477663eb23  restaurant-table-2  \n",
       "17  dlg-00055f4e-4a46-48bf-8d99-4e477663eb23  restaurant-table-2  \n",
       "18  dlg-00055f4e-4a46-48bf-8d99-4e477663eb23  restaurant-table-2  \n",
       "19  dlg-00055f4e-4a46-48bf-8d99-4e477663eb23  restaurant-table-2  "
      ]
     },
     "execution_count": 12,
     "metadata": {},
     "output_type": "execute_result"
    }
   ],
   "source": [
    "tt[tt.conversation_id == 'dlg-00055f4e-4a46-48bf-8d99-4e477663eb23']"
   ]
  },
  {
   "cell_type": "markdown",
   "metadata": {},
   "source": [
    "Categorize the `conversation_id` TODO: confirm this step is necessary"
   ]
  },
  {
   "cell_type": "code",
   "execution_count": 13,
   "metadata": {},
   "outputs": [],
   "source": [
    "tt2 = tt.conversation_id.unique()"
   ]
  },
  {
   "cell_type": "code",
   "execution_count": 14,
   "metadata": {},
   "outputs": [
    {
     "data": {
      "text/plain": [
       "array(['dlg-00055f4e-4a46-48bf-8d99-4e477663eb23',\n",
       "       'dlg-0009352b-de51-474b-9f13-a2b0b2481546',\n",
       "       'dlg-00123c7b-15a0-4f21-9002-a2509149ee2d', ...,\n",
       "       'dlg-ffcd1d53-c080-4acf-897d-48236513bc58',\n",
       "       'dlg-ffd9db94-36e3-4534-b99d-89f7560db17c',\n",
       "       'dlg-fffa6565-32bb-4592-8d30-fff66df29633'], dtype=object)"
      ]
     },
     "execution_count": 14,
     "metadata": {},
     "output_type": "execute_result"
    }
   ],
   "source": [
    "tt2"
   ]
  },
  {
   "cell_type": "markdown",
   "metadata": {},
   "source": [
    "Verify the length of the `tt2` array to confirm the number of conversations: note that it should match initial dataframe length of 7708"
   ]
  },
  {
   "cell_type": "code",
   "execution_count": 15,
   "metadata": {},
   "outputs": [
    {
     "data": {
      "text/plain": [
       "7708"
      ]
     },
     "execution_count": 15,
     "metadata": {},
     "output_type": "execute_result"
    }
   ],
   "source": [
    "len(tt2)"
   ]
  },
  {
   "cell_type": "markdown",
   "metadata": {},
   "source": [
    "Loop thru the entire `tt2` dataframe and combine all the text based on the conversation_id "
   ]
  },
  {
   "cell_type": "code",
   "execution_count": 16,
   "metadata": {},
   "outputs": [],
   "source": [
    "# Loop thru all the conversation_id unique values\n",
    "#df = pd.DataFrame(columns=['Conversation', 'ident'])\n",
    "conversation_id = []\n",
    "conv_text = [] \n",
    "instr_id = []\n",
    "for i in tt2:\n",
    "    conv2 = ''\n",
    "    tti = tt[tt.conversation_id == i]\n",
    "    conv = ''\n",
    "    conv2 = ''\n",
    "    instr3 = tti['instruction_id']\n",
    "    instr_id.append(instr3.iloc[0])\n",
    "    for j in tti:\n",
    "        conv = tti['text']\n",
    "    for k in conv:\n",
    "        conv2 = conv2 + k + \" \"\n",
    "    conversation_id.append(i)\n",
    "    conv_text.append(conv2)"
   ]
  },
  {
   "cell_type": "code",
   "execution_count": 17,
   "metadata": {
    "scrolled": true
   },
   "outputs": [
    {
     "data": {
      "text/plain": [
       "[\"Hi, I'm looking to book a table for Korean fod. Ok, what area are you thinking about? Somewhere in Southern NYC, maybe the East Village? Ok, great.  There's Thursday Kitchen, it has great reviews. That's great. So I need a table for tonight at 7 pm for 8 people. We don't want to sit at the bar, but anywhere else is fine. They don't have any availability for 7 pm. What times are available? 5 or 8. Yikes, we can't do those times. Ok, do you have a second choice? Let me check. Ok. Lets try Boka, are they free for 8 people at 7? Yes. Great, let's book that. Ok great, are there any other requests? No, that's it, just book. Great, should I use your account you have open with them? Yes please. Great. You will get a confirmation to your phone soon. \",\n",
       " \"Hi I would like to see if the Movie What Men Want is playing here. Yes it's showing here would you like to purchase a ticket? Yes, for me and a friend so two tickets please Okay. What time is that moving playing today? That movie is showing at 4, 5, and 8pm. Okay. Is there anymore movies showing around 8pm Yes , showing at 8pm is Green Book. What is that about? It's about two men dealing with racisim. Oh, no can you recommend anything else? What do you like? Well I like movies that are funny. Like comedies? Well no I like action as well. Okay. How to train your dragon is playing at 8pm. Okay can i get two tickets for that ? So you want me to cancel the tickets for What men want ? Yes please. Okay, no problem. How much will this cost. You said two adult tickets? Yes. Okay, that will be $20.80 Okay. Anything else I can help you with ? Yes can i bring my own food to theater. No, sorry you have to purchase food in the lobby. Okay that is fine. Thank you enjoy your movie \",\n",
       " \"I want to watch avengers endgame where do you want to watch it at? at bangkok close the hotel I a currently staying sounds good, what time do you want to watch the movie? 8 o'clock how many tickets? two and should we use the account we already have with the movie theater? yes It seems they do not have any movie at that time let's watch another movie then what other movie do you want to watch let's watch how to train your dragon the newest one yes, that one I don't think that movie is playing at that time either so neither choices are playing at the time I want to watch I am afraid so  I am no longer interested in watching the movie very well, have a great day sir thank you you are welcome \",\n",
       " \"I want to order a pizza from Bertuccis in Chelmsford, MA what type of pizza would you like?  a silano what size  a large please understood. will do thanks unfortunately bertuccis has run out of broccoli and so are not offering the silano style pizza today I see would you like a different type of pizza?  yes. i would like a sporkie pizza what size would you like?  large ok. I have confirmed your order for a large sporkie pizza at the bertuccis in chelmsford, ma very good would you like anything else?  no thank you you will be receiving a text message on your phone confirming the details of your order including the receipt and will be ready for pick up in 25 minutes great. thank you so much you're welcome. glad i could be of assistance \",\n",
       " \"Hi I'd like to order two large pizzas. Sure, what kind of pizzas to you have in mind? I'll have a Hawaiian please. sure, is there anything else I can get for you? Yes, I'd like a large meat lover pizza please. I am sorry, we're currently out of the meat lover pizza. Is there anything else you'd like instead? Sure. I'd like a buffalo chicken pizza please. Sure thing. What size do you want your buffalo chicken pizza? Large please. What kind of crust do you want for your Hawaiian pizza? Hand tossed please. What kind of crust do you want for you buffalo chicken pizza? Also hand tossed please. thank you very much. Is there anything else I can get for you? No, that's it for today. Thank you My pleasure. So we have a large, hand tossed crust buffalo chicken pizza and a large hand tossed crust Hawaiian pizza. Is that correct? Perfect So your total today will be $25  Sounds good Awesome. Can I have a name for the order please? It's John Doe Can I also have a phone number for order update? sure it123456789 ok, thank you very much. Your order will be ready to pick up in 25 minutes sounds good. Thank you My pleasure  \"]"
      ]
     },
     "execution_count": 17,
     "metadata": {},
     "output_type": "execute_result"
    }
   ],
   "source": [
    "# View the content of the concatenated conversation list, created by combining all 'text' fields per conversation_id\n",
    "conv_text[0:5]"
   ]
  },
  {
   "cell_type": "code",
   "execution_count": 18,
   "metadata": {},
   "outputs": [
    {
     "data": {
      "text/plain": [
       "['dlg-00055f4e-4a46-48bf-8d99-4e477663eb23',\n",
       " 'dlg-0009352b-de51-474b-9f13-a2b0b2481546',\n",
       " 'dlg-00123c7b-15a0-4f21-9002-a2509149ee2d',\n",
       " 'dlg-0013673c-31c6-4565-8fac-810e173a5c53',\n",
       " 'dlg-001d8bb1-6f25-4ecd-986a-b7eeb5fa4e19']"
      ]
     },
     "execution_count": 18,
     "metadata": {},
     "output_type": "execute_result"
    }
   ],
   "source": [
    "# View the content of the conversation_id list, which will be used to merge with original dataframe to match up topics\n",
    "conversation_id[0:5]"
   ]
  },
  {
   "cell_type": "code",
   "execution_count": 19,
   "metadata": {},
   "outputs": [
    {
     "data": {
      "text/plain": [
       "['restaurant-table-2',\n",
       " 'movie-tickets-1',\n",
       " 'movie-tickets-3',\n",
       " 'pizza-ordering-2',\n",
       " 'pizza-ordering-2']"
      ]
     },
     "execution_count": 19,
     "metadata": {},
     "output_type": "execute_result"
    }
   ],
   "source": [
    "instr_id[0:5]"
   ]
  },
  {
   "cell_type": "code",
   "execution_count": 20,
   "metadata": {},
   "outputs": [],
   "source": [
    "# Create a dictionary to store the conversation_id and text lists, which will be stored to a dataframe\n",
    "ex_dict = {'id':conversation_id, 'conv':conv_text, 'instr':instr_id}"
   ]
  },
  {
   "cell_type": "code",
   "execution_count": 21,
   "metadata": {
    "scrolled": true
   },
   "outputs": [
    {
     "data": {
      "text/html": [
       "<div>\n",
       "<style scoped>\n",
       "    .dataframe tbody tr th:only-of-type {\n",
       "        vertical-align: middle;\n",
       "    }\n",
       "\n",
       "    .dataframe tbody tr th {\n",
       "        vertical-align: top;\n",
       "    }\n",
       "\n",
       "    .dataframe thead th {\n",
       "        text-align: right;\n",
       "    }\n",
       "</style>\n",
       "<table border=\"1\" class=\"dataframe\">\n",
       "  <thead>\n",
       "    <tr style=\"text-align: right;\">\n",
       "      <th></th>\n",
       "      <th>id</th>\n",
       "      <th>Conversation</th>\n",
       "      <th>Instruction_id</th>\n",
       "    </tr>\n",
       "  </thead>\n",
       "  <tbody>\n",
       "    <tr>\n",
       "      <th>0</th>\n",
       "      <td>dlg-00055f4e-4a46-48bf-8d99-4e477663eb23</td>\n",
       "      <td>Hi, I'm looking to book a table for Korean fod...</td>\n",
       "      <td>restaurant-table-2</td>\n",
       "    </tr>\n",
       "    <tr>\n",
       "      <th>1</th>\n",
       "      <td>dlg-0009352b-de51-474b-9f13-a2b0b2481546</td>\n",
       "      <td>Hi I would like to see if the Movie What Men W...</td>\n",
       "      <td>movie-tickets-1</td>\n",
       "    </tr>\n",
       "    <tr>\n",
       "      <th>2</th>\n",
       "      <td>dlg-00123c7b-15a0-4f21-9002-a2509149ee2d</td>\n",
       "      <td>I want to watch avengers endgame where do you ...</td>\n",
       "      <td>movie-tickets-3</td>\n",
       "    </tr>\n",
       "    <tr>\n",
       "      <th>3</th>\n",
       "      <td>dlg-0013673c-31c6-4565-8fac-810e173a5c53</td>\n",
       "      <td>I want to order a pizza from Bertuccis in Chel...</td>\n",
       "      <td>pizza-ordering-2</td>\n",
       "    </tr>\n",
       "    <tr>\n",
       "      <th>4</th>\n",
       "      <td>dlg-001d8bb1-6f25-4ecd-986a-b7eeb5fa4e19</td>\n",
       "      <td>Hi I'd like to order two large pizzas. Sure, w...</td>\n",
       "      <td>pizza-ordering-2</td>\n",
       "    </tr>\n",
       "    <tr>\n",
       "      <th>...</th>\n",
       "      <td>...</td>\n",
       "      <td>...</td>\n",
       "      <td>...</td>\n",
       "    </tr>\n",
       "    <tr>\n",
       "      <th>7703</th>\n",
       "      <td>dlg-ffc0c5fb-573f-40e0-b739-0e55d84100e8</td>\n",
       "      <td>I feel like eating at a nice restaurant tonigh...</td>\n",
       "      <td>restaurant-table-1</td>\n",
       "    </tr>\n",
       "    <tr>\n",
       "      <th>7704</th>\n",
       "      <td>dlg-ffc87550-389a-432e-927e-9a9438fc4f1f</td>\n",
       "      <td>Hi Sally, I need a Grande iced Americano with ...</td>\n",
       "      <td>coffee-ordering-2</td>\n",
       "    </tr>\n",
       "    <tr>\n",
       "      <th>7705</th>\n",
       "      <td>dlg-ffcd1d53-c080-4acf-897d-48236513bc58</td>\n",
       "      <td>Good afternoon. I would like to order a pizza ...</td>\n",
       "      <td>pizza-ordering-2</td>\n",
       "    </tr>\n",
       "    <tr>\n",
       "      <th>7706</th>\n",
       "      <td>dlg-ffd9db94-36e3-4534-b99d-89f7560db17c</td>\n",
       "      <td>Hey. I'm thinking of seeing What Men Want toni...</td>\n",
       "      <td>movie-tickets-1</td>\n",
       "    </tr>\n",
       "    <tr>\n",
       "      <th>7707</th>\n",
       "      <td>dlg-fffa6565-32bb-4592-8d30-fff66df29633</td>\n",
       "      <td>Hello. Can you help me purchase a couple of mo...</td>\n",
       "      <td>movie-tickets-3</td>\n",
       "    </tr>\n",
       "  </tbody>\n",
       "</table>\n",
       "<p>7708 rows × 3 columns</p>\n",
       "</div>"
      ],
      "text/plain": [
       "                                            id  \\\n",
       "0     dlg-00055f4e-4a46-48bf-8d99-4e477663eb23   \n",
       "1     dlg-0009352b-de51-474b-9f13-a2b0b2481546   \n",
       "2     dlg-00123c7b-15a0-4f21-9002-a2509149ee2d   \n",
       "3     dlg-0013673c-31c6-4565-8fac-810e173a5c53   \n",
       "4     dlg-001d8bb1-6f25-4ecd-986a-b7eeb5fa4e19   \n",
       "...                                        ...   \n",
       "7703  dlg-ffc0c5fb-573f-40e0-b739-0e55d84100e8   \n",
       "7704  dlg-ffc87550-389a-432e-927e-9a9438fc4f1f   \n",
       "7705  dlg-ffcd1d53-c080-4acf-897d-48236513bc58   \n",
       "7706  dlg-ffd9db94-36e3-4534-b99d-89f7560db17c   \n",
       "7707  dlg-fffa6565-32bb-4592-8d30-fff66df29633   \n",
       "\n",
       "                                           Conversation      Instruction_id  \n",
       "0     Hi, I'm looking to book a table for Korean fod...  restaurant-table-2  \n",
       "1     Hi I would like to see if the Movie What Men W...     movie-tickets-1  \n",
       "2     I want to watch avengers endgame where do you ...     movie-tickets-3  \n",
       "3     I want to order a pizza from Bertuccis in Chel...    pizza-ordering-2  \n",
       "4     Hi I'd like to order two large pizzas. Sure, w...    pizza-ordering-2  \n",
       "...                                                 ...                 ...  \n",
       "7703  I feel like eating at a nice restaurant tonigh...  restaurant-table-1  \n",
       "7704  Hi Sally, I need a Grande iced Americano with ...   coffee-ordering-2  \n",
       "7705  Good afternoon. I would like to order a pizza ...    pizza-ordering-2  \n",
       "7706  Hey. I'm thinking of seeing What Men Want toni...     movie-tickets-1  \n",
       "7707  Hello. Can you help me purchase a couple of mo...     movie-tickets-3  \n",
       "\n",
       "[7708 rows x 3 columns]"
      ]
     },
     "execution_count": 21,
     "metadata": {},
     "output_type": "execute_result"
    }
   ],
   "source": [
    "# Create a dataframe with the conversation id and conversation\n",
    "df = pd.DataFrame(ex_dict)\n",
    "df.columns = ['id', 'Conversation','Instruction_id']\n",
    "df"
   ]
  },
  {
   "cell_type": "code",
   "execution_count": 22,
   "metadata": {},
   "outputs": [
    {
     "data": {
      "text/plain": [
       "0    Hi, I'm looking to book a table for Korean fod...\n",
       "1    Hi I would like to see if the Movie What Men W...\n",
       "2    I want to watch avengers endgame where do you ...\n",
       "Name: Conversation, dtype: object"
      ]
     },
     "execution_count": 22,
     "metadata": {},
     "output_type": "execute_result"
    }
   ],
   "source": [
    "# View first three rows of the data frame conversation columns\n",
    "df['Conversation'][0:3]"
   ]
  },
  {
   "cell_type": "code",
   "execution_count": 23,
   "metadata": {},
   "outputs": [],
   "source": [
    "# Export the dataframe to csv to confirm content\n",
    "df.to_csv(r'./data/DF_selfDialogs.csv', index=False)"
   ]
  },
  {
   "cell_type": "code",
   "execution_count": null,
   "metadata": {},
   "outputs": [],
   "source": []
  }
 ],
 "metadata": {
  "kernelspec": {
   "display_name": "Python 3",
   "language": "python",
   "name": "python3"
  },
  "language_info": {
   "codemirror_mode": {
    "name": "ipython",
    "version": 3
   },
   "file_extension": ".py",
   "mimetype": "text/x-python",
   "name": "python",
   "nbconvert_exporter": "python",
   "pygments_lexer": "ipython3",
   "version": "3.7.6"
  }
 },
 "nbformat": 4,
 "nbformat_minor": 4
}
